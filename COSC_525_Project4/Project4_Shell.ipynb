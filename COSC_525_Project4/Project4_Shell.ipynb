{
 "cells": [
  {
   "cell_type": "markdown",
   "id": "2adb05c1",
   "metadata": {},
   "source": [
    "# Project 4\n",
    "## Students:\n",
    " - Bryson Gullett\n",
    " - Robert Schaffer\n",
    " - Matthew Dixson\n",
    " "
   ]
  },
  {
   "cell_type": "code",
   "execution_count": 57,
   "id": "563a5a83",
   "metadata": {
    "tags": []
   },
   "outputs": [],
   "source": [
    "import tensorflow as tf\n",
    "from tensorflow import keras\n",
    "from tensorflow import optimizers\n",
    "from tensorflow.keras import layers\n",
    "import numpy as np\n",
    "import re\n",
    "import random as rand"
   ]
  },
  {
   "cell_type": "code",
   "execution_count": 58,
   "id": "b2ebf08e",
   "metadata": {
    "tags": []
   },
   "outputs": [
    {
     "name": "stdout",
     "output_type": "stream",
     "text": [
      "2.10.0\n"
     ]
    }
   ],
   "source": [
    "print(tf.__version__)# you may want to upgrade to 2.10.0"
   ]
  },
  {
   "cell_type": "markdown",
   "id": "17a95a42",
   "metadata": {},
   "source": [
    "### Please Use Markdown\n",
    "> for markdown, see here: https://www.ibm.com/docs/en/watson-studio-local/1.2.3?topic=notebooks-markdown-jupyter-cheatsheet"
   ]
  },
  {
   "cell_type": "markdown",
   "id": "ddae40d9",
   "metadata": {},
   "source": [
    "## Task 1"
   ]
  },
  {
   "cell_type": "code",
   "execution_count": 59,
   "id": "2493f996",
   "metadata": {
    "tags": []
   },
   "outputs": [
    {
     "name": "stdout",
     "output_type": "stream",
     "text": [
      "Model: \"model_35\"\n",
      "__________________________________________________________________________________________________\n",
      " Layer (type)                   Output Shape         Param #     Connected to                     \n",
      "==================================================================================================\n",
      " input_36 (InputLayer)          [(None, 80)]         0           []                               \n",
      "                                                                                                  \n",
      " lambda_35 (Lambda)             (None, 80)           0           ['input_36[0][0]']               \n",
      "                                                                                                  \n",
      " embedding_70 (Embedding)       (None, 80, 256)      256000      ['input_36[0][0]']               \n",
      "                                                                                                  \n",
      " embedding_71 (Embedding)       (None, 80, 256)      20480       ['lambda_35[0][0]']              \n",
      "                                                                                                  \n",
      " add_225 (Add)                  (None, 80, 256)      0           ['embedding_70[0][0]',           \n",
      "                                                                  'embedding_71[0][0]']           \n",
      "                                                                                                  \n",
      " multi_head_attention_95 (Multi  (None, 80, 256)     4364        ['add_225[0][0]',                \n",
      " HeadAttention)                                                   'add_225[0][0]']                \n",
      "                                                                                                  \n",
      " add_226 (Add)                  (None, 80, 256)      0           ['multi_head_attention_95[0][0]',\n",
      "                                                                  'add_225[0][0]']                \n",
      "                                                                                                  \n",
      " layer_normalization_190 (Layer  (None, 80, 256)     512         ['add_226[0][0]']                \n",
      " Normalization)                                                                                   \n",
      "                                                                                                  \n",
      " dense_225 (Dense)              (None, 80, 256)      65792       ['layer_normalization_190[0][0]']\n",
      "                                                                                                  \n",
      " dense_226 (Dense)              (None, 80, 256)      65792       ['dense_225[0][0]']              \n",
      "                                                                                                  \n",
      " dropout_95 (Dropout)           (None, 80, 256)      0           ['dense_226[0][0]']              \n",
      "                                                                                                  \n",
      " add_227 (Add)                  (None, 80, 256)      0           ['dropout_95[0][0]',             \n",
      "                                                                  'layer_normalization_190[0][0]']\n",
      "                                                                                                  \n",
      " layer_normalization_191 (Layer  (None, 80, 256)     512         ['add_227[0][0]']                \n",
      " Normalization)                                                                                   \n",
      "                                                                                                  \n",
      " dense_227 (Dense)              (None, 80, 1000)     257000      ['layer_normalization_191[0][0]']\n",
      "                                                                                                  \n",
      "==================================================================================================\n",
      "Total params: 670,452\n",
      "Trainable params: 670,452\n",
      "Non-trainable params: 0\n",
      "__________________________________________________________________________________________________\n",
      "None\n"
     ]
    }
   ],
   "source": [
    "class TransformerModel():\n",
    "    def __init__(self, vocab_size, embed_dim=256, num_heads=2, num_blocks=1, ff_dim=256, maxlen=80, rate=0.1):\n",
    "        #initailize variables\n",
    "        self.vocab_size = vocab_size\n",
    "        self.embed_dim = embed_dim\n",
    "        self.num_heads = num_heads\n",
    "        self.num_blocks = num_blocks\n",
    "        self.ff_dim = ff_dim\n",
    "        self.maxlen = maxlen\n",
    "        self.rate = rate\n",
    "\n",
    "    def TransformerBlock(self, inputs):\n",
    "        #create the transformer block as discribed in the writeup, use the Keras functional API (https://keras.io/guides/functional_api/)\n",
    "        #MultiHeadAttention layer, specifiy 'use_causal_mask=True' (https://keras.io/api/layers/attention_layers/multi_head_attention/)\n",
    "        #LayerNormalization layer, specifiy 'epsilon=1e-6' (https://keras.io/api/layers/normalization_layers/layer_normalization/)\n",
    "        #Use the rate variable for the dropout layers and remember to use two dense layers\n",
    "        #See assignment and its figures for more details.\n",
    "        multihead_atten = layers.MultiHeadAttention(num_heads=self.num_heads, key_dim=self.num_heads, dropout=self.rate)(inputs, inputs, use_causal_mask=True)\n",
    "        add1 = layers.Add()([multihead_atten, inputs])\n",
    "        layer_norm1 = layers.LayerNormalization(epsilon=1e-6)(add1)\n",
    "        dense1 = layers.Dense(self.ff_dim, activation='relu')(layer_norm1)\n",
    "        dense2 = layers.Dense(self.ff_dim, activation='relu')(dense1)\n",
    "        dropout1 = layers.Dropout(self.rate)(dense2)\n",
    "        add2 = layers.Add()([dropout1, layer_norm1])\n",
    "        layer_norm2 = layers.LayerNormalization(epsilon=1e-6)(add2)\n",
    "\n",
    "        return layer_norm2\n",
    "    \n",
    "    def EmbeddingLayer(self, inputs):\n",
    "        #create the embedding layer\n",
    "        #create (1) an embedding for the tokens and (2) an embedding for the positions\n",
    "        #you can use https://keras.io/api/layers/core_layers/embedding/ Embedding class\n",
    "        #you can use tf.range to enocde positions\n",
    "        #add (1) and (2) and return the layer\n",
    "        positions = layers.Lambda(lambda x: tf.multiply(tf.ones_like(x, dtype='int32'), tf.range(self.maxlen)))(inputs)\n",
    "        token_embeddings = layers.Embedding(self.vocab_size, self.embed_dim, input_length=self.maxlen)(inputs)\n",
    "        position_embeddings = layers.Embedding(self.maxlen, self.embed_dim, input_length=self.maxlen)(positions)\n",
    "\n",
    "        add = layers.Add()([token_embeddings, position_embeddings])\n",
    "        return add\n",
    "    \n",
    "    def create_model(self):\n",
    "        #combine the EmbeddingLayer and num_blocks TransformerBlocks to create the model, use the Keras functional API (https://keras.io/guides/functional_api/)\n",
    "        #use the SparseCategoricalCrossentropy loss function (https://keras.io/api/losses/probabilistic_losses/#sparsecategoricalcrossentropy-class)\n",
    "        inputs = keras.Input(shape=(self.maxlen,))\n",
    "        embedding_layer = self.EmbeddingLayer(inputs)\n",
    "        prev_layer = embedding_layer\n",
    "        for _ in range(self.num_blocks):\n",
    "            transformer_block = self.TransformerBlock(prev_layer)\n",
    "            prev_layer = transformer_block\n",
    "        final_dense = layers.Dense(self.vocab_size, activation='softmax')(prev_layer)\n",
    "        model = keras.Model(inputs=inputs, outputs=final_dense)\n",
    "        self.opt = optimizers.Adam(learning_rate=0.0001)\n",
    "        self.loss = keras.losses.SparseCategoricalCrossentropy(from_logits=True)\n",
    "        model.compile(loss=keras.losses.SparseCategoricalCrossentropy, optimizer=self.opt)\n",
    "        return model\n",
    "    \n",
    "my_model = TransformerModel(1000)\n",
    "print(my_model.create_model().summary())"
   ]
  },
  {
   "cell_type": "markdown",
   "id": "c5ad747b",
   "metadata": {},
   "source": [
    "## Task 2"
   ]
  },
  {
   "cell_type": "code",
   "execution_count": 60,
   "id": "227111a5",
   "metadata": {
    "tags": []
   },
   "outputs": [],
   "source": [
    "class DataSet():\n",
    "    def __init__(self, filename, len):\n",
    "        #load the text from the file\n",
    "        self.text = ''\n",
    "        self.len = len\n",
    "        with open(filename) as fin:\n",
    "            for line in fin:\n",
    "                self.text += line\n",
    "\n",
    "    def prep_text(self):\n",
    "        #remove all punctuation, set to lowercase, remove duplicate spaces and other whitespace (keep newlines)\n",
    "        self.text = re.sub(r'[^\\w\\s]', ' ', self.text)\n",
    "        self.text = re.sub(r' +', ' ', self.text)\n",
    "        self.text = re.sub(r'â', '', self.text)\n",
    "        \n",
    "        \n",
    "        \n",
    "        \n",
    "    def tokenize_text(self):\n",
    "        #seperate into words, create a vocab and convert the text to a list of numbers using the vocab such that each unique word is represented by its own number number\n",
    "        self.text = self.text.split()\n",
    "        self.vocab = np.unique(self.text)\n",
    "        self.vocab = np.append(self.vocab, ['PAD'])\n",
    "        self.vocab_nums = [i for i in range(len(self.vocab))]\n",
    "        self.vocab_dict = dict(zip(self.vocab, self.vocab_nums))\n",
    "        \n",
    "\n",
    "    def create_dataset(self):\n",
    "        #split the tokenized data into sequences of length len, return the sequences and vocab\n",
    "        self.prep_text()\n",
    "        self.tokenize_text()\n",
    "        X = []\n",
    "        Y = []\n",
    "        for i in range(int(len(self.text)/self.len)+1):\n",
    "            sequence_X = []\n",
    "            sequence_Y = []\n",
    "            for j in range(self.len):\n",
    "                if i*self.len+j < len(self.text):\n",
    "                    sequence_X.append(self.vocab_dict[self.text[i*self.len+j]])\n",
    "                else:\n",
    "                    sequence_X.append(self.vocab_dict['PAD'])\n",
    "                if i*self.len+j+1 < len(self.text):\n",
    "                    #y = np.zeros(len(self.vocab))\n",
    "                    #y[self.vocab_dict[self.text[i*self.len+j+1]]] = 1\n",
    "                    #y = [0 if self.vocab_dict[self.text[i*self.len+j+1]] != k else 1 for k in range(len(self.vocab))]\n",
    "                    sequence_Y.append(self.vocab_dict[self.text[i*self.len+j+1])\n",
    "                else:\n",
    "                    #y = np.zeros(len(self.vocab))\n",
    "                    #y[self.vocab_dict['PAD']] = 1\n",
    "                    #y = [0 if self.vocab_dict['PAD'] != k else 1 for k in range(len(self.vocab))]\n",
    "                    sequence_Y.append([self.vocab_dict['PAD']])\n",
    "            X.append(sequence_X)\n",
    "            Y.append(sequence_Y)\n",
    "        return X, Y, self.vocab"
   ]
  },
  {
   "cell_type": "markdown",
   "id": "39c3a399",
   "metadata": {},
   "source": [
    "## Task 3"
   ]
  },
  {
   "cell_type": "code",
   "execution_count": 61,
   "id": "6ffe1274",
   "metadata": {
    "tags": []
   },
   "outputs": [],
   "source": [
    "class GenerateText():\n",
    "    def __init__(self, model, vocab, vocab_dict):\n",
    "        self.model = model\n",
    "        self.vocab = vocab\n",
    "        self.vocab_dict = vocab_dict\n",
    "    \n",
    "    def generate_text(self, start_string, num_generate=100, seq_len=80):\n",
    "        #generate text using the model and vocab, start with the start_string and generate num_generate words\n",
    "        model_input = [self.vocab_dict['PAD'] for _ in range(seq_len)]\n",
    "        \n",
    "        #Text is the output of generate_text()\n",
    "        text = start_string\n",
    "        #Tokenize string to encode into integers\n",
    "        start_string = start_string.split()\n",
    "        #Get starting index for first word generated\n",
    "        next_index = len(start_string)\n",
    "        #Generate model input\n",
    "        for i in range(len(start_string)):\n",
    "            model_input[i] = self.vocab_dict[start_string[i]]\n",
    "        \n",
    "        #Generate text\n",
    "        for i in range(num_generate):\n",
    "            prediction = self.model.predict(np.array([model_input]))\n",
    "            # print(len(prediction))\n",
    "            # print(len(prediction[0]))\n",
    "            # print(len(prediction[0][0]))\n",
    "            word_index = np.argmax(prediction[0][next_index])\n",
    "            next_index += 1\n",
    "            if word_index >= len(self.vocab):\n",
    "                print('Invalid word index: ', word_index, \"Valid max word index = \", len(self.vocab))\n",
    "                word_index = self.vocab_dict['PAD']\n",
    "            if next_index < seq_len:\n",
    "                model_input[next_index] = word_index\n",
    "            else:\n",
    "                model_input.pop(0)\n",
    "                model_input.append(word_index)\n",
    "                next_index -= 1\n",
    "          \n",
    "            next_word = self.vocab[word_index]\n",
    "            text += ' ' + next_word\n",
    "            # print(model_input)\n",
    "        return text\n",
    "    \n",
    "    def generate_random_text(self, num_generate=100):\n",
    "        text = ''\n",
    "        for _ in range(num_generate):\n",
    "            word = self.vocab[rand.randrange(len(self.vocab))]\n",
    "            text += word + ' '\n",
    "            if word == 'PAD':\n",
    "                break\n",
    "        return text   "
   ]
  },
  {
   "cell_type": "code",
   "execution_count": 62,
   "id": "be2de790-3a54-4723-a0f9-956d8485fb9d",
   "metadata": {
    "tags": []
   },
   "outputs": [
    {
     "name": "stdout",
     "output_type": "stream",
     "text": [
      "WARNING:tensorflow:5 out of the last 11 calls to <function Model.make_predict_function.<locals>.predict_function at 0x000001BF3F0E79D0> triggered tf.function retracing. Tracing is expensive and the excessive number of tracings could be due to (1) creating @tf.function repeatedly in a loop, (2) passing tensors with different shapes, (3) passing Python objects instead of tensors. For (1), please define your @tf.function outside of the loop. For (2), @tf.function has reduce_retracing=True option that can avoid unnecessary retracing. For (3), please refer to https://www.tensorflow.org/guide/function#controlling_retracing and https://www.tensorflow.org/api_docs/python/tf/function for  more details.\n",
      "1/1 [==============================] - 1s 849ms/step\n",
      "WARNING:tensorflow:5 out of the last 11 calls to <function Model.make_predict_function.<locals>.predict_function at 0x000001BF3F0E79D0> triggered tf.function retracing. Tracing is expensive and the excessive number of tracings could be due to (1) creating @tf.function repeatedly in a loop, (2) passing tensors with different shapes, (3) passing Python objects instead of tensors. For (1), please define your @tf.function outside of the loop. For (2), @tf.function has reduce_retracing=True option that can avoid unnecessary retracing. For (3), please refer to https://www.tensorflow.org/guide/function#controlling_retracing and https://www.tensorflow.org/api_docs/python/tf/function for  more details.\n",
      "1/1 [==============================] - 1s 521ms/step\n",
      "1/1 [==============================] - 0s 48ms/step\n",
      "1/1 [==============================] - 0s 52ms/step\n",
      "1/1 [==============================] - 0s 48ms/step\n",
      "i read a crowd of people poop think hai al penny\n",
      "beautiful ah all dime being \n"
     ]
    }
   ],
   "source": [
    "data = DataSet('beatles.txt', 80)\n",
    "_, _, vocab = data.create_dataset()\n",
    "transformer = TransformerModel(len(vocab))\n",
    "model = transformer.create_model()\n",
    "text = GenerateText(model, vocab, data.vocab_dict)\n",
    "out = text.generate_text(\"i read a crowd of people\", num_generate=5)\n",
    "print(out)\n",
    "out = text.generate_random_text(num_generate=5)\n",
    "print(out)\n",
    "# print(len(out.split()))"
   ]
  },
  {
   "cell_type": "markdown",
   "id": "edd0bd9d",
   "metadata": {},
   "source": [
    "## Task 4: Model Traning and Testing"
   ]
  },
  {
   "cell_type": "code",
   "execution_count": 95,
   "id": "1b59dd48",
   "metadata": {},
   "outputs": [],
   "source": [
    "#Train the model while periodically generating text to show progress\n",
    "def train_model(model, vocab, X, Y, epochs=50):\n",
    "    # https://keras.io/guides/writing_a_training_loop_from_scratch/\n",
    "    loss_fn = tf.keras.losses.SparseCategoricalCrossentropy(from_logits=True)\n",
    "    for _ in range(epochs):\n",
    "        \n",
    "        # Open a GradientTape to record the operations run\n",
    "        # during the forward pass, which enables auto-differentiation.\n",
    "        with tf.GradientTape() as tape:\n",
    "\n",
    "            # Run the forward pass of the layer.\n",
    "            # The operations that the layer applies\n",
    "            # to its inputs are going to be recorded\n",
    "            # on the GradientTape.\n",
    "            logits = model(X, training=True).numpy()  # Logits for this minibatch\n",
    "            # print(logits)\n",
    "            # Compute the loss value for this minibatch.\n",
    "            print(Y.shape)\n",
    "            print(logits.shape)\n",
    "            loss_value = loss_fn(Y.reshape(1,452, 80, 2506), logits)\n",
    "\n",
    "        # Use the gradient tape to automatically retrieve\n",
    "        # the gradients of the trainable variables with respect to the loss.\n",
    "        print(loss_value)\n",
    "        grads = tape.gradient(loss_value, model.trainable_weights)\n",
    "\n",
    "        # Run one step of gradient descent by updating\n",
    "        # the value of the variables to minimize the loss.\n",
    "        model.optimizer.apply_gradients(zip(grads, model.trainable_weights))\n",
    "\n",
    "\n",
    "\n",
    "        # model.fit(x,y)\n",
    "        # text = GenerateText(model, vocab, data.vocab_dict)\n",
    "        # out = text.generate_random_text(num_generate=10)\n",
    "        # print(out)\n",
    "\n",
    "    return model"
   ]
  },
  {
   "cell_type": "code",
   "execution_count": 97,
   "id": "cb1fa030",
   "metadata": {},
   "outputs": [
    {
     "name": "stdout",
     "output_type": "stream",
     "text": [
      "(452, 80, 2506)\n",
      "(452, 80, 2506)\n"
     ]
    },
    {
     "ename": "ValueError",
     "evalue": "`labels.shape` must equal `logits.shape` except for the last dimension. Received: labels.shape=(90616960,) and logits.shape=(36160, 2506)",
     "output_type": "error",
     "traceback": [
      "\u001b[1;31m---------------------------------------------------------------------------\u001b[0m",
      "\u001b[1;31mValueError\u001b[0m                                Traceback (most recent call last)",
      "Cell \u001b[1;32mIn[97], line 17\u001b[0m\n\u001b[0;32m     14\u001b[0m     \u001b[39m# print(Y[0].shape)\u001b[39;00m\n\u001b[0;32m     15\u001b[0m Y \u001b[39m=\u001b[39m np\u001b[39m.\u001b[39masarray(Y)\n\u001b[1;32m---> 17\u001b[0m train_model(model, vocab, X, Y)\n\u001b[0;32m     18\u001b[0m \u001b[39m# text = GenerateText(model, vocab, data.vocab_dict)\u001b[39;00m\n\u001b[0;32m     19\u001b[0m \u001b[39m# out = text.generate_text(\"i read a crowd of people\", num_generate=5)\u001b[39;00m\n\u001b[0;32m     20\u001b[0m \u001b[39m# print(out)\u001b[39;00m\n",
      "Cell \u001b[1;32mIn[95], line 20\u001b[0m, in \u001b[0;36mtrain_model\u001b[1;34m(model, vocab, X, Y, epochs)\u001b[0m\n\u001b[0;32m     18\u001b[0m     \u001b[39mprint\u001b[39m(Y\u001b[39m.\u001b[39mshape)\n\u001b[0;32m     19\u001b[0m     \u001b[39mprint\u001b[39m(logits\u001b[39m.\u001b[39mshape)\n\u001b[1;32m---> 20\u001b[0m     loss_value \u001b[39m=\u001b[39m loss_fn(Y\u001b[39m.\u001b[39;49mreshape(\u001b[39m1\u001b[39;49m,\u001b[39m452\u001b[39;49m, \u001b[39m80\u001b[39;49m, \u001b[39m2506\u001b[39;49m), logits)\n\u001b[0;32m     22\u001b[0m \u001b[39m# Use the gradient tape to automatically retrieve\u001b[39;00m\n\u001b[0;32m     23\u001b[0m \u001b[39m# the gradients of the trainable variables with respect to the loss.\u001b[39;00m\n\u001b[0;32m     24\u001b[0m \u001b[39mprint\u001b[39m(loss_value)\n",
      "File \u001b[1;32mc:\\Users\\matth\\OneDrive\\Documents\\notes\\525\\CS525_Projects\\.venv\\lib\\site-packages\\keras\\losses.py:152\u001b[0m, in \u001b[0;36mLoss.__call__\u001b[1;34m(self, y_true, y_pred, sample_weight)\u001b[0m\n\u001b[0;32m    148\u001b[0m \u001b[39melse\u001b[39;00m:\n\u001b[0;32m    149\u001b[0m     call_fn \u001b[39m=\u001b[39m tf\u001b[39m.\u001b[39m__internal__\u001b[39m.\u001b[39mautograph\u001b[39m.\u001b[39mtf_convert(\n\u001b[0;32m    150\u001b[0m         \u001b[39mself\u001b[39m\u001b[39m.\u001b[39mcall, tf\u001b[39m.\u001b[39m__internal__\u001b[39m.\u001b[39mautograph\u001b[39m.\u001b[39mcontrol_status_ctx()\n\u001b[0;32m    151\u001b[0m     )\n\u001b[1;32m--> 152\u001b[0m losses \u001b[39m=\u001b[39m call_fn(y_true, y_pred)\n\u001b[0;32m    153\u001b[0m mask \u001b[39m=\u001b[39m losses_utils\u001b[39m.\u001b[39mget_mask(losses)\n\u001b[0;32m    154\u001b[0m reduction \u001b[39m=\u001b[39m \u001b[39mself\u001b[39m\u001b[39m.\u001b[39m_get_reduction()\n",
      "File \u001b[1;32mc:\\Users\\matth\\OneDrive\\Documents\\notes\\525\\CS525_Projects\\.venv\\lib\\site-packages\\keras\\losses.py:272\u001b[0m, in \u001b[0;36mLossFunctionWrapper.call\u001b[1;34m(self, y_true, y_pred)\u001b[0m\n\u001b[0;32m    265\u001b[0m     y_pred, y_true \u001b[39m=\u001b[39m losses_utils\u001b[39m.\u001b[39msqueeze_or_expand_dimensions(\n\u001b[0;32m    266\u001b[0m         y_pred, y_true\n\u001b[0;32m    267\u001b[0m     )\n\u001b[0;32m    269\u001b[0m ag_fn \u001b[39m=\u001b[39m tf\u001b[39m.\u001b[39m__internal__\u001b[39m.\u001b[39mautograph\u001b[39m.\u001b[39mtf_convert(\n\u001b[0;32m    270\u001b[0m     \u001b[39mself\u001b[39m\u001b[39m.\u001b[39mfn, tf\u001b[39m.\u001b[39m__internal__\u001b[39m.\u001b[39mautograph\u001b[39m.\u001b[39mcontrol_status_ctx()\n\u001b[0;32m    271\u001b[0m )\n\u001b[1;32m--> 272\u001b[0m \u001b[39mreturn\u001b[39;00m ag_fn(y_true, y_pred, \u001b[39m*\u001b[39;49m\u001b[39m*\u001b[39;49m\u001b[39mself\u001b[39;49m\u001b[39m.\u001b[39;49m_fn_kwargs)\n",
      "File \u001b[1;32mc:\\Users\\matth\\OneDrive\\Documents\\notes\\525\\CS525_Projects\\.venv\\lib\\site-packages\\tensorflow\\python\\util\\traceback_utils.py:153\u001b[0m, in \u001b[0;36mfilter_traceback.<locals>.error_handler\u001b[1;34m(*args, **kwargs)\u001b[0m\n\u001b[0;32m    151\u001b[0m \u001b[39mexcept\u001b[39;00m \u001b[39mException\u001b[39;00m \u001b[39mas\u001b[39;00m e:\n\u001b[0;32m    152\u001b[0m   filtered_tb \u001b[39m=\u001b[39m _process_traceback_frames(e\u001b[39m.\u001b[39m__traceback__)\n\u001b[1;32m--> 153\u001b[0m   \u001b[39mraise\u001b[39;00m e\u001b[39m.\u001b[39mwith_traceback(filtered_tb) \u001b[39mfrom\u001b[39;00m \u001b[39mNone\u001b[39;00m\n\u001b[0;32m    154\u001b[0m \u001b[39mfinally\u001b[39;00m:\n\u001b[0;32m    155\u001b[0m   \u001b[39mdel\u001b[39;00m filtered_tb\n",
      "File \u001b[1;32mc:\\Users\\matth\\OneDrive\\Documents\\notes\\525\\CS525_Projects\\.venv\\lib\\site-packages\\keras\\losses.py:2084\u001b[0m, in \u001b[0;36msparse_categorical_crossentropy\u001b[1;34m(y_true, y_pred, from_logits, axis, ignore_class)\u001b[0m\n\u001b[0;32m   2034\u001b[0m \u001b[39m@keras_export\u001b[39m(\n\u001b[0;32m   2035\u001b[0m     \u001b[39m\"\u001b[39m\u001b[39mkeras.metrics.sparse_categorical_crossentropy\u001b[39m\u001b[39m\"\u001b[39m,\n\u001b[0;32m   2036\u001b[0m     \u001b[39m\"\u001b[39m\u001b[39mkeras.losses.sparse_categorical_crossentropy\u001b[39m\u001b[39m\"\u001b[39m,\n\u001b[1;32m   (...)\u001b[0m\n\u001b[0;32m   2040\u001b[0m     y_true, y_pred, from_logits\u001b[39m=\u001b[39m\u001b[39mFalse\u001b[39;00m, axis\u001b[39m=\u001b[39m\u001b[39m-\u001b[39m\u001b[39m1\u001b[39m, ignore_class\u001b[39m=\u001b[39m\u001b[39mNone\u001b[39;00m\n\u001b[0;32m   2041\u001b[0m ):\n\u001b[0;32m   2042\u001b[0m \u001b[39m    \u001b[39m\u001b[39m\"\"\"Computes the sparse categorical crossentropy loss.\u001b[39;00m\n\u001b[0;32m   2043\u001b[0m \n\u001b[0;32m   2044\u001b[0m \u001b[39m    Standalone usage:\u001b[39;00m\n\u001b[1;32m   (...)\u001b[0m\n\u001b[0;32m   2082\u001b[0m \u001b[39m      Sparse categorical crossentropy loss value.\u001b[39;00m\n\u001b[0;32m   2083\u001b[0m \u001b[39m    \"\"\"\u001b[39;00m\n\u001b[1;32m-> 2084\u001b[0m     \u001b[39mreturn\u001b[39;00m backend\u001b[39m.\u001b[39;49msparse_categorical_crossentropy(\n\u001b[0;32m   2085\u001b[0m         y_true,\n\u001b[0;32m   2086\u001b[0m         y_pred,\n\u001b[0;32m   2087\u001b[0m         from_logits\u001b[39m=\u001b[39;49mfrom_logits,\n\u001b[0;32m   2088\u001b[0m         ignore_class\u001b[39m=\u001b[39;49mignore_class,\n\u001b[0;32m   2089\u001b[0m         axis\u001b[39m=\u001b[39;49maxis,\n\u001b[0;32m   2090\u001b[0m     )\n",
      "File \u001b[1;32mc:\\Users\\matth\\OneDrive\\Documents\\notes\\525\\CS525_Projects\\.venv\\lib\\site-packages\\keras\\backend.py:5634\u001b[0m, in \u001b[0;36msparse_categorical_crossentropy\u001b[1;34m(target, output, from_logits, axis, ignore_class)\u001b[0m\n\u001b[0;32m   5630\u001b[0m         res \u001b[39m=\u001b[39m tf\u001b[39m.\u001b[39mnn\u001b[39m.\u001b[39msparse_softmax_cross_entropy_with_logits(\n\u001b[0;32m   5631\u001b[0m             labels\u001b[39m=\u001b[39mtarget, logits\u001b[39m=\u001b[39moutput\n\u001b[0;32m   5632\u001b[0m         )\n\u001b[0;32m   5633\u001b[0m \u001b[39melse\u001b[39;00m:\n\u001b[1;32m-> 5634\u001b[0m     res \u001b[39m=\u001b[39m tf\u001b[39m.\u001b[39;49mnn\u001b[39m.\u001b[39;49msparse_softmax_cross_entropy_with_logits(\n\u001b[0;32m   5635\u001b[0m         labels\u001b[39m=\u001b[39;49mtarget, logits\u001b[39m=\u001b[39;49moutput\n\u001b[0;32m   5636\u001b[0m     )\n\u001b[0;32m   5638\u001b[0m \u001b[39mif\u001b[39;00m ignore_class \u001b[39mis\u001b[39;00m \u001b[39mnot\u001b[39;00m \u001b[39mNone\u001b[39;00m:\n\u001b[0;32m   5639\u001b[0m     res_shape \u001b[39m=\u001b[39m cast(output_shape[:\u001b[39m-\u001b[39m\u001b[39m1\u001b[39m], \u001b[39m\"\u001b[39m\u001b[39mint64\u001b[39m\u001b[39m\"\u001b[39m)\n",
      "\u001b[1;31mValueError\u001b[0m: `labels.shape` must equal `logits.shape` except for the last dimension. Received: labels.shape=(90616960,) and logits.shape=(36160, 2506)"
     ]
    }
   ],
   "source": [
    "data = DataSet('beatles.txt', 80)\n",
    "x, y, vocab = data.create_dataset()\n",
    "transformer = TransformerModel(len(vocab), num_blocks=3)\n",
    "model = transformer.create_model()\n",
    "\n",
    "X = []\n",
    "for e in x:\n",
    "    X.append(np.asarray(e).astype(np.int64))\n",
    "X = np.asarray(X)\n",
    "\n",
    "Y= []\n",
    "for i in y:\n",
    "    Y.append(np.asarray(i).astype(np.int64))\n",
    "    # print(Y[0].shape)\n",
    "Y = np.asarray(Y)\n",
    "\n",
    "train_model(model, vocab, X, Y)\n",
    "# text = GenerateText(model, vocab, data.vocab_dict)\n",
    "# out = text.generate_text(\"i read a crowd of people\", num_generate=5)\n",
    "# print(out)"
   ]
  },
  {
   "cell_type": "markdown",
   "id": "658fa81b",
   "metadata": {},
   "source": [
    "\n",
    "# Report"
   ]
  },
  {
   "cell_type": "markdown",
   "id": "f7b723a2",
   "metadata": {},
   "source": [
    "## Introduction"
   ]
  },
  {
   "cell_type": "markdown",
   "id": "6855b442",
   "metadata": {},
   "source": [
    "## Results"
   ]
  },
  {
   "cell_type": "markdown",
   "id": "7c41dc86",
   "metadata": {},
   "source": [
    "## Conclusion"
   ]
  },
  {
   "cell_type": "markdown",
   "id": "3812e555",
   "metadata": {},
   "source": [
    "## How to Run Code\n",
    "\n",
    "Please include any special libraries and list your tf version here."
   ]
  }
 ],
 "metadata": {
  "kernelspec": {
   "display_name": "Python 3 (ipykernel)",
   "language": "python",
   "name": "python3"
  },
  "language_info": {
   "codemirror_mode": {
    "name": "ipython",
    "version": 3
   },
   "file_extension": ".py",
   "mimetype": "text/x-python",
   "name": "python",
   "nbconvert_exporter": "python",
   "pygments_lexer": "ipython3",
   "version": "3.11.0"
  },
  "vscode": {
   "interpreter": {
    "hash": "e23b663014ca37592679400f38d6d04e3fc85e5c6f63651f80341cade9e63d21"
   }
  }
 },
 "nbformat": 4,
 "nbformat_minor": 5
}
