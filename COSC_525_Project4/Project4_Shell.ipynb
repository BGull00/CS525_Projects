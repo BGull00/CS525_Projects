{
 "cells": [
  {
   "cell_type": "markdown",
   "id": "2adb05c1",
   "metadata": {},
   "source": [
    "# Project 4\n",
    "## Students:\n",
    " - Bryson Gullett\n",
    " - Robert Schaffer\n",
    " - Matthew Dixson\n",
    " "
   ]
  },
  {
   "cell_type": "code",
   "execution_count": 1,
   "id": "563a5a83",
   "metadata": {
    "tags": []
   },
   "outputs": [],
   "source": [
    "import tensorflow as tf\n",
    "from tensorflow import keras\n",
    "from tensorflow import optimizers\n",
    "from tensorflow.keras import layers\n",
    "import numpy as np\n",
    "import re\n",
    "import random as rand"
   ]
  },
  {
   "cell_type": "code",
   "execution_count": 2,
   "id": "b2ebf08e",
   "metadata": {
    "tags": []
   },
   "outputs": [
    {
     "name": "stdout",
     "output_type": "stream",
     "text": [
      "2.12.0\n"
     ]
    }
   ],
   "source": [
    "print(tf.__version__)# you may want to upgrade to 2.10.0"
   ]
  },
  {
   "cell_type": "markdown",
   "id": "17a95a42",
   "metadata": {},
   "source": [
    "### Please Use Markdown\n",
    "> for markdown, see here: https://www.ibm.com/docs/en/watson-studio-local/1.2.3?topic=notebooks-markdown-jupyter-cheatsheet"
   ]
  },
  {
   "cell_type": "markdown",
   "id": "ddae40d9",
   "metadata": {},
   "source": [
    "## Task 1"
   ]
  },
  {
   "cell_type": "code",
   "execution_count": 3,
   "id": "2493f996",
   "metadata": {
    "tags": []
   },
   "outputs": [],
   "source": [
    "class TransformerModel():\n",
    "    def __init__(self, vocab_size, embed_dim=256, num_heads=2, num_blocks=1, ff_dim=256, maxlen=80, rate=0.1):\n",
    "        #initailize variables\n",
    "        self.vocab_size = vocab_size\n",
    "        self.embed_dim = embed_dim\n",
    "        self.num_heads = num_heads\n",
    "        self.num_blocks = num_blocks\n",
    "        self.ff_dim = ff_dim\n",
    "        self.maxlen = maxlen\n",
    "        self.rate = rate\n",
    "\n",
    "    def TransformerBlock(self, inputs):\n",
    "        #create the transformer block as discribed in the writeup, use the Keras functional API (https://keras.io/guides/functional_api/)\n",
    "        #MultiHeadAttention layer, specifiy 'use_causal_mask=True' (https://keras.io/api/layers/attention_layers/multi_head_attention/)\n",
    "        #LayerNormalization layer, specifiy 'epsilon=1e-6' (https://keras.io/api/layers/normalization_layers/layer_normalization/)\n",
    "        #Use the rate variable for the dropout layers and remember to use two dense layers\n",
    "        #See assignment and its figures for more details.\n",
    "        multihead_atten = layers.MultiHeadAttention(num_heads=self.num_heads, key_dim=self.num_heads, dropout=self.rate)(inputs, inputs, use_causal_mask=True)\n",
    "        add1 = layers.Add()([multihead_atten, inputs])\n",
    "        layer_norm1 = layers.LayerNormalization(epsilon=1e-6)(add1)\n",
    "        dense1 = layers.Dense(self.ff_dim, activation='relu')(layer_norm1)\n",
    "        dense2 = layers.Dense(self.ff_dim, activation='relu')(dense1)\n",
    "        dropout1 = layers.Dropout(self.rate)(dense2)\n",
    "        add2 = layers.Add()([dropout1, layer_norm1])\n",
    "        layer_norm2 = layers.LayerNormalization(epsilon=1e-6)(add2)\n",
    "\n",
    "        return layer_norm2\n",
    "    \n",
    "    def EmbeddingLayer(self, inputs):\n",
    "        #create the embedding layer\n",
    "        #create (1) an embedding for the tokens and (2) an embedding for the positions\n",
    "        #you can use https://keras.io/api/layers/core_layers/embedding/ Embedding class\n",
    "        #you can use tf.range to enocde positions\n",
    "        #add (1) and (2) and return the layer\n",
    "        token_embeddings = layers.Embedding(self.vocab_size, self.embed_dim, input_length=self.maxlen)(inputs)\n",
    "        position_embeddings = layers.Embedding(self.maxlen, self.embed_dim, input_length=self.maxlen)(tf.range(self.maxlen))\n",
    "\n",
    "        add = layers.Add()([token_embeddings, position_embeddings])\n",
    "        return add\n",
    "    \n",
    "    def create_model(self):\n",
    "        #combine the EmbeddingLayer and num_blocks TransformerBlocks to create the model, use the Keras functional API (https://keras.io/guides/functional_api/)\n",
    "        #use the SparseCategoricalCrossentropy loss function (https://keras.io/api/losses/probabilistic_losses/#sparsecategoricalcrossentropy-class)\n",
    "        inputs = keras.Input(shape=(self.maxlen,))\n",
    "        embedding_layer = self.EmbeddingLayer(inputs)\n",
    "        prev_layer = embedding_layer\n",
    "        for _ in range(self.num_blocks):\n",
    "            transformer_block = self.TransformerBlock(prev_layer)\n",
    "            prev_layer = transformer_block\n",
    "        final_dense = layers.Dense(self.vocab_size, activation='softmax')(prev_layer)\n",
    "        model = keras.Model(inputs=inputs, outputs=final_dense)\n",
    "        opt = optimizers.Adam(learning_rate=0.0001)\n",
    "        model.compile(loss=keras.losses.SparseCategoricalCrossentropy, optimizer=opt)\n",
    "        return model"
   ]
  },
  {
   "cell_type": "markdown",
   "id": "c5ad747b",
   "metadata": {},
   "source": [
    "## Task 2"
   ]
  },
  {
   "cell_type": "code",
   "execution_count": 4,
   "id": "227111a5",
   "metadata": {
    "tags": []
   },
   "outputs": [],
   "source": [
    "class DataSet():\n",
    "    def __init__(self, filename, len):\n",
    "        #load the text from the file\n",
    "        self.text = ''\n",
    "        self.len = len\n",
    "        with open(filename) as fin:\n",
    "            for line in fin:\n",
    "                self.text += line\n",
    "\n",
    "    def prep_text(self):\n",
    "        #remove all punctuation, set to lowercase, remove duplicate spaces and other whitespace (keep newlines)\n",
    "        self.text = re.sub(r'[^\\w\\s]', ' ', self.text)\n",
    "        self.text = re.sub(r' +', ' ', self.text)\n",
    "        self.text = re.sub(r'â', '', self.text)\n",
    "        \n",
    "        \n",
    "        \n",
    "        \n",
    "    def tokenize_text(self):\n",
    "        #seperate into words, create a vocab and convert the text to a list of numbers using the vocab such that each unique word is represented by its own number number\n",
    "        self.text = self.text.split()\n",
    "        self.vocab = np.unique(self.text)\n",
    "        self.vocab = np.append(self.vocab, ['PAD'])\n",
    "        self.vocab_nums = [i for i in range(len(self.vocab))]\n",
    "        self.vocab_dict = dict(zip(self.vocab, self.vocab_nums))\n",
    "        \n",
    "\n",
    "    def create_dataset(self):\n",
    "        #split the tokenized data into sequences of length len, return the sequences and vocab\n",
    "        self.prep_text()\n",
    "        self.tokenize_text()\n",
    "        X = []\n",
    "        Y = []\n",
    "        for i in range(int(len(self.text)/self.len)+1):\n",
    "            sequence_X = []\n",
    "            sequence_Y = []\n",
    "            for j in range(self.len):\n",
    "                if i*self.len+j < len(self.text):\n",
    "                    sequence_X.append(self.vocab_dict[self.text[i*self.len+j]])\n",
    "                else:\n",
    "                    sequence_X.append(self.vocab_dict['PAD'])\n",
    "                if i*self.len+j+1 < len(self.text):\n",
    "                    y = np.zeros(len(self.vocab))\n",
    "                    y[self.vocab_dict[self.text[i*self.len+j+1]]] = 1\n",
    "                    #y = [0 if self.vocab_dict[self.text[i*self.len+j+1]] != k else 1 for k in range(len(self.vocab))]\n",
    "                    sequence_Y.append(y)\n",
    "                else:\n",
    "                    y = np.zeros(len(self.vocab))\n",
    "                    y[self.vocab_dict['PAD']] = 1\n",
    "                    #y = [0 if self.vocab_dict['PAD'] != k else 1 for k in range(len(self.vocab))]\n",
    "                    sequence_Y.append(y)\n",
    "            X.append(sequence_X)\n",
    "            Y.append(sequence_Y)\n",
    "        return X, Y, self.vocab"
   ]
  },
  {
   "cell_type": "markdown",
   "id": "39c3a399",
   "metadata": {},
   "source": [
    "## Task 3"
   ]
  },
  {
   "cell_type": "code",
   "execution_count": 20,
   "id": "6ffe1274",
   "metadata": {
    "tags": []
   },
   "outputs": [],
   "source": [
    "class GenerateText():\n",
    "    def __init__(self, model, vocab, vocab_dict):\n",
    "        self.model = model\n",
    "        self.vocab = vocab\n",
    "        self.vocab_dict = vocab_dict\n",
    "    \n",
    "    def generate_text(self, start_string, num_generate=100, seq_len=80):\n",
    "        #generate text using the model and vocab, start with the start_string and generate num_generate words\n",
    "        model_input = [self.vocab_dict['PAD'] for _ in range(seq_len)]\n",
    "        \n",
    "        #Text is the output of generate_text()\n",
    "        text = start_string\n",
    "        #Tokenize string to encode into integers\n",
    "        start_string = start_string.split()\n",
    "        #Get starting index for first word generated\n",
    "        next_index = len(start_string)\n",
    "        #Generate model input\n",
    "        for i in range(len(start_string)):\n",
    "            model_input[i] = self.vocab_dict[start_string[i]]\n",
    "        \n",
    "        #Generate text\n",
    "        for i in range(num_generate):\n",
    "            print(np.array(model_input))\n",
    "            prediction = self.model.predict(np.array(model_input))\n",
    "            word_index = np.argmax(prediction[next_index])\n",
    "            if next_index < seq_len:\n",
    "                model_input[next_index] = word_index\n",
    "                next_index += 1\n",
    "            else:\n",
    "                model_input.pop()\n",
    "                model_input.append(word_index)\n",
    "                \n",
    "            next_word = self.vocab[word_index]\n",
    "            text += ' ' + next_word\n",
    "            print(model_input)\n",
    "        return text\n",
    "    \n",
    "    def generate_random_text(self, num_generate=100):\n",
    "        text = ''\n",
    "        for _ in range(num_generate):\n",
    "            word = self.vocab[rand.randrange(len(self.vocab))]\n",
    "            text += word + ' '\n",
    "            if word == 'PAD':\n",
    "                break\n",
    "        return text   "
   ]
  },
  {
   "cell_type": "code",
   "execution_count": 21,
   "id": "be2de790-3a54-4723-a0f9-956d8485fb9d",
   "metadata": {
    "tags": []
   },
   "outputs": [
    {
     "name": "stdout",
     "output_type": "stream",
     "text": [
      "[1463 1054 2505 2505 2505 2505 2505 2505 2505 2505 2505 2505 2505 2505\n",
      " 2505 2505 2505 2505 2505 2505 2505 2505 2505 2505 2505 2505 2505 2505\n",
      " 2505 2505 2505 2505 2505 2505 2505 2505 2505 2505 2505 2505 2505 2505\n",
      " 2505 2505 2505 2505 2505 2505 2505 2505 2505 2505 2505 2505 2505 2505\n",
      " 2505 2505 2505 2505 2505 2505 2505 2505 2505 2505 2505 2505 2505 2505\n",
      " 2505 2505 2505 2505 2505 2505 2505 2505 2505 2505]\n"
     ]
    },
    {
     "ename": "ValueError",
     "evalue": "in user code:\n\n    File \"D:\\School\\UTK_SPRING_2023\\Deep_Learning\\cs425-Env\\Lib\\site-packages\\keras\\engine\\training.py\", line 2169, in predict_function  *\n        return step_function(self, iterator)\n    File \"D:\\School\\UTK_SPRING_2023\\Deep_Learning\\cs425-Env\\Lib\\site-packages\\keras\\engine\\training.py\", line 2155, in step_function  **\n        outputs = model.distribute_strategy.run(run_step, args=(data,))\n    File \"D:\\School\\UTK_SPRING_2023\\Deep_Learning\\cs425-Env\\Lib\\site-packages\\keras\\engine\\training.py\", line 2143, in run_step  **\n        outputs = model.predict_step(data)\n    File \"D:\\School\\UTK_SPRING_2023\\Deep_Learning\\cs425-Env\\Lib\\site-packages\\keras\\engine\\training.py\", line 2111, in predict_step\n        return self(x, training=False)\n    File \"D:\\School\\UTK_SPRING_2023\\Deep_Learning\\cs425-Env\\Lib\\site-packages\\keras\\utils\\traceback_utils.py\", line 70, in error_handler\n        raise e.with_traceback(filtered_tb) from None\n\n    ValueError: Exception encountered when calling layer 'query' (type EinsumDense).\n    \n    Shape must be rank 3 but is rank 2\n    \t for 0th input and equation: abc,cde->abde for '{{node model_8/multi_head_attention_8/query/einsum/Einsum}} = Einsum[N=2, T=DT_FLOAT, equation=\"abc,cde->abde\"](model_8/add_24/add, model_8/multi_head_attention_8/query/einsum/Einsum/ReadVariableOp)' with input shapes: [80,256], [256,2,2].\n    \n    Call arguments received by layer 'query' (type EinsumDense):\n      • inputs=tf.Tensor(shape=(80, 256), dtype=float32)\n",
     "output_type": "error",
     "traceback": [
      "\u001b[1;31m---------------------------------------------------------------------------\u001b[0m",
      "\u001b[1;31mValueError\u001b[0m                                Traceback (most recent call last)",
      "Cell \u001b[1;32mIn[21], line 6\u001b[0m\n\u001b[0;32m      4\u001b[0m model \u001b[38;5;241m=\u001b[39m transformer\u001b[38;5;241m.\u001b[39mcreate_model()\n\u001b[0;32m      5\u001b[0m text \u001b[38;5;241m=\u001b[39m GenerateText(model, vocab, data\u001b[38;5;241m.\u001b[39mvocab_dict)\n\u001b[1;32m----> 6\u001b[0m \u001b[38;5;28mprint\u001b[39m(\u001b[43mtext\u001b[49m\u001b[38;5;241;43m.\u001b[39;49m\u001b[43mgenerate_text\u001b[49m\u001b[43m(\u001b[49m\u001b[38;5;124;43m\"\u001b[39;49m\u001b[38;5;124;43mnobody is\u001b[39;49m\u001b[38;5;124;43m\"\u001b[39;49m\u001b[43m)\u001b[49m)\n",
      "Cell \u001b[1;32mIn[20], line 24\u001b[0m, in \u001b[0;36mGenerateText.generate_text\u001b[1;34m(self, start_string, num_generate, seq_len)\u001b[0m\n\u001b[0;32m     22\u001b[0m \u001b[38;5;28;01mfor\u001b[39;00m i \u001b[38;5;129;01min\u001b[39;00m \u001b[38;5;28mrange\u001b[39m(num_generate):\n\u001b[0;32m     23\u001b[0m     \u001b[38;5;28mprint\u001b[39m(np\u001b[38;5;241m.\u001b[39marray(model_input))\n\u001b[1;32m---> 24\u001b[0m     prediction \u001b[38;5;241m=\u001b[39m \u001b[38;5;28;43mself\u001b[39;49m\u001b[38;5;241;43m.\u001b[39;49m\u001b[43mmodel\u001b[49m\u001b[38;5;241;43m.\u001b[39;49m\u001b[43mpredict\u001b[49m\u001b[43m(\u001b[49m\u001b[43mnp\u001b[49m\u001b[38;5;241;43m.\u001b[39;49m\u001b[43marray\u001b[49m\u001b[43m(\u001b[49m\u001b[43mmodel_input\u001b[49m\u001b[43m)\u001b[49m\u001b[43m)\u001b[49m\n\u001b[0;32m     25\u001b[0m     word_index \u001b[38;5;241m=\u001b[39m np\u001b[38;5;241m.\u001b[39margmax(prediction[next_index])\n\u001b[0;32m     26\u001b[0m     \u001b[38;5;28;01mif\u001b[39;00m next_index \u001b[38;5;241m<\u001b[39m seq_len:\n",
      "File \u001b[1;32mD:\\School\\UTK_SPRING_2023\\Deep_Learning\\cs425-Env\\Lib\\site-packages\\keras\\utils\\traceback_utils.py:70\u001b[0m, in \u001b[0;36mfilter_traceback.<locals>.error_handler\u001b[1;34m(*args, **kwargs)\u001b[0m\n\u001b[0;32m     67\u001b[0m     filtered_tb \u001b[38;5;241m=\u001b[39m _process_traceback_frames(e\u001b[38;5;241m.\u001b[39m__traceback__)\n\u001b[0;32m     68\u001b[0m     \u001b[38;5;66;03m# To get the full stack trace, call:\u001b[39;00m\n\u001b[0;32m     69\u001b[0m     \u001b[38;5;66;03m# `tf.debugging.disable_traceback_filtering()`\u001b[39;00m\n\u001b[1;32m---> 70\u001b[0m     \u001b[38;5;28;01mraise\u001b[39;00m e\u001b[38;5;241m.\u001b[39mwith_traceback(filtered_tb) \u001b[38;5;28;01mfrom\u001b[39;00m \u001b[38;5;28mNone\u001b[39m\n\u001b[0;32m     71\u001b[0m \u001b[38;5;28;01mfinally\u001b[39;00m:\n\u001b[0;32m     72\u001b[0m     \u001b[38;5;28;01mdel\u001b[39;00m filtered_tb\n",
      "File \u001b[1;32m~\\AppData\\Local\\Temp\\__autograph_generated_filexo3zbpja.py:15\u001b[0m, in \u001b[0;36mouter_factory.<locals>.inner_factory.<locals>.tf__predict_function\u001b[1;34m(iterator)\u001b[0m\n\u001b[0;32m     13\u001b[0m \u001b[38;5;28;01mtry\u001b[39;00m:\n\u001b[0;32m     14\u001b[0m     do_return \u001b[38;5;241m=\u001b[39m \u001b[38;5;28;01mTrue\u001b[39;00m\n\u001b[1;32m---> 15\u001b[0m     retval_ \u001b[38;5;241m=\u001b[39m ag__\u001b[38;5;241m.\u001b[39mconverted_call(ag__\u001b[38;5;241m.\u001b[39mld(step_function), (ag__\u001b[38;5;241m.\u001b[39mld(\u001b[38;5;28mself\u001b[39m), ag__\u001b[38;5;241m.\u001b[39mld(iterator)), \u001b[38;5;28;01mNone\u001b[39;00m, fscope)\n\u001b[0;32m     16\u001b[0m \u001b[38;5;28;01mexcept\u001b[39;00m:\n\u001b[0;32m     17\u001b[0m     do_return \u001b[38;5;241m=\u001b[39m \u001b[38;5;28;01mFalse\u001b[39;00m\n",
      "\u001b[1;31mValueError\u001b[0m: in user code:\n\n    File \"D:\\School\\UTK_SPRING_2023\\Deep_Learning\\cs425-Env\\Lib\\site-packages\\keras\\engine\\training.py\", line 2169, in predict_function  *\n        return step_function(self, iterator)\n    File \"D:\\School\\UTK_SPRING_2023\\Deep_Learning\\cs425-Env\\Lib\\site-packages\\keras\\engine\\training.py\", line 2155, in step_function  **\n        outputs = model.distribute_strategy.run(run_step, args=(data,))\n    File \"D:\\School\\UTK_SPRING_2023\\Deep_Learning\\cs425-Env\\Lib\\site-packages\\keras\\engine\\training.py\", line 2143, in run_step  **\n        outputs = model.predict_step(data)\n    File \"D:\\School\\UTK_SPRING_2023\\Deep_Learning\\cs425-Env\\Lib\\site-packages\\keras\\engine\\training.py\", line 2111, in predict_step\n        return self(x, training=False)\n    File \"D:\\School\\UTK_SPRING_2023\\Deep_Learning\\cs425-Env\\Lib\\site-packages\\keras\\utils\\traceback_utils.py\", line 70, in error_handler\n        raise e.with_traceback(filtered_tb) from None\n\n    ValueError: Exception encountered when calling layer 'query' (type EinsumDense).\n    \n    Shape must be rank 3 but is rank 2\n    \t for 0th input and equation: abc,cde->abde for '{{node model_8/multi_head_attention_8/query/einsum/Einsum}} = Einsum[N=2, T=DT_FLOAT, equation=\"abc,cde->abde\"](model_8/add_24/add, model_8/multi_head_attention_8/query/einsum/Einsum/ReadVariableOp)' with input shapes: [80,256], [256,2,2].\n    \n    Call arguments received by layer 'query' (type EinsumDense):\n      • inputs=tf.Tensor(shape=(80, 256), dtype=float32)\n"
     ]
    }
   ],
   "source": [
    "data = DataSet('beatles.txt', 80)\n",
    "_, _, vocab = data.create_dataset()\n",
    "transformer = TransformerModel(len(vocab))\n",
    "model = transformer.create_model()\n",
    "text = GenerateText(model, vocab, data.vocab_dict)\n",
    "print(text.generate_text(\"nobody is\"))"
   ]
  },
  {
   "cell_type": "markdown",
   "id": "edd0bd9d",
   "metadata": {},
   "source": [
    "## Task 4: Model Traning and Testing"
   ]
  },
  {
   "cell_type": "code",
   "execution_count": null,
   "id": "1b59dd48",
   "metadata": {},
   "outputs": [],
   "source": [
    "#Train the model while periodically generating text to show progress\n",
    "def train_model(model, vocab, x, y, epochs=50):\n",
    "    return model"
   ]
  },
  {
   "cell_type": "markdown",
   "id": "658fa81b",
   "metadata": {},
   "source": [
    "\n",
    "# Report"
   ]
  },
  {
   "cell_type": "markdown",
   "id": "f7b723a2",
   "metadata": {},
   "source": [
    "## Introduction"
   ]
  },
  {
   "cell_type": "markdown",
   "id": "6855b442",
   "metadata": {},
   "source": [
    "## Results"
   ]
  },
  {
   "cell_type": "markdown",
   "id": "7c41dc86",
   "metadata": {},
   "source": [
    "## Conclusion"
   ]
  },
  {
   "cell_type": "markdown",
   "id": "3812e555",
   "metadata": {},
   "source": [
    "## How to Run Code\n",
    "\n",
    "Please include any special libraries and list your tf version here."
   ]
  }
 ],
 "metadata": {
  "kernelspec": {
   "display_name": "Python 3 (ipykernel)",
   "language": "python",
   "name": "python3"
  },
  "language_info": {
   "codemirror_mode": {
    "name": "ipython",
    "version": 3
   },
   "file_extension": ".py",
   "mimetype": "text/x-python",
   "name": "python",
   "nbconvert_exporter": "python",
   "pygments_lexer": "ipython3",
   "version": "3.11.0"
  },
  "vscode": {
   "interpreter": {
    "hash": "e23b663014ca37592679400f38d6d04e3fc85e5c6f63651f80341cade9e63d21"
   }
  }
 },
 "nbformat": 4,
 "nbformat_minor": 5
}
