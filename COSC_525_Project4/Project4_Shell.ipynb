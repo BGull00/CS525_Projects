{
 "cells": [
  {
   "attachments": {},
   "cell_type": "markdown",
   "id": "2adb05c1",
   "metadata": {},
   "source": [
    "# Project 4\n",
    "## Students:\n",
    " - Bryson Gullett\n",
    " - Robert Schaffer\n",
    " - Matthew Dixson\n",
    " "
   ]
  },
  {
   "cell_type": "code",
   "execution_count": 6,
   "id": "563a5a83",
   "metadata": {
    "tags": []
   },
   "outputs": [],
   "source": [
    "import tensorflow as tf\n",
    "from tensorflow import keras\n",
    "from tensorflow import optimizers\n",
    "from tensorflow.keras import layers\n",
    "import numpy as np\n",
    "import re\n",
    "import random as rand"
   ]
  },
  {
   "cell_type": "code",
   "execution_count": null,
   "id": "b2ebf08e",
   "metadata": {
    "tags": []
   },
   "outputs": [],
   "source": [
    "print(tf.__version__)# you may want to upgrade to 2.10.0"
   ]
  },
  {
   "cell_type": "markdown",
   "id": "17a95a42",
   "metadata": {},
   "source": [
    "### Please Use Markdown\n",
    "> for markdown, see here: https://www.ibm.com/docs/en/watson-studio-local/1.2.3?topic=notebooks-markdown-jupyter-cheatsheet"
   ]
  },
  {
   "cell_type": "markdown",
   "id": "ddae40d9",
   "metadata": {},
   "source": [
    "## Task 1"
   ]
  },
  {
   "cell_type": "code",
   "execution_count": null,
   "id": "2493f996",
   "metadata": {},
   "outputs": [],
   "source": [
    "class TransformerModel():\n",
    "    def __init__(self, vocab_size, embed_dim=256, num_heads=2, num_blocks=1, ff_dim=256, maxlen=80, rate=0.1):\n",
    "        #initailize variables\n",
    "        self.vocab_size = vocab_size\n",
    "        self.embed_dim = embed_dim\n",
    "        self.num_heads = num_heads\n",
    "        self.num_blocks = num_blocks\n",
    "        self.ff_dim = ff_dim\n",
    "        self.maxlen = maxlen\n",
    "        self.rate = rate\n",
    "\n",
    "    def TransformerBlock(self, inputs):\n",
    "        #create the transformer block as discribed in the writeup, use the Keras functional API (https://keras.io/guides/functional_api/)\n",
    "        #MultiHeadAttention layer, specifiy 'use_causal_mask=True' (https://keras.io/api/layers/attention_layers/multi_head_attention/)\n",
    "        #LayerNormalization layer, specifiy 'epsilon=1e-6' (https://keras.io/api/layers/normalization_layers/layer_normalization/)\n",
    "        #Use the rate variable for the dropout layers and remember to use two dense layers\n",
    "        #See assignment and its figures for more details.\n",
    "        multihead_atten = layers.MultiHeadAttention(num_heads=self.num_heads, key_dim=self.num_heads, dropout=self.rate)(inputs, inputs, use_causal_mask=True)\n",
    "        add1 = layers.Add()([multihead_atten, inputs])\n",
    "        layer_norm1 = layers.LayerNormalization(epsilon=1e-6)(add1)\n",
    "        dense1 = layers.Dense(self.ff_dim, activation='relu')(layer_norm1)\n",
    "        dense2 = layers.Dense(self.ff_dim, activation='relu')(dense1)\n",
    "        dropout1 = layers.Dropout(self.rate)(dense2)\n",
    "        add2 = layers.Add()([dropout1, layer_norm1])\n",
    "        layer_norm2 = layers.LayerNormalization(epsilon=1e-6)(add2)\n",
    "\n",
    "        return layer_norm2\n",
    "    \n",
    "    def EmbeddingLayer(self, inputs):\n",
    "        #create the embedding layer\n",
    "        #create (1) an embedding for the tokens and (2) an embedding for the positions\n",
    "        #you can use https://keras.io/api/layers/core_layers/embedding/ Embedding class\n",
    "        #you can use tf.range to enocde positions\n",
    "        #add (1) and (2) and return the layer\n",
    "        token_embeddings = layers.Embedding(self.vocab_size, self.embed_dim, input_length=self.maxlen)(inputs)\n",
    "        position_embeddings = layers.Embedding(self.maxlen, self.embed_dim, input_length=self.maxlen)(tf.range(self.maxlen))\n",
    "\n",
    "        add = layers.Add()([token_embeddings, position_embeddings])\n",
    "        return add\n",
    "    \n",
    "    def create_model(self):\n",
    "        #combine the EmbeddingLayer and num_blocks TransformerBlocks to create the model, use the Keras functional API (https://keras.io/guides/functional_api/)\n",
    "        #use the SparseCategoricalCrossentropy loss function (https://keras.io/api/losses/probabilistic_losses/#sparsecategoricalcrossentropy-class)\n",
    "        inputs = keras.Input(shape=(self.maxlen,))\n",
    "        embedding_layer = self.EmbeddingLayer(inputs)\n",
    "        prev_layer = embedding_layer\n",
    "        for _ in range(self.num_blocks):\n",
    "            transformer_block = self.TransformerBlock(prev_layer)\n",
    "            prev_layer = transformer_block\n",
    "        final_dense = layers.Dense(self.vocab_size, activation='softmax')(prev_layer)\n",
    "        model = keras.Model(inputs=inputs, outputs=final_dense)\n",
    "        opt = optimizers.Adam(learning_rate=0.0001)\n",
    "        model.compile(loss=keras.losses.SparseCategoricalCrossentropy, optimizer=opt)\n",
    "        return model\n",
    "    \n",
    "my_model = TransformerModel(1000)\n",
    "print(my_model.create_model().summary())"
   ]
  },
  {
   "cell_type": "markdown",
   "id": "c5ad747b",
   "metadata": {},
   "source": [
    "## Task 2"
   ]
  },
  {
   "cell_type": "code",
   "execution_count": null,
   "id": "227111a5",
   "metadata": {
    "tags": []
   },
   "outputs": [],
   "source": [
    "class DataSet():\n",
    "    def __init__(self, filename, len):\n",
    "        #load the text from the file\n",
    "        self.text = ''\n",
    "        self.len = len\n",
    "        with open(filename) as fin:\n",
    "            for line in fin:\n",
    "                self.text += line\n",
    "\n",
    "    def prep_text(self):\n",
    "        #remove all punctuation, set to lowercase, remove duplicate spaces and other whitespace (keep newlines)\n",
    "        self.text = re.sub(r'[^\\w\\s]', ' ', self.text)\n",
    "        self.text = re.sub(r' +', ' ', self.text)\n",
    "        self.text = re.sub(r'â', '', self.text)\n",
    "        \n",
    "        \n",
    "        \n",
    "        \n",
    "    def tokenize_text(self):\n",
    "        #seperate into words, create a vocab and convert the text to a list of numbers using the vocab such that each unique word is represented by its own number number\n",
    "        self.text = self.text.split()\n",
    "        self.vocab = np.unique(self.text)\n",
    "        self.vocab = np.append(self.vocab, ['EOT'])\n",
    "        self.vocab_nums = [i for i in range(len(self.vocab))]\n",
    "        self.vocab_dict = dict(zip(self.vocab, self.vocab_nums))\n",
    "        \n",
    "\n",
    "    def create_dataset(self):\n",
    "        #split the tokenized data into sequences of length len, return the sequences and vocab\n",
    "        self.prep_text()\n",
    "        self.tokenize_text()\n",
    "        X = []\n",
    "        Y = []\n",
    "        for i in range(int(len(self.text)/self.len)+1):\n",
    "            sequence_X = []\n",
    "            sequence_Y = []\n",
    "            for j in range(self.len):\n",
    "                if i*self.len+j < len(self.text):\n",
    "                    sequence_X.append(self.vocab_dict[self.text[i*self.len+j]])\n",
    "                else:\n",
    "                    sequence_X.append(self.vocab_dict['EOT'])\n",
    "                if i*self.len+j+1 < len(self.text):\n",
    "                    sequence_Y.append(self.vocab_dict[self.text[i*self.len+j+1]])\n",
    "                else:\n",
    "                    sequence_Y.append(self.vocab_dict['EOT'])\n",
    "            X.append(sequence_X)\n",
    "            Y.append(sequence_Y)\n",
    "        return X, Y, self.vocab"
   ]
  },
  {
   "cell_type": "markdown",
   "id": "39c3a399",
   "metadata": {},
   "source": [
    "## Task 3"
   ]
  },
  {
   "cell_type": "code",
   "execution_count": null,
   "id": "6ffe1274",
   "metadata": {
    "tags": []
   },
   "outputs": [],
   "source": [
    "class GenerateText():\n",
    "    def __init__(self, model, vocab):\n",
    "        self.model = model\n",
    "        self.vocab = vocab\n",
    "    \n",
    "    def generate_text(self, start_string, num_generate=100):\n",
    "        #generate text using the model and vocab, start with the start_string and generate num_generate words\n",
    "        text = start_string\n",
    "        for _ in range(num_generate):\n",
    "            start_string = self.vocab[np.argmax(self.model.predict(start_string))]\n",
    "            text += ' ' + start_string\n",
    "            if start_string == 'EOT':\n",
    "                break\n",
    "        return text\n",
    "    \n",
    "    def generate_random_text(self, num_generate=100):\n",
    "        text = ''\n",
    "        for _ in range(num_generate):\n",
    "            word = self.vocab[rand.randrange(len(self.vocab))]\n",
    "            text += word + ' '\n",
    "            if word == 'EOT':\n",
    "                break\n",
    "        return text   "
   ]
  },
  {
   "cell_type": "markdown",
   "id": "edd0bd9d",
   "metadata": {},
   "source": [
    "## Task 4: Model Traning and Testing"
   ]
  },
  {
   "cell_type": "code",
   "execution_count": null,
   "id": "1b59dd48",
   "metadata": {},
   "outputs": [],
   "source": [
    "#Train the model while periodically generating text to show progress\n",
    "def train_model(model, vocab, x, y, epochs=50):\n",
    "    return model"
   ]
  },
  {
   "cell_type": "markdown",
   "id": "658fa81b",
   "metadata": {},
   "source": [
    "\n",
    "# Report"
   ]
  },
  {
   "cell_type": "markdown",
   "id": "f7b723a2",
   "metadata": {},
   "source": [
    "## Introduction"
   ]
  },
  {
   "cell_type": "markdown",
   "id": "6855b442",
   "metadata": {},
   "source": [
    "## Results"
   ]
  },
  {
   "cell_type": "markdown",
   "id": "7c41dc86",
   "metadata": {},
   "source": [
    "## Conclusion"
   ]
  },
  {
   "cell_type": "markdown",
   "id": "3812e555",
   "metadata": {},
   "source": [
    "## How to Run Code\n",
    "\n",
    "Please include any special libraries and list your tf version here."
   ]
  }
 ],
 "metadata": {
  "kernelspec": {
   "display_name": "Python 3 (ipykernel)",
   "language": "python",
   "name": "python3"
  },
  "language_info": {
   "codemirror_mode": {
    "name": "ipython",
    "version": 3
   },
   "file_extension": ".py",
   "mimetype": "text/x-python",
   "name": "python",
   "nbconvert_exporter": "python",
   "pygments_lexer": "ipython3",
   "version": "3.11.0"
  },
  "vscode": {
   "interpreter": {
    "hash": "e23b663014ca37592679400f38d6d04e3fc85e5c6f63651f80341cade9e63d21"
   }
  }
 },
 "nbformat": 4,
 "nbformat_minor": 5
}
