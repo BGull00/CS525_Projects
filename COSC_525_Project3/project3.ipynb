{
 "cells": [
  {
   "cell_type": "markdown",
   "id": "d1797fb5-57d1-4c48-a8bc-74cf5290cef3",
   "metadata": {},
   "source": [
    "## Dataset\n",
    "- You will be using a modified version of the FairFace dataset (https://github.com/joojs/fairface). This is a set of 86,744 training face images and 10,954 validation face images. \n",
    "- In order to decrease the training time I converted all images to gray scale and resized them to 32 × 32. Each face has 3 different attributes which can be used for a classification task: race, gender, and age. All files can be found in the zip file on Canvas. The train folder contains the training images and the fairface label train.csv file contains all the label. There is a similar folder and file for the validation set.\n",
    "- As the three different attributes have a different number of possible values, your final layers for each classifier will vary. For each of the networks below please attempt to classify 2 of the attributes (you can choose which)."
   ]
  },
  {
   "cell_type": "markdown",
   "id": "76cc860b-fe4d-499e-a9ac-d6d6eaf3ab88",
   "metadata": {},
   "source": [
    "## Imports"
   ]
  },
  {
   "cell_type": "code",
   "execution_count": 1,
   "id": "8d534170-9810-428e-88d0-548a53d7a670",
   "metadata": {},
   "outputs": [],
   "source": [
    "#Tensor imports\n",
    "import tensorflow as tf\n",
    "from tensorflow import optimizers\n",
    "from tensorflow.keras.models import Sequential\n",
    "from tensorflow.keras import layers\n",
    "from tensorflow.keras.callbacks import TensorBoard\n",
    "\n",
    "#Pillow Imports\n",
    "from PIL import Image\n",
    "\n",
    "#Import Pandas\n",
    "import pandas as pd\n",
    "\n",
    "#Import Numpy\n",
    "import numpy as np\n",
    "\n",
    "#Sci_Kit Imports\n",
    "from sklearn.preprocessing import LabelBinarizer\n",
    "from sklearn.preprocessing import MinMaxScaler\n",
    "from sklearn.metrics import confusion_matrix\n",
    "\n",
    "#Import datetime\n",
    "import datetime"
   ]
  },
  {
   "cell_type": "markdown",
   "id": "76a76739-643e-4988-85e9-a87595c11300",
   "metadata": {},
   "source": [
    "## Load TensorBoard and Create Logs"
   ]
  },
  {
   "cell_type": "code",
   "execution_count": 4,
   "id": "46a827b0-2156-4e05-b80b-1e41d15d8926",
   "metadata": {
    "tags": []
   },
   "outputs": [
    {
     "name": "stdout",
     "output_type": "stream",
     "text": [
      "The tensorboard extension is already loaded. To reload it, use:\n",
      "  %reload_ext tensorboard\n"
     ]
    }
   ],
   "source": [
    "%load_ext tensorboard\n",
    "%reload_ext tensorboard\n",
    "#log_folder = \"logs\"\n",
    "log_folder = \"logs/fit/\" + datetime.datetime.now().strftime(\"%Y%m%d-%H%M%S\")"
   ]
  },
  {
   "cell_type": "markdown",
   "id": "d9cf048e-eb98-432e-bcd8-6e04e0f33613",
   "metadata": {
    "tags": []
   },
   "source": [
    "## Task 1: Fully Connected Neural Network\n",
    "1. Build a feed forward neural network with the following specifications (Test on two different tasks):\n",
    "    - Hidden layer 1: 1024 neurons with hyperbolic tangent activation function in each neuron.\n",
    "    - Hidden layer 2: 512 neurons, with sigmoid activation function in each of the neuron.\n",
    "    - 100 neurons, with rectified linear activation function in each of the neuron.\n",
    "    - Output layer: n (depending on the task) neurons representing the n classes, using the softmax activation function.\n",
    "2. Using Min-Max scaling to scale the training dataset and using the same Min and Max values from the training set scale the test dataset (X−Xmin/Xmax−Xmin).\n",
    "3. Using mini-batch gradient descent to optimize the loss function: “categorical cross-entropy” on the training dataset. Please record the loss value for each of the epochs and create an epoch-loss plot and an accuracy-loss plot for both the training and validation set.\n",
    "4. Report the following:\n",
    "    - Final classification accuracy.\n",
    "    - The n-class confusion matrix."
   ]
  },
  {
   "cell_type": "code",
   "execution_count": 5,
   "id": "18c861cc-e233-4588-8377-de39bea2ebcb",
   "metadata": {
    "tags": []
   },
   "outputs": [],
   "source": [
    "def createFeedFoward(inputShape, outputSize, lr):\n",
    "    model = Sequential()\n",
    "    model.add(layers.Dense(1024, input_shape=inputShape, activation='tanh'))\n",
    "    model.add(layers.Dense(512, activation='sigmoid'))\n",
    "    model.add(layers.Dense(100, activation='relu'))\n",
    "    model.add(layers.Dense(outputSize, activation='softmax'))\n",
    "    opt = optimizers.SGD(learning_rate=lr)\n",
    "    model.compile(loss='CategoricalCrossentropy', optimizer=opt, metrics=['accuracy'])\n",
    "    return model"
   ]
  },
  {
   "cell_type": "code",
   "execution_count": 6,
   "id": "18c0199d-d2a8-44a4-a4a2-fc0bb0c4cf8f",
   "metadata": {
    "tags": []
   },
   "outputs": [],
   "source": [
    "def createXY(imgPath, labelFile, num):\n",
    "    #Create and normalize X\n",
    "    X = []\n",
    "    for i in range(num):\n",
    "        fileName = imgPath + str(i+1) + '.jpg'\n",
    "        img = Image.open(fileName)\n",
    "        X.append(list(img.getdata()))\n",
    "    scaler = MinMaxScaler()\n",
    "    scaler.fit(X)\n",
    "    X = scaler.transform(X)\n",
    "    \n",
    "    #Get labels\n",
    "    label_df = pd.read_csv(labelFile)\n",
    "    \n",
    "    #Find unique labels and output size\n",
    "    age_labels = label_df['age'].unique()\n",
    "    race_labels = label_df['race'].unique()\n",
    "    \n",
    "    #Create Binary y arrays\n",
    "    lb_age = LabelBinarizer(sparse_output=False)\n",
    "    lb_race = LabelBinarizer(sparse_output=False)\n",
    "    lb_age.fit(age_labels)\n",
    "    lb_race.fit(race_labels)\n",
    "    y_age = list(label_df['age'].head(num))\n",
    "    y_race = list(label_df['race'].head(num))\n",
    "    y_age = lb_age.transform(y_age)\n",
    "    y_race = lb_age.transform(y_race)\n",
    "    \n",
    "    \n",
    "    return X, y_age, y_race, age_labels, race_labels "
   ]
  },
  {
   "cell_type": "code",
   "execution_count": 7,
   "id": "c8c9b9a8-0d3b-4adc-9323-0b2aa7cf4309",
   "metadata": {
    "tags": []
   },
   "outputs": [],
   "source": [
    "def printResults(predictions, labels, trueLabels):\n",
    "    print(len(predictions))\n",
    "    print(len(predictions[1]))\n",
    "    print(len(labels))\n",
    "    print(len(trueLabels))\n",
    "    for i in range(len(predictions)):\n",
    "        print(\"Label: \" + trueLabels[i])\n",
    "        for j in range(len(labels)):\n",
    "            print(\"{:12}: {:10.2f}%\".format(labels[j], (predictions[i][j] * 100)))"
   ]
  },
  {
   "cell_type": "code",
   "execution_count": 8,
   "id": "8ae9e112-bcf9-4f1a-9023-f274f066475f",
   "metadata": {
    "tags": []
   },
   "outputs": [],
   "source": [
    "def getMax(values):\n",
    "    maxes = [np.argmax(val) for val in values ]\n",
    "    return maxes"
   ]
  },
  {
   "cell_type": "code",
   "execution_count": 9,
   "id": "c03d6754-82d0-46fc-9056-27d73c78867c",
   "metadata": {},
   "outputs": [],
   "source": [
    "callbacks = [TensorBoard(log_dir=log_folder,\n",
    "                         histogram_freq=1,\n",
    "                         write_graph=True,\n",
    "                         write_images=True,\n",
    "                         update_freq='epoch',\n",
    "                         profile_batch=2,\n",
    "                         embeddings_freq=1)]"
   ]
  },
  {
   "cell_type": "code",
   "execution_count": 10,
   "id": "c0cc615c-9cd8-4a43-9099-28eab987c309",
   "metadata": {
    "tags": []
   },
   "outputs": [],
   "source": [
    "X_train, y_age_train, y_race_train, age_labels, race_labels = createXY('project3_COSC525/train/', 'project3_COSC525/fairface_label_train.csv', 86744)\n",
    "X_test, y_age_test, y_race_test, _ , _ = createXY('project3_COSC525/val/', 'project3_COSC525/fairface_label_val.csv', 10954)"
   ]
  },
  {
   "cell_type": "code",
   "execution_count": 11,
   "id": "d96317c5-cbb6-4451-ad0e-99a9171cb5a0",
   "metadata": {
    "tags": []
   },
   "outputs": [],
   "source": [
    "def taskOne(X_train, y_train, X_test, y_test, lr, numEpochs, batchSize, port):\n",
    "    model = createFeedFoward((1024,), len(y_train[0]), lr)\n",
    "    model.fit(X_train, y_train, validation_data=(X_test, y_test), epochs=numEpochs, batch_size=batchSize, callbacks=callbacks)\n",
    "    y_true = getMax(y_test)\n",
    "    y_pred = getMax(model.predict(X_test))\n",
    "    eval = tf.keras.metrics.Accuracy()\n",
    "    eval.update_state(y_true, y_pred)\n",
    "    print('Accuracy: ', eval.result().numpy())\n",
    "    c_matrix = confusion_matrix(y_true, y_pred)\n",
    "    print(c_matrix)\n",
    "    %tensorboard --logdir logs --port=port"
   ]
  },
  {
   "cell_type": "code",
   "execution_count": null,
   "id": "35b209cd-8c69-47f8-bcd4-fb452047f933",
   "metadata": {
    "tags": []
   },
   "outputs": [
    {
     "name": "stdout",
     "output_type": "stream",
     "text": [
      "Epoch 1/120\n",
      "868/868 [==============================] - 14s 14ms/step - loss: 1.8844 - accuracy: 0.2911 - val_loss: 1.8621 - val_accuracy: 0.3013\n",
      "Epoch 2/120\n",
      "868/868 [==============================] - 11s 13ms/step - loss: 1.8650 - accuracy: 0.2951 - val_loss: 1.8590 - val_accuracy: 0.3018\n",
      "Epoch 3/120\n",
      "868/868 [==============================] - 10s 12ms/step - loss: 1.8612 - accuracy: 0.2952 - val_loss: 1.8550 - val_accuracy: 0.3013\n",
      "Epoch 4/120\n",
      "868/868 [==============================] - 11s 13ms/step - loss: 1.8582 - accuracy: 0.2954 - val_loss: 1.8521 - val_accuracy: 0.3019\n",
      "Epoch 5/120\n",
      "868/868 [==============================] - 11s 13ms/step - loss: 1.8554 - accuracy: 0.2953 - val_loss: 1.8491 - val_accuracy: 0.3015\n",
      "Epoch 6/120\n",
      "868/868 [==============================] - 11s 13ms/step - loss: 1.8528 - accuracy: 0.2954 - val_loss: 1.8470 - val_accuracy: 0.3048\n",
      "Epoch 7/120\n",
      "868/868 [==============================] - 10s 12ms/step - loss: 1.8503 - accuracy: 0.2958 - val_loss: 1.8446 - val_accuracy: 0.3041\n",
      "Epoch 8/120\n",
      "868/868 [==============================] - 10s 12ms/step - loss: 1.8479 - accuracy: 0.2966 - val_loss: 1.8426 - val_accuracy: 0.3043\n",
      "Epoch 9/120\n",
      "868/868 [==============================] - 11s 12ms/step - loss: 1.8456 - accuracy: 0.2973 - val_loss: 1.8391 - val_accuracy: 0.3056\n",
      "Epoch 10/120\n",
      "868/868 [==============================] - 11s 13ms/step - loss: 1.8435 - accuracy: 0.2976 - val_loss: 1.8376 - val_accuracy: 0.3042\n",
      "Epoch 11/120\n",
      "868/868 [==============================] - 12s 13ms/step - loss: 1.8414 - accuracy: 0.2978 - val_loss: 1.8351 - val_accuracy: 0.3062\n",
      "Epoch 12/120\n",
      "868/868 [==============================] - 11s 13ms/step - loss: 1.8392 - accuracy: 0.2982 - val_loss: 1.8328 - val_accuracy: 0.3065\n",
      "Epoch 13/120\n",
      "868/868 [==============================] - 10s 12ms/step - loss: 1.8372 - accuracy: 0.2992 - val_loss: 1.8323 - val_accuracy: 0.3035\n",
      "Epoch 14/120\n",
      "868/868 [==============================] - 11s 13ms/step - loss: 1.8352 - accuracy: 0.2989 - val_loss: 1.8304 - val_accuracy: 0.3034\n",
      "Epoch 15/120\n",
      "868/868 [==============================] - 12s 13ms/step - loss: 1.8333 - accuracy: 0.2994 - val_loss: 1.8266 - val_accuracy: 0.3074\n",
      "Epoch 16/120\n",
      "868/868 [==============================] - 11s 12ms/step - loss: 1.8314 - accuracy: 0.2999 - val_loss: 1.8247 - val_accuracy: 0.3074\n",
      "Epoch 17/120\n",
      "868/868 [==============================] - 10s 12ms/step - loss: 1.8294 - accuracy: 0.3000 - val_loss: 1.8235 - val_accuracy: 0.3037\n",
      "Epoch 18/120\n",
      "868/868 [==============================] - 11s 13ms/step - loss: 1.8275 - accuracy: 0.3007 - val_loss: 1.8235 - val_accuracy: 0.3054\n",
      "Epoch 19/120\n",
      "868/868 [==============================] - 12s 13ms/step - loss: 1.8256 - accuracy: 0.3010 - val_loss: 1.8193 - val_accuracy: 0.3075\n",
      "Epoch 20/120\n",
      "868/868 [==============================] - 11s 12ms/step - loss: 1.8236 - accuracy: 0.3010 - val_loss: 1.8165 - val_accuracy: 0.3091\n",
      "Epoch 21/120\n",
      "868/868 [==============================] - 11s 12ms/step - loss: 1.8215 - accuracy: 0.3011 - val_loss: 1.8149 - val_accuracy: 0.3072\n",
      "Epoch 22/120\n",
      "868/868 [==============================] - 12s 13ms/step - loss: 1.8196 - accuracy: 0.3017 - val_loss: 1.8131 - val_accuracy: 0.3082\n",
      "Epoch 23/120\n",
      "868/868 [==============================] - 11s 13ms/step - loss: 1.8177 - accuracy: 0.3029 - val_loss: 1.8107 - val_accuracy: 0.3087\n",
      "Epoch 24/120\n",
      "868/868 [==============================] - 11s 13ms/step - loss: 1.8158 - accuracy: 0.3021 - val_loss: 1.8087 - val_accuracy: 0.3092\n",
      "Epoch 25/120\n",
      "617/868 [====================>.........] - ETA: 2s - loss: 1.8175 - accuracy: 0.3008"
     ]
    }
   ],
   "source": [
    "taskOne(X_train, y_age_train, X_test, y_age_test, 0.001, 120, 100, 6009)"
   ]
  },
  {
   "cell_type": "code",
   "execution_count": null,
   "id": "bfa19edb-0725-4dbf-9bc5-eb81ecd8fa9a",
   "metadata": {
    "tags": []
   },
   "outputs": [],
   "source": [
    "taskOne(X_train, y_race_train, X_test, y_race_test, 0.001, 120, 100, 6009)"
   ]
  },
  {
   "cell_type": "markdown",
   "id": "1e599607-4dd1-4a50-b7ac-89bd4aebc9a9",
   "metadata": {},
   "source": [
    "## Task 2: Small Convolutional Neural Network\n",
    "- Build a convolutional neural network with the following specifications (Test on two different tasks):\n",
    "    - Convolution layer having 40 feature detectors, with kernel size 5 x 5, and ReLU as the activation function, with stride 1 and no-padding.\n",
    "    - A max-pooling layer with pool size 2x2.\n",
    "    - Fully connected layer with 100 neurons, and ReLU as the activation function.\n",
    "    - Output layer: n (depending on the task) neurons representing the n classes, using the softmax activation function. function for each of the 10 neurons.\n",
    "2. Using Min-Max scaling to scale the training dataset and using the same Min and Max values from the training set scale the test dataset ( X−Xmin/Xmax−Xmin ).\n",
    "3. Using mini-batch gradient descent to optimize the loss function: “categorical cross-entropy” on the training dataset. Please record the loss value for each of the epochs and create an epoch-loss plot and an accuracy-loss plot for both the training and validation set.\n",
    "4. Report the following:\n",
    "    - Final classification accuracy.\n",
    "    - The n-class confusion matrix."
   ]
  },
  {
   "cell_type": "code",
   "execution_count": null,
   "id": "7bb7ac59-dfae-4919-885d-9d06b9ae0840",
   "metadata": {},
   "outputs": [],
   "source": []
  },
  {
   "cell_type": "markdown",
   "id": "229e3f14-890a-4ffa-a3e0-7d5be46ed633",
   "metadata": {},
   "source": [
    "## Task 3: Your own Convolutional Neural Network\n",
    "1. Build another convolutional neural network, where you choose all the parameters to see if you can get a higher accuracy.\n",
    "2. Using Min-Max scaling to scale the training dataset and using the same Min and Max values from the training set scale the test dataset ( X−Xmin/Xmax−Xmin ).\n",
    "3. Using mini-batch gradient descent to optimize the loss function: “categorical cross-entropy” on the training dataset. Please record the loss value for each of the epochs and create an epoch-loss plot and an accuracy-loss plot for both the training and validation set.\n",
    "4. Report the following:\n",
    "    - Final classification accuracy.\n",
    "    - The n-class confusion matrix"
   ]
  },
  {
   "cell_type": "code",
   "execution_count": null,
   "id": "23af4e16-49e9-4ed8-8518-b4152c545e48",
   "metadata": {},
   "outputs": [],
   "source": []
  },
  {
   "cell_type": "markdown",
   "id": "36e0a435-0e8d-4b79-80b7-a1dcc3500a93",
   "metadata": {},
   "source": [
    "## Task 4: Your own Convolutional Neural Network on both Tasks Simultaneously\n",
    "1. Build another convolutional neural network, where you try and classify both tasks with a single network. After your flatten layer have two more fully connected layers for each “branch”. Note that in order to do so you will not be able to use the Sequential model.\n",
    "2. Using Min-Max scaling to scale the training dataset and using the same Min and Max values from the training set scale the test dataset ( X−Xmin/Xmax−Xmin ).\n",
    "3. Using mini-batch gradient descent to optimize the loss function: “categorical cross-entropy” on the training dataset. Please record the loss value for each of the epochs and create an epoch-loss plot and an accuracy-loss plot for both the training and validation set.\n",
    "4. Report the following:\n",
    "    - Final classification accuracy.\n",
    "    - The n-class confusion matrix"
   ]
  },
  {
   "cell_type": "code",
   "execution_count": null,
   "id": "34adc1f7-cadb-4126-a36e-6fbf4abd54e7",
   "metadata": {},
   "outputs": [],
   "source": []
  },
  {
   "cell_type": "markdown",
   "id": "ced8e48d-e509-40f8-9938-44e9106634fd",
   "metadata": {},
   "source": [
    "## Task 5: Variational Auto Encoder (COSC 525 only)\n",
    "1. Build a variational autoencoder with the following specifications (in this one you have a little more flexibility):\n",
    "    - Should have at least two convolution layers in the encoder and 2 deconvolution layers in the decoder.\n",
    "    - Latent dimension should be at least 5.\n",
    "    - Loss should be either MSE or binary cross entropy.\n",
    "2. Using Min-Max scaling to scale the training dataset and using the same Min and Max values from the training set scale the test dataset ( X−Xmin/Xmax−Xmin ).\n",
    "3. Using mini-batch gradient descent to optimize the loss function on the training dataset. Please record the loss value for each of the epochs and create an epoch-loss plot and an accuracy-loss plot for both the training and validation set.\n",
    "4. Qualitatively evaluate your model by generating a set of faces by randomly choosing 10 latent vectors and presenting the resulting images"
   ]
  },
  {
   "cell_type": "code",
   "execution_count": null,
   "id": "3aef84de-003b-4121-b3eb-1bbe48339d2d",
   "metadata": {},
   "outputs": [],
   "source": []
  }
 ],
 "metadata": {
  "kernelspec": {
   "display_name": "Python 3 (ipykernel)",
   "language": "python",
   "name": "python3"
  },
  "language_info": {
   "codemirror_mode": {
    "name": "ipython",
    "version": 3
   },
   "file_extension": ".py",
   "mimetype": "text/x-python",
   "name": "python",
   "nbconvert_exporter": "python",
   "pygments_lexer": "ipython3",
   "version": "3.11.0"
  }
 },
 "nbformat": 4,
 "nbformat_minor": 5
}
