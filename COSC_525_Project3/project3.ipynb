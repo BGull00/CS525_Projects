{
 "cells": [
  {
   "cell_type": "markdown",
   "id": "d1797fb5-57d1-4c48-a8bc-74cf5290cef3",
   "metadata": {},
   "source": [
    "## Dataset\n",
    "- You will be using a modified version of the FairFace dataset (https://github.com/joojs/fairface). This is a set of 86,744 training face images and 10,954 validation face images. \n",
    "- In order to decrease the training time I converted all images to gray scale and resized them to 32 × 32. Each face has 3 different attributes which can be used for a classification task: race, gender, and age. All files can be found in the zip file on Canvas. The train folder contains the training images and the fairface label train.csv file contains all the label. There is a similar folder and file for the validation set.\n",
    "- As the three different attributes have a different number of possible values, your final layers for each classifier will vary. For each of the networks below please attempt to classify 2 of the attributes (you can choose which)."
   ]
  },
  {
   "cell_type": "markdown",
   "id": "76cc860b-fe4d-499e-a9ac-d6d6eaf3ab88",
   "metadata": {},
   "source": [
    "## Imports"
   ]
  },
  {
   "cell_type": "code",
   "execution_count": 10,
   "id": "8d534170-9810-428e-88d0-548a53d7a670",
   "metadata": {},
   "outputs": [],
   "source": [
    "#Tensor imports\n",
    "import tensorflow as tf\n",
    "from tensorflow import optimizers\n",
    "from tensorflow.keras.models import Sequential\n",
    "from tensorflow.keras import layers\n",
    "\n",
    "#Pillow Imports\n",
    "from PIL import Image"
   ]
  },
  {
   "cell_type": "markdown",
   "id": "d9cf048e-eb98-432e-bcd8-6e04e0f33613",
   "metadata": {
    "tags": []
   },
   "source": [
    "## Task 1: Fully Connected Neural Network\n",
    "1. Build a feed forward neural network with the following specifications (Test on two different tasks):\n",
    "    - Hidden layer 1: 1024 neurons with hyperbolic tangent activation function in each neuron.\n",
    "    - Hidden layer 2: 512 neurons, with sigmoid activation function in each of the neuron.\n",
    "    - 100 neurons, with rectified linear activation function in each of the neuron.\n",
    "    - Output layer: n (depending on the task) neurons representing the n classes, using the softmax activation function.\n",
    "2. Using Min-Max scaling to scale the training dataset and using the same Min and Max values from the training set scale the test dataset (X−Xmin/Xmax−Xmin).\n",
    "3. Using mini-batch gradient descent to optimize the loss function: “categorical cross-entropy” on the training dataset. Please record the loss value for each of the epochs and create an epoch-loss plot and an accuracy-loss plot for both the training and validation set.\n",
    "4. Report the following:\n",
    "    - Final classification accuracy.\n",
    "    - The n-class confusion matrix."
   ]
  },
  {
   "cell_type": "code",
   "execution_count": 18,
   "id": "7a2c2f73-23b9-48b1-b0cf-92a99778cb21",
   "metadata": {},
   "outputs": [
    {
     "name": "stdout",
     "output_type": "stream",
     "text": [
      "[1, 12, 16, 11, 10, 18, 25, 25, 28, 32, 33, 31, 36, 43, 44, 39, 43, 40, 36, 33, 32, 33, 33, 33, 29, 30, 18, 9, 18, 22, 19, 21, 6, 13, 14, 13, 22, 39, 50, 50, 47, 49, 47, 42, 43, 47, 46, 40, 41, 41, 41, 42, 42, 41, 38, 37, 35, 34, 19, 9, 17, 22, 18, 20, 5, 10, 13, 19, 36, 58, 67, 65, 48, 49, 47, 46, 48, 53, 54, 51, 47, 46, 44, 42, 39, 36, 33, 32, 44, 40, 21, 8, 16, 21, 17, 18, 0, 7, 15, 22, 39, 58, 64, 59, 45, 43, 42, 42, 46, 51, 54, 54, 52, 49, 44, 38, 34, 33, 35, 37, 49, 44, 23, 8, 14, 19, 16, 17, 1, 10, 16, 19, 30, 49, 59, 59, 58, 52, 47, 45, 44, 45, 46, 47, 48, 49, 47, 44, 41, 40, 42, 44, 47, 44, 24, 9, 13, 16, 14, 17, 10, 15, 14, 12, 22, 44, 61, 66, 60, 52, 47, 47, 48, 48, 51, 55, 50, 53, 54, 50, 41, 33, 28, 27, 37, 39, 25, 11, 12, 13, 12, 17, 10, 12, 9, 8, 21, 43, 55, 56, 39, 32, 30, 36, 43, 49, 57, 65, 57, 58, 54, 44, 31, 22, 18, 18, 25, 33, 26, 13, 11, 10, 10, 18, 3, 4, 5, 9, 26, 43, 44, 34, 21, 14, 14, 23, 32, 40, 50, 60, 61, 57, 47, 35, 25, 24, 32, 39, 16, 29, 26, 15, 11, 8, 9, 19, 4, 11, 1, 0, 26, 51, 44, 27, 34, 34, 38, 39, 30, 24, 37, 59, 52, 39, 34, 41, 44, 40, 41, 47, 36, 27, 28, 27, 12, 6, 12, 16, 0, 7, 3, 8, 38, 59, 52, 40, 43, 37, 37, 40, 37, 33, 42, 56, 57, 44, 36, 39, 39, 33, 33, 38, 37, 29, 31, 28, 11, 5, 13, 17, 4, 6, 1, 9, 37, 53, 49, 46, 39, 29, 24, 28, 32, 31, 34, 41, 46, 34, 27, 28, 28, 23, 21, 25, 33, 28, 32, 29, 13, 9, 20, 25, 26, 21, 10, 12, 32, 41, 40, 45, 36, 27, 21, 25, 29, 30, 32, 36, 35, 28, 25, 30, 33, 30, 28, 29, 33, 32, 39, 36, 22, 23, 37, 43, 46, 44, 33, 30, 41, 42, 39, 43, 45, 42, 39, 40, 41, 42, 46, 51, 39, 36, 38, 44, 50, 49, 47, 45, 40, 40, 46, 42, 31, 35, 50, 54, 45, 53, 48, 43, 49, 48, 40, 38, 46, 47, 48, 47, 46, 48, 54, 59, 41, 39, 39, 43, 48, 49, 47, 44, 41, 39, 42, 37, 27, 33, 45, 45, 39, 53, 49, 37, 41, 47, 43, 40, 42, 43, 43, 43, 44, 48, 53, 56, 44, 40, 35, 33, 37, 40, 41, 39, 41, 37, 36, 31, 24, 33, 43, 38, 43, 58, 47, 26, 30, 45, 49, 49, 46, 45, 44, 44, 49, 55, 58, 58, 56, 50, 40, 35, 37, 44, 48, 48, 46, 40, 39, 34, 31, 43, 52, 46, 17, 46, 64, 45, 27, 43, 57, 44, 51, 51, 51, 49, 48, 48, 51, 54, 52, 46, 40, 39, 42, 46, 49, 50, 38, 43, 38, 25, 28, 43, 46, 37, 11, 33, 54, 47, 31, 37, 48, 42, 57, 53, 48, 43, 40, 39, 39, 39, 38, 35, 32, 33, 38, 43, 45, 46, 38, 41, 34, 26, 33, 46, 42, 26, 10, 18, 41, 53, 43, 36, 41, 43, 52, 46, 39, 35, 34, 34, 33, 31, 33, 32, 31, 33, 37, 40, 41, 41, 41, 40, 34, 30, 40, 50, 38, 16, 19, 10, 29, 58, 57, 43, 42, 47, 44, 40, 36, 38, 43, 46, 43, 40, 40, 39, 39, 39, 39, 39, 38, 37, 43, 42, 36, 33, 40, 46, 34, 15, 29, 6, 17, 51, 59, 47, 44, 47, 46, 43, 43, 47, 53, 54, 49, 44, 40, 40, 40, 38, 37, 35, 35, 35, 41, 42, 37, 30, 29, 32, 28, 19, 29, 5, 7, 32, 41, 39, 42, 45, 47, 46, 44, 45, 45, 41, 35, 29, 31, 31, 30, 29, 28, 30, 34, 38, 37, 39, 35, 25, 18, 19, 21, 20, 21, 5, 4, 12, 14, 23, 38, 44, 47, 45, 42, 38, 33, 28, 24, 22, 26, 26, 24, 22, 23, 28, 37, 44, 36, 38, 33, 23, 15, 15, 18, 21, 15, 7, 5, 0, 0, 11, 36, 45, 49, 48, 44, 38, 33, 30, 31, 33, 30, 28, 26, 23, 23, 30, 40, 49, 40, 39, 33, 25, 18, 18, 20, 22, 11, 2, 1, 8, 6, 1, 14, 37, 48, 42, 37, 38, 42, 43, 39, 34, 36, 30, 24, 24, 29, 34, 35, 34, 44, 28, 26, 30, 24, 24, 29, 28, 8, 6, 11, 19, 16, 8, 10, 19, 42, 42, 42, 41, 39, 35, 30, 26, 29, 25, 21, 24, 30, 34, 35, 33, 35, 26, 26, 29, 26, 27, 30, 28, 11, 15, 21, 25, 25, 22, 17, 14, 35, 40, 45, 45, 41, 34, 30, 28, 30, 28, 27, 30, 34, 36, 34, 31, 27, 28, 30, 29, 28, 29, 28, 25, 19, 24, 25, 22, 27, 35, 34, 26, 31, 35, 41, 45, 46, 44, 41, 39, 39, 38, 37, 38, 38, 36, 31, 27, 23, 36, 37, 29, 29, 30, 25, 21, 23, 27, 26, 22, 28, 39, 39, 29, 29, 28, 29, 35, 42, 46, 44, 41, 38, 38, 37, 37, 35, 32, 27, 23, 23, 46, 44, 26, 28, 31, 25, 23, 20, 25, 28, 26, 29, 33, 27, 17, 31, 26, 22, 25, 31, 35, 33, 29, 27, 27, 27, 27, 27, 26, 25, 24, 28, 60, 51, 22, 25, 32, 27, 27, 21, 24, 27, 29, 28, 25, 18, 12, 36, 32, 28, 27, 27, 26, 24, 21, 22, 22, 22, 22, 23, 26, 29, 32, 43, 78, 61, 20, 20, 29, 23, 26, 25, 24, 25, 27, 25, 20, 18, 18, 40, 41, 40, 35, 29, 25, 23, 23, 27, 26, 25, 24, 25, 29, 35, 40, 58, 93, 69, 19, 16, 23, 17, 20]\n"
     ]
    }
   ],
   "source": [
    "img = Image.open('project3_COSC525/train/1.jpg')\n",
    "print(list(img.getdata()))\n",
    "\n",
    "inputShape = (32*32,)\n",
    "outputSize = 10\n",
    "\n",
    "model = Sequential()\n",
    "model.add(layers.Dense(1024, input_shape=inputShape, activation='tanh'))\n",
    "model.add(layers.Dense(512, activation='sigmoid'))\n",
    "model.add(layers.Dense(100, activation='relu'))\n",
    "model.add(layers.Dense(outputSize, activation='softmax'))\n"
   ]
  },
  {
   "cell_type": "markdown",
   "id": "1e599607-4dd1-4a50-b7ac-89bd4aebc9a9",
   "metadata": {},
   "source": [
    "## Task 2: Small Convolutional Neural Network\n",
    "- Build a convolutional neural network with the following specifications (Test on two different tasks):\n",
    "    - Convolution layer having 40 feature detectors, with kernel size 5 x 5, and ReLU as the activation function, with stride 1 and no-padding.\n",
    "    - A max-pooling layer with pool size 2x2.\n",
    "    - Fully connected layer with 100 neurons, and ReLU as the activation function.\n",
    "    - Output layer: n (depending on the task) neurons representing the n classes, using the softmax activation function. function for each of the 10 neurons.\n",
    "2. Using Min-Max scaling to scale the training dataset and using the same Min and Max values from the training set scale the test dataset ( X−Xmin/Xmax−Xmin ).\n",
    "3. Using mini-batch gradient descent to optimize the loss function: “categorical cross-entropy” on the training dataset. Please record the loss value for each of the epochs and create an epoch-loss plot and an accuracy-loss plot for both the training and validation set.\n",
    "4. Report the following:\n",
    "    - Final classification accuracy.\n",
    "    - The n-class confusion matrix."
   ]
  },
  {
   "cell_type": "code",
   "execution_count": null,
   "id": "7bb7ac59-dfae-4919-885d-9d06b9ae0840",
   "metadata": {},
   "outputs": [],
   "source": []
  },
  {
   "cell_type": "markdown",
   "id": "229e3f14-890a-4ffa-a3e0-7d5be46ed633",
   "metadata": {},
   "source": [
    "## Task 3: Your own Convolutional Neural Network\n",
    "1. Build another convolutional neural network, where you choose all the parameters to see if you can get a higher accuracy.\n",
    "2. Using Min-Max scaling to scale the training dataset and using the same Min and Max values from the training set scale the test dataset ( X−Xmin/Xmax−Xmin ).\n",
    "3. Using mini-batch gradient descent to optimize the loss function: “categorical cross-entropy” on the training dataset. Please record the loss value for each of the epochs and create an epoch-loss plot and an accuracy-loss plot for both the training and validation set.\n",
    "4. Report the following:\n",
    "    - Final classification accuracy.\n",
    "    - The n-class confusion matrix"
   ]
  },
  {
   "cell_type": "code",
   "execution_count": null,
   "id": "23af4e16-49e9-4ed8-8518-b4152c545e48",
   "metadata": {},
   "outputs": [],
   "source": []
  },
  {
   "cell_type": "markdown",
   "id": "36e0a435-0e8d-4b79-80b7-a1dcc3500a93",
   "metadata": {},
   "source": [
    "## Task 4: Your own Convolutional Neural Network on both Tasks Simultaneously\n",
    "1. Build another convolutional neural network, where you try and classify both tasks with a single network. After your flatten layer have two more fully connected layers for each “branch”. Note that in order to do so you will not be able to use the Sequential model.\n",
    "2. Using Min-Max scaling to scale the training dataset and using the same Min and Max values from the training set scale the test dataset ( X−Xmin/Xmax−Xmin ).\n",
    "3. Using mini-batch gradient descent to optimize the loss function: “categorical cross-entropy” on the training dataset. Please record the loss value for each of the epochs and create an epoch-loss plot and an accuracy-loss plot for both the training and validation set.\n",
    "4. Report the following:\n",
    "    - Final classification accuracy.\n",
    "    - The n-class confusion matrix"
   ]
  },
  {
   "cell_type": "code",
   "execution_count": null,
   "id": "34adc1f7-cadb-4126-a36e-6fbf4abd54e7",
   "metadata": {},
   "outputs": [],
   "source": []
  },
  {
   "cell_type": "markdown",
   "id": "ced8e48d-e509-40f8-9938-44e9106634fd",
   "metadata": {},
   "source": [
    "## Task 5: Variational Auto Encoder (COSC 525 only)\n",
    "1. Build a variational autoencoder with the following specifications (in this one you have a little more flexibility):\n",
    "    - Should have at least two convolution layers in the encoder and 2 deconvolution layers in the decoder.\n",
    "    - Latent dimension should be at least 5.\n",
    "    - Loss should be either MSE or binary cross entropy.\n",
    "2. Using Min-Max scaling to scale the training dataset and using the same Min and Max values from the training set scale the test dataset ( X−Xmin/Xmax−Xmin ).\n",
    "3. Using mini-batch gradient descent to optimize the loss function on the training dataset. Please record the loss value for each of the epochs and create an epoch-loss plot and an accuracy-loss plot for both the training and validation set.\n",
    "4. Qualitatively evaluate your model by generating a set of faces by randomly choosing 10 latent vectors and presenting the resulting images"
   ]
  },
  {
   "cell_type": "code",
   "execution_count": null,
   "id": "3aef84de-003b-4121-b3eb-1bbe48339d2d",
   "metadata": {},
   "outputs": [],
   "source": []
  }
 ],
 "metadata": {
  "kernelspec": {
   "display_name": "Python 3 (ipykernel)",
   "language": "python",
   "name": "python3"
  },
  "language_info": {
   "codemirror_mode": {
    "name": "ipython",
    "version": 3
   },
   "file_extension": ".py",
   "mimetype": "text/x-python",
   "name": "python",
   "nbconvert_exporter": "python",
   "pygments_lexer": "ipython3",
   "version": "3.11.0"
  }
 },
 "nbformat": 4,
 "nbformat_minor": 5
}
