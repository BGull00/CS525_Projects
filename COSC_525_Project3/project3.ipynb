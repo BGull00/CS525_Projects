{
 "cells": [
  {
   "cell_type": "markdown",
   "id": "d1797fb5-57d1-4c48-a8bc-74cf5290cef3",
   "metadata": {},
   "source": [
    "## Dataset\n",
    "- You will be using a modified version of the FairFace dataset (https://github.com/joojs/fairface). This is a set of 86,744 training face images and 10,954 validation face images. \n",
    "- In order to decrease the training time I converted all images to gray scale and resized them to 32 × 32. Each face has 3 different attributes which can be used for a classification task: race, gender, and age. All files can be found in the zip file on Canvas. The train folder contains the training images and the fairface label train.csv file contains all the label. There is a similar folder and file for the validation set.\n",
    "- As the three different attributes have a different number of possible values, your final layers for each classifier will vary. For each of the networks below please attempt to classify 2 of the attributes (you can choose which)."
   ]
  },
  {
   "cell_type": "markdown",
   "id": "76cc860b-fe4d-499e-a9ac-d6d6eaf3ab88",
   "metadata": {},
   "source": [
    "## Imports"
   ]
  },
  {
   "cell_type": "code",
   "execution_count": 1,
   "id": "8d534170-9810-428e-88d0-548a53d7a670",
   "metadata": {},
   "outputs": [],
   "source": [
    "#Tensor imports\n",
    "import tensorflow as tf\n",
    "from tensorflow import optimizers\n",
    "from tensorflow.keras.models import Sequential\n",
    "from tensorflow.keras import layers\n",
    "from tensorflow.keras.callbacks import TensorBoard\n",
    "\n",
    "#Pillow Imports\n",
    "from PIL import Image\n",
    "\n",
    "#Import Pandas\n",
    "import pandas as pd\n",
    "\n",
    "#Import Numpy\n",
    "import numpy as np\n",
    "\n",
    "#Sci_Kit Imports\n",
    "from sklearn.preprocessing import LabelBinarizer\n",
    "from sklearn.preprocessing import MinMaxScaler\n",
    "\n",
    "#Import datetime\n",
    "import datetime"
   ]
  },
  {
   "cell_type": "markdown",
   "id": "76a76739-643e-4988-85e9-a87595c11300",
   "metadata": {},
   "source": [
    "## Load TensorBoard and Create Logs"
   ]
  },
  {
   "cell_type": "code",
   "execution_count": 2,
   "id": "46a827b0-2156-4e05-b80b-1e41d15d8926",
   "metadata": {
    "tags": []
   },
   "outputs": [],
   "source": [
    "%load_ext tensorboard\n",
    "#%reload_ext tensorboard\n",
    "#rm -rf ./logs\n",
    "log_folder = \"logs\"\n",
    "#log_folder = \"logs/fit/\" + datetime.datetime.now().strftime(\"%Y%m%d-%H%M%S\")"
   ]
  },
  {
   "cell_type": "markdown",
   "id": "d9cf048e-eb98-432e-bcd8-6e04e0f33613",
   "metadata": {
    "tags": []
   },
   "source": [
    "## Task 1: Fully Connected Neural Network\n",
    "1. Build a feed forward neural network with the following specifications (Test on two different tasks):\n",
    "    - Hidden layer 1: 1024 neurons with hyperbolic tangent activation function in each neuron.\n",
    "    - Hidden layer 2: 512 neurons, with sigmoid activation function in each of the neuron.\n",
    "    - 100 neurons, with rectified linear activation function in each of the neuron.\n",
    "    - Output layer: n (depending on the task) neurons representing the n classes, using the softmax activation function.\n",
    "2. Using Min-Max scaling to scale the training dataset and using the same Min and Max values from the training set scale the test dataset (X−Xmin/Xmax−Xmin).\n",
    "3. Using mini-batch gradient descent to optimize the loss function: “categorical cross-entropy” on the training dataset. Please record the loss value for each of the epochs and create an epoch-loss plot and an accuracy-loss plot for both the training and validation set.\n",
    "4. Report the following:\n",
    "    - Final classification accuracy.\n",
    "    - The n-class confusion matrix."
   ]
  },
  {
   "cell_type": "code",
   "execution_count": 3,
   "id": "18c861cc-e233-4588-8377-de39bea2ebcb",
   "metadata": {
    "tags": []
   },
   "outputs": [],
   "source": [
    "def createFeedFoward(inputShape, outputSize, lr):\n",
    "    model = Sequential()\n",
    "    model.add(layers.Dense(1024, input_shape=inputShape, activation='tanh'))\n",
    "    model.add(layers.Dense(512, activation='sigmoid'))\n",
    "    model.add(layers.Dense(100, activation='relu'))\n",
    "    model.add(layers.Dense(outputSize, activation='softmax'))\n",
    "    opt = optimizers.SGD(learning_rate=lr)\n",
    "    model.compile(loss='CategoricalCrossentropy', optimizer=opt)\n",
    "    return model"
   ]
  },
  {
   "cell_type": "code",
   "execution_count": 4,
   "id": "18c0199d-d2a8-44a4-a4a2-fc0bb0c4cf8f",
   "metadata": {
    "tags": []
   },
   "outputs": [],
   "source": [
    "def createXY(imgPath, labelFile, labelType, num):\n",
    "    #Create and normalize X\n",
    "    X = []\n",
    "    for i in range(num):\n",
    "        fileName = imgPath + str(i+1) + '.jpg'\n",
    "        img = Image.open(fileName)\n",
    "        X.append(list(img.getdata()))\n",
    "    scaler = MinMaxScaler()\n",
    "    scaler.fit(X)\n",
    "    X = scaler.transform(X)\n",
    "    \n",
    "    #Get labels\n",
    "    label_df = pd.read_csv(labelFile)\n",
    "    \n",
    "    #Find unique labels and output size\n",
    "    unique = label_df[labelType].unique()\n",
    "    outputSize = len(unique)\n",
    "    \n",
    "    #Create Binary y arrays\n",
    "    lb = LabelBinarizer(sparse_output=False)\n",
    "    lb.fit(unique)\n",
    "    trueLabels = list(label_df[labelType].head(num))\n",
    "    y = lb.transform(trueLabels)\n",
    "    \n",
    "    \n",
    "    return X, y, outputSize, trueLabels, unique"
   ]
  },
  {
   "cell_type": "code",
   "execution_count": 5,
   "id": "c8c9b9a8-0d3b-4adc-9323-0b2aa7cf4309",
   "metadata": {
    "tags": []
   },
   "outputs": [],
   "source": [
    "def printResults(predictions, labels, trueLabels):\n",
    "    print(len(predictions))\n",
    "    print(len(predictions[1]))\n",
    "    print(len(labels))\n",
    "    print(len(trueLabels))\n",
    "    for i in range(len(predictions)):\n",
    "        print(\"Label: \" + trueLabels[i])\n",
    "        for j in range(len(labels)):\n",
    "            print(\"{:12}: {:10.2f}%\".format(labels[j], (predictions[i][j] * 100)))"
   ]
  },
  {
   "cell_type": "code",
   "execution_count": 6,
   "id": "c03d6754-82d0-46fc-9056-27d73c78867c",
   "metadata": {},
   "outputs": [],
   "source": [
    "callbacks = [TensorBoard(log_dir=log_folder,\n",
    "                         histogram_freq=1,\n",
    "                         write_graph=True,\n",
    "                         write_images=True,\n",
    "                         update_freq='epoch',\n",
    "                         profile_batch=2,\n",
    "                         embeddings_freq=1)]"
   ]
  },
  {
   "cell_type": "code",
   "execution_count": 7,
   "id": "7a2c2f73-23b9-48b1-b0cf-92a99778cb21",
   "metadata": {},
   "outputs": [
    {
     "name": "stdout",
     "output_type": "stream",
     "text": [
      "Epoch 1/100\n",
      "100/100 [==============================] - 3s 26ms/step - loss: 1.9139 - val_loss: 1.9028\n",
      "Epoch 2/100\n",
      "100/100 [==============================] - 2s 22ms/step - loss: 1.8696 - val_loss: 1.8968\n",
      "Epoch 3/100\n",
      "100/100 [==============================] - 4s 40ms/step - loss: 1.8650 - val_loss: 1.8958\n",
      "Epoch 4/100\n",
      "100/100 [==============================] - 3s 26ms/step - loss: 1.8625 - val_loss: 1.8929\n",
      "Epoch 5/100\n",
      "100/100 [==============================] - 3s 30ms/step - loss: 1.8602 - val_loss: 1.8904\n",
      "Epoch 6/100\n",
      "100/100 [==============================] - 3s 34ms/step - loss: 1.8589 - val_loss: 1.8927\n",
      "Epoch 7/100\n",
      "100/100 [==============================] - 3s 30ms/step - loss: 1.8574 - val_loss: 1.8884\n",
      "Epoch 8/100\n",
      "100/100 [==============================] - 3s 28ms/step - loss: 1.8561 - val_loss: 1.8898\n",
      "Epoch 9/100\n",
      "100/100 [==============================] - 3s 33ms/step - loss: 1.8546 - val_loss: 1.8855\n",
      "Epoch 10/100\n",
      "100/100 [==============================] - 3s 28ms/step - loss: 1.8534 - val_loss: 1.8866\n",
      "Epoch 11/100\n",
      "100/100 [==============================] - 3s 34ms/step - loss: 1.8513 - val_loss: 1.8866\n",
      "Epoch 12/100\n",
      "100/100 [==============================] - 3s 31ms/step - loss: 1.8503 - val_loss: 1.8883\n",
      "Epoch 13/100\n",
      "100/100 [==============================] - 3s 35ms/step - loss: 1.8489 - val_loss: 1.8804\n",
      "Epoch 14/100\n",
      "100/100 [==============================] - 3s 27ms/step - loss: 1.8472 - val_loss: 1.8802\n",
      "Epoch 15/100\n",
      "100/100 [==============================] - 3s 26ms/step - loss: 1.8460 - val_loss: 1.8785\n",
      "Epoch 16/100\n",
      "100/100 [==============================] - 3s 33ms/step - loss: 1.8449 - val_loss: 1.8809\n",
      "Epoch 17/100\n",
      "100/100 [==============================] - 3s 32ms/step - loss: 1.8434 - val_loss: 1.8787\n",
      "Epoch 18/100\n",
      "100/100 [==============================] - 4s 40ms/step - loss: 1.8423 - val_loss: 1.8786\n",
      "Epoch 19/100\n",
      "100/100 [==============================] - 4s 37ms/step - loss: 1.8408 - val_loss: 1.8807\n",
      "Epoch 20/100\n",
      "100/100 [==============================] - 3s 33ms/step - loss: 1.8396 - val_loss: 1.8726\n",
      "Epoch 21/100\n",
      "100/100 [==============================] - 3s 27ms/step - loss: 1.8386 - val_loss: 1.8748\n",
      "Epoch 22/100\n",
      "100/100 [==============================] - 3s 29ms/step - loss: 1.8369 - val_loss: 1.8714\n",
      "Epoch 23/100\n",
      "100/100 [==============================] - 4s 44ms/step - loss: 1.8362 - val_loss: 1.8744\n",
      "Epoch 24/100\n",
      "100/100 [==============================] - 3s 32ms/step - loss: 1.8346 - val_loss: 1.8716\n",
      "Epoch 25/100\n",
      "100/100 [==============================] - 4s 44ms/step - loss: 1.8332 - val_loss: 1.8724\n",
      "Epoch 26/100\n",
      "100/100 [==============================] - 4s 37ms/step - loss: 1.8319 - val_loss: 1.8657\n",
      "Epoch 27/100\n",
      "100/100 [==============================] - 3s 32ms/step - loss: 1.8311 - val_loss: 1.8708\n",
      "Epoch 28/100\n",
      "100/100 [==============================] - 3s 28ms/step - loss: 1.8295 - val_loss: 1.8662\n",
      "Epoch 29/100\n",
      "100/100 [==============================] - 2s 23ms/step - loss: 1.8287 - val_loss: 1.8654\n",
      "Epoch 30/100\n",
      "100/100 [==============================] - 4s 40ms/step - loss: 1.8266 - val_loss: 1.8687\n",
      "Epoch 31/100\n",
      "100/100 [==============================] - 3s 26ms/step - loss: 1.8259 - val_loss: 1.8634\n",
      "Epoch 32/100\n",
      "100/100 [==============================] - 3s 32ms/step - loss: 1.8246 - val_loss: 1.8649\n",
      "Epoch 33/100\n",
      "100/100 [==============================] - 4s 36ms/step - loss: 1.8230 - val_loss: 1.8603\n",
      "Epoch 34/100\n",
      "100/100 [==============================] - 3s 33ms/step - loss: 1.8227 - val_loss: 1.8569\n",
      "Epoch 35/100\n",
      "100/100 [==============================] - 3s 26ms/step - loss: 1.8208 - val_loss: 1.8671\n",
      "Epoch 36/100\n",
      "100/100 [==============================] - 4s 36ms/step - loss: 1.8200 - val_loss: 1.8596\n",
      "Epoch 37/100\n",
      "100/100 [==============================] - 3s 35ms/step - loss: 1.8184 - val_loss: 1.8550\n",
      "Epoch 38/100\n",
      "100/100 [==============================] - 4s 36ms/step - loss: 1.8172 - val_loss: 1.8583\n",
      "Epoch 39/100\n",
      "100/100 [==============================] - 4s 35ms/step - loss: 1.8165 - val_loss: 1.8545\n",
      "Epoch 40/100\n",
      "100/100 [==============================] - 4s 36ms/step - loss: 1.8145 - val_loss: 1.8601\n",
      "Epoch 41/100\n",
      "100/100 [==============================] - 3s 29ms/step - loss: 1.8133 - val_loss: 1.8521\n",
      "Epoch 42/100\n",
      "100/100 [==============================] - 3s 33ms/step - loss: 1.8120 - val_loss: 1.8535\n",
      "Epoch 43/100\n",
      "100/100 [==============================] - 3s 25ms/step - loss: 1.8106 - val_loss: 1.8533\n",
      "Epoch 44/100\n",
      "100/100 [==============================] - 3s 30ms/step - loss: 1.8096 - val_loss: 1.8539\n",
      "Epoch 45/100\n",
      "100/100 [==============================] - 4s 41ms/step - loss: 1.8085 - val_loss: 1.8481\n",
      "Epoch 46/100\n",
      "100/100 [==============================] - 4s 38ms/step - loss: 1.8071 - val_loss: 1.8453\n",
      "Epoch 47/100\n",
      "100/100 [==============================] - 4s 35ms/step - loss: 1.8062 - val_loss: 1.8462\n",
      "Epoch 48/100\n",
      "100/100 [==============================] - 3s 25ms/step - loss: 1.8041 - val_loss: 1.8451\n",
      "Epoch 49/100\n",
      "100/100 [==============================] - 3s 27ms/step - loss: 1.8038 - val_loss: 1.8416\n",
      "Epoch 50/100\n",
      "100/100 [==============================] - 4s 43ms/step - loss: 1.8032 - val_loss: 1.8419\n",
      "Epoch 51/100\n",
      "100/100 [==============================] - 2s 24ms/step - loss: 1.8014 - val_loss: 1.8426\n",
      "Epoch 52/100\n",
      "100/100 [==============================] - 4s 43ms/step - loss: 1.7999 - val_loss: 1.8377\n",
      "Epoch 53/100\n",
      "100/100 [==============================] - 4s 39ms/step - loss: 1.7991 - val_loss: 1.8457\n",
      "Epoch 54/100\n",
      "100/100 [==============================] - 3s 31ms/step - loss: 1.7987 - val_loss: 1.8426\n",
      "Epoch 55/100\n",
      "100/100 [==============================] - 4s 36ms/step - loss: 1.7969 - val_loss: 1.8434\n",
      "Epoch 56/100\n",
      "100/100 [==============================] - 2s 22ms/step - loss: 1.7956 - val_loss: 1.8427\n",
      "Epoch 57/100\n",
      "100/100 [==============================] - 4s 40ms/step - loss: 1.7944 - val_loss: 1.8371\n",
      "Epoch 58/100\n",
      "100/100 [==============================] - 3s 35ms/step - loss: 1.7933 - val_loss: 1.8394\n",
      "Epoch 59/100\n",
      "100/100 [==============================] - 3s 33ms/step - loss: 1.7925 - val_loss: 1.8347\n",
      "Epoch 60/100\n",
      "100/100 [==============================] - 3s 29ms/step - loss: 1.7911 - val_loss: 1.8314\n",
      "Epoch 61/100\n",
      "100/100 [==============================] - 3s 27ms/step - loss: 1.7904 - val_loss: 1.8310\n",
      "Epoch 62/100\n",
      "100/100 [==============================] - 3s 30ms/step - loss: 1.7896 - val_loss: 1.8320\n",
      "Epoch 63/100\n",
      "100/100 [==============================] - 3s 26ms/step - loss: 1.7878 - val_loss: 1.8308\n",
      "Epoch 64/100\n",
      "100/100 [==============================] - 3s 28ms/step - loss: 1.7866 - val_loss: 1.8338\n",
      "Epoch 65/100\n",
      "100/100 [==============================] - 4s 36ms/step - loss: 1.7857 - val_loss: 1.8296\n",
      "Epoch 66/100\n",
      "100/100 [==============================] - 2s 24ms/step - loss: 1.7842 - val_loss: 1.8272\n",
      "Epoch 67/100\n",
      "100/100 [==============================] - 3s 29ms/step - loss: 1.7831 - val_loss: 1.8286\n",
      "Epoch 68/100\n",
      "100/100 [==============================] - 3s 26ms/step - loss: 1.7825 - val_loss: 1.8304\n",
      "Epoch 69/100\n",
      "100/100 [==============================] - 3s 30ms/step - loss: 1.7813 - val_loss: 1.8282\n",
      "Epoch 70/100\n",
      "100/100 [==============================] - 3s 31ms/step - loss: 1.7793 - val_loss: 1.8327\n",
      "Epoch 71/100\n",
      "100/100 [==============================] - 3s 26ms/step - loss: 1.7797 - val_loss: 1.8258\n",
      "Epoch 72/100\n",
      "100/100 [==============================] - 2s 23ms/step - loss: 1.7783 - val_loss: 1.8225\n",
      "Epoch 73/100\n",
      "100/100 [==============================] - 3s 30ms/step - loss: 1.7763 - val_loss: 1.8305\n",
      "Epoch 74/100\n",
      "100/100 [==============================] - 3s 34ms/step - loss: 1.7758 - val_loss: 1.8251\n",
      "Epoch 75/100\n",
      "100/100 [==============================] - 4s 38ms/step - loss: 1.7747 - val_loss: 1.8241\n",
      "Epoch 76/100\n",
      "100/100 [==============================] - 3s 26ms/step - loss: 1.7739 - val_loss: 1.8252\n",
      "Epoch 77/100\n",
      "100/100 [==============================] - 3s 31ms/step - loss: 1.7728 - val_loss: 1.8169\n",
      "Epoch 78/100\n",
      "100/100 [==============================] - 3s 31ms/step - loss: 1.7712 - val_loss: 1.8216\n",
      "Epoch 79/100\n",
      "100/100 [==============================] - 3s 29ms/step - loss: 1.7703 - val_loss: 1.8192\n",
      "Epoch 80/100\n",
      "100/100 [==============================] - 2s 25ms/step - loss: 1.7700 - val_loss: 1.8180\n",
      "Epoch 81/100\n",
      "100/100 [==============================] - 3s 35ms/step - loss: 1.7687 - val_loss: 1.8205\n",
      "Epoch 82/100\n",
      "100/100 [==============================] - 3s 26ms/step - loss: 1.7674 - val_loss: 1.8124\n",
      "Epoch 83/100\n",
      "100/100 [==============================] - 3s 29ms/step - loss: 1.7668 - val_loss: 1.8138\n",
      "Epoch 84/100\n",
      "100/100 [==============================] - 3s 26ms/step - loss: 1.7653 - val_loss: 1.8152\n",
      "Epoch 85/100\n",
      "100/100 [==============================] - 2s 22ms/step - loss: 1.7638 - val_loss: 1.8095\n",
      "Epoch 86/100\n",
      "100/100 [==============================] - 5s 45ms/step - loss: 1.7629 - val_loss: 1.8112\n",
      "Epoch 87/100\n",
      "100/100 [==============================] - 5s 50ms/step - loss: 1.7625 - val_loss: 1.8108\n",
      "Epoch 88/100\n",
      "100/100 [==============================] - 5s 49ms/step - loss: 1.7610 - val_loss: 1.8122\n",
      "Epoch 89/100\n",
      "100/100 [==============================] - 5s 49ms/step - loss: 1.7604 - val_loss: 1.8068\n",
      "Epoch 90/100\n",
      "100/100 [==============================] - 5s 46ms/step - loss: 1.7587 - val_loss: 1.8090\n",
      "Epoch 91/100\n",
      "100/100 [==============================] - 5s 46ms/step - loss: 1.7585 - val_loss: 1.8097\n",
      "Epoch 92/100\n",
      "100/100 [==============================] - 3s 33ms/step - loss: 1.7570 - val_loss: 1.8129\n",
      "Epoch 93/100\n",
      "100/100 [==============================] - 4s 44ms/step - loss: 1.7562 - val_loss: 1.8097\n",
      "Epoch 94/100\n",
      "100/100 [==============================] - 4s 45ms/step - loss: 1.7547 - val_loss: 1.8083\n",
      "Epoch 95/100\n",
      "100/100 [==============================] - 5s 49ms/step - loss: 1.7538 - val_loss: 1.8122\n",
      "Epoch 96/100\n",
      "100/100 [==============================] - 3s 34ms/step - loss: 1.7532 - val_loss: 1.8089\n",
      "Epoch 97/100\n",
      "100/100 [==============================] - 4s 35ms/step - loss: 1.7524 - val_loss: 1.8017\n",
      "Epoch 98/100\n",
      "100/100 [==============================] - 4s 43ms/step - loss: 1.7515 - val_loss: 1.8102\n",
      "Epoch 99/100\n",
      "100/100 [==============================] - 3s 29ms/step - loss: 1.7503 - val_loss: 1.8032\n",
      "Epoch 100/100\n",
      "100/100 [==============================] - 4s 41ms/step - loss: 1.7495 - val_loss: 1.8011\n"
     ]
    },
    {
     "data": {
      "text/plain": [
       "<keras.callbacks.History at 0x15ba5046e50>"
      ]
     },
     "execution_count": 7,
     "metadata": {},
     "output_type": "execute_result"
    }
   ],
   "source": [
    "X_train, y_train, outputSize, trueLabels, labels = createXY('project3_COSC525/train/', 'project3_COSC525/fairface_label_train.csv', 'age', 10000)\n",
    "X_test, y_test, _ , trueLabels_test, _ = createXY('project3_COSC525/val/', 'project3_COSC525/fairface_label_val.csv', 'age', 1000)\n",
    "model = createFeedFoward((1024,), outputSize, 0.005)\n",
    "model.fit(X_train, y_train, validation_data=(X_test, y_test), epochs=100, batch_size=100, callbacks=callbacks)\n"
   ]
  },
  {
   "cell_type": "code",
   "execution_count": 8,
   "id": "bfa19edb-0725-4dbf-9bc5-eb81ecd8fa9a",
   "metadata": {
    "tags": []
   },
   "outputs": [
    {
     "data": {
      "text/plain": [
       "Reusing TensorBoard on port 6005 (pid 5760), started 2:19:58 ago. (Use '!kill 5760' to kill it.)"
      ]
     },
     "metadata": {},
     "output_type": "display_data"
    },
    {
     "data": {
      "text/html": [
       "\n",
       "      <iframe id=\"tensorboard-frame-1e22f3dd047e61a4\" width=\"100%\" height=\"800\" frameborder=\"0\">\n",
       "      </iframe>\n",
       "      <script>\n",
       "        (function() {\n",
       "          const frame = document.getElementById(\"tensorboard-frame-1e22f3dd047e61a4\");\n",
       "          const url = new URL(\"/\", window.location);\n",
       "          const port = 6005;\n",
       "          if (port) {\n",
       "            url.port = port;\n",
       "          }\n",
       "          frame.src = url;\n",
       "        })();\n",
       "      </script>\n",
       "    "
      ],
      "text/plain": [
       "<IPython.core.display.HTML object>"
      ]
     },
     "metadata": {},
     "output_type": "display_data"
    }
   ],
   "source": [
    "#printResults(model.predict(X), labels, trueLabels)\n",
    "%tensorboard --logdir logs --port=6005"
   ]
  },
  {
   "cell_type": "markdown",
   "id": "1e599607-4dd1-4a50-b7ac-89bd4aebc9a9",
   "metadata": {},
   "source": [
    "## Task 2: Small Convolutional Neural Network\n",
    "- Build a convolutional neural network with the following specifications (Test on two different tasks):\n",
    "    - Convolution layer having 40 feature detectors, with kernel size 5 x 5, and ReLU as the activation function, with stride 1 and no-padding.\n",
    "    - A max-pooling layer with pool size 2x2.\n",
    "    - Fully connected layer with 100 neurons, and ReLU as the activation function.\n",
    "    - Output layer: n (depending on the task) neurons representing the n classes, using the softmax activation function. function for each of the 10 neurons.\n",
    "2. Using Min-Max scaling to scale the training dataset and using the same Min and Max values from the training set scale the test dataset ( X−Xmin/Xmax−Xmin ).\n",
    "3. Using mini-batch gradient descent to optimize the loss function: “categorical cross-entropy” on the training dataset. Please record the loss value for each of the epochs and create an epoch-loss plot and an accuracy-loss plot for both the training and validation set.\n",
    "4. Report the following:\n",
    "    - Final classification accuracy.\n",
    "    - The n-class confusion matrix."
   ]
  },
  {
   "cell_type": "code",
   "execution_count": null,
   "id": "7bb7ac59-dfae-4919-885d-9d06b9ae0840",
   "metadata": {},
   "outputs": [],
   "source": []
  },
  {
   "cell_type": "markdown",
   "id": "229e3f14-890a-4ffa-a3e0-7d5be46ed633",
   "metadata": {},
   "source": [
    "## Task 3: Your own Convolutional Neural Network\n",
    "1. Build another convolutional neural network, where you choose all the parameters to see if you can get a higher accuracy.\n",
    "2. Using Min-Max scaling to scale the training dataset and using the same Min and Max values from the training set scale the test dataset ( X−Xmin/Xmax−Xmin ).\n",
    "3. Using mini-batch gradient descent to optimize the loss function: “categorical cross-entropy” on the training dataset. Please record the loss value for each of the epochs and create an epoch-loss plot and an accuracy-loss plot for both the training and validation set.\n",
    "4. Report the following:\n",
    "    - Final classification accuracy.\n",
    "    - The n-class confusion matrix"
   ]
  },
  {
   "cell_type": "code",
   "execution_count": null,
   "id": "23af4e16-49e9-4ed8-8518-b4152c545e48",
   "metadata": {},
   "outputs": [],
   "source": []
  },
  {
   "cell_type": "markdown",
   "id": "36e0a435-0e8d-4b79-80b7-a1dcc3500a93",
   "metadata": {},
   "source": [
    "## Task 4: Your own Convolutional Neural Network on both Tasks Simultaneously\n",
    "1. Build another convolutional neural network, where you try and classify both tasks with a single network. After your flatten layer have two more fully connected layers for each “branch”. Note that in order to do so you will not be able to use the Sequential model.\n",
    "2. Using Min-Max scaling to scale the training dataset and using the same Min and Max values from the training set scale the test dataset ( X−Xmin/Xmax−Xmin ).\n",
    "3. Using mini-batch gradient descent to optimize the loss function: “categorical cross-entropy” on the training dataset. Please record the loss value for each of the epochs and create an epoch-loss plot and an accuracy-loss plot for both the training and validation set.\n",
    "4. Report the following:\n",
    "    - Final classification accuracy.\n",
    "    - The n-class confusion matrix"
   ]
  },
  {
   "cell_type": "code",
   "execution_count": null,
   "id": "34adc1f7-cadb-4126-a36e-6fbf4abd54e7",
   "metadata": {},
   "outputs": [],
   "source": []
  },
  {
   "cell_type": "markdown",
   "id": "ced8e48d-e509-40f8-9938-44e9106634fd",
   "metadata": {},
   "source": [
    "## Task 5: Variational Auto Encoder (COSC 525 only)\n",
    "1. Build a variational autoencoder with the following specifications (in this one you have a little more flexibility):\n",
    "    - Should have at least two convolution layers in the encoder and 2 deconvolution layers in the decoder.\n",
    "    - Latent dimension should be at least 5.\n",
    "    - Loss should be either MSE or binary cross entropy.\n",
    "2. Using Min-Max scaling to scale the training dataset and using the same Min and Max values from the training set scale the test dataset ( X−Xmin/Xmax−Xmin ).\n",
    "3. Using mini-batch gradient descent to optimize the loss function on the training dataset. Please record the loss value for each of the epochs and create an epoch-loss plot and an accuracy-loss plot for both the training and validation set.\n",
    "4. Qualitatively evaluate your model by generating a set of faces by randomly choosing 10 latent vectors and presenting the resulting images"
   ]
  },
  {
   "cell_type": "code",
   "execution_count": null,
   "id": "3aef84de-003b-4121-b3eb-1bbe48339d2d",
   "metadata": {},
   "outputs": [],
   "source": []
  }
 ],
 "metadata": {
  "kernelspec": {
   "display_name": "Python 3 (ipykernel)",
   "language": "python",
   "name": "python3"
  },
  "language_info": {
   "codemirror_mode": {
    "name": "ipython",
    "version": 3
   },
   "file_extension": ".py",
   "mimetype": "text/x-python",
   "name": "python",
   "nbconvert_exporter": "python",
   "pygments_lexer": "ipython3",
   "version": "3.11.0"
  }
 },
 "nbformat": 4,
 "nbformat_minor": 5
}
