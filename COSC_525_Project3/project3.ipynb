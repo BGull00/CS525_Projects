{
 "cells": [
  {
   "cell_type": "markdown",
   "id": "d1797fb5-57d1-4c48-a8bc-74cf5290cef3",
   "metadata": {},
   "source": [
    "## Dataset\n",
    "- You will be using a modified version of the FairFace dataset (https://github.com/joojs/fairface). This is a set of 86,744 training face images and 10,954 validation face images. \n",
    "- In order to decrease the training time I converted all images to gray scale and resized them to 32 × 32. Each face has 3 different attributes which can be used for a classification task: race, gender, and age. All files can be found in the zip file on Canvas. The train folder contains the training images and the fairface label train.csv file contains all the label. There is a similar folder and file for the validation set.\n",
    "- As the three different attributes have a different number of possible values, your final layers for each classifier will vary. For each of the networks below please attempt to classify 2 of the attributes (you can choose which)."
   ]
  },
  {
   "cell_type": "markdown",
   "id": "76cc860b-fe4d-499e-a9ac-d6d6eaf3ab88",
   "metadata": {},
   "source": [
    "## Imports"
   ]
  },
  {
   "cell_type": "code",
   "execution_count": null,
   "id": "8d534170-9810-428e-88d0-548a53d7a670",
   "metadata": {},
   "outputs": [],
   "source": [
    "#Tensor imports\n",
    "import tensorflow as tf\n",
    "from tensorflow import optimizers\n",
    "from tensorflow.keras.models import Sequential\n",
    "from tensorflow.keras import layers\n",
    "from tensorflow.keras.callbacks import TensorBoard\n",
    "\n",
    "#Pillow Imports\n",
    "from PIL import Image\n",
    "\n",
    "#Import Pandas\n",
    "import pandas as pd\n",
    "\n",
    "#Import Numpy\n",
    "import numpy as np\n",
    "\n",
    "#Sci_Kit Imports\n",
    "from sklearn.preprocessing import LabelBinarizer\n",
    "from sklearn.preprocessing import MinMaxScaler\n",
    "from sklearn.metrics import confusion_matrix\n",
    "\n",
    "#Import datetime\n",
    "import datetime"
   ]
  },
  {
   "cell_type": "markdown",
   "id": "76a76739-643e-4988-85e9-a87595c11300",
   "metadata": {},
   "source": [
    "## Load TensorBoard and Create Logs"
   ]
  },
  {
   "cell_type": "code",
   "execution_count": null,
   "id": "46a827b0-2156-4e05-b80b-1e41d15d8926",
   "metadata": {
    "tags": []
   },
   "outputs": [],
   "source": [
    "#%load_ext tensorboard\n",
    "%reload_ext tensorboard\n",
    "#log_folder = \"logs\"\n",
    "log_folder = \"logs/fit/\" + datetime.datetime.now().strftime(\"%Y%m%d-%H%M%S\")"
   ]
  },
  {
   "cell_type": "markdown",
   "id": "d9cf048e-eb98-432e-bcd8-6e04e0f33613",
   "metadata": {
    "tags": []
   },
   "source": [
    "## Task 1: Fully Connected Neural Network\n",
    "1. Build a feed forward neural network with the following specifications (Test on two different tasks):\n",
    "    - Hidden layer 1: 1024 neurons with hyperbolic tangent activation function in each neuron.\n",
    "    - Hidden layer 2: 512 neurons, with sigmoid activation function in each of the neuron.\n",
    "    - 100 neurons, with rectified linear activation function in each of the neuron.\n",
    "    - Output layer: n (depending on the task) neurons representing the n classes, using the softmax activation function.\n",
    "2. Using Min-Max scaling to scale the training dataset and using the same Min and Max values from the training set scale the test dataset (X−Xmin/Xmax−Xmin).\n",
    "3. Using mini-batch gradient descent to optimize the loss function: “categorical cross-entropy” on the training dataset. Please record the loss value for each of the epochs and create an epoch-loss plot and an accuracy-loss plot for both the training and validation set.\n",
    "4. Report the following:\n",
    "    - Final classification accuracy.\n",
    "    - The n-class confusion matrix."
   ]
  },
  {
   "cell_type": "code",
   "execution_count": null,
   "id": "18c861cc-e233-4588-8377-de39bea2ebcb",
   "metadata": {
    "tags": []
   },
   "outputs": [],
   "source": [
    "def createFeedFoward(inputShape, outputSize, lr):\n",
    "    model = Sequential()\n",
    "    model.add(layers.Dense(1024, input_shape=inputShape, activation='tanh'))\n",
    "    model.add(layers.Dense(512, activation='sigmoid'))\n",
    "    model.add(layers.Dense(100, activation='relu'))\n",
    "    model.add(layers.Dense(outputSize, activation='softmax'))\n",
    "    opt = optimizers.SGD(learning_rate=lr)\n",
    "    model.compile(loss='CategoricalCrossentropy', optimizer=opt, metrics=['accuracy'])\n",
    "    return model"
   ]
  },
  {
   "cell_type": "code",
   "execution_count": null,
   "id": "18c0199d-d2a8-44a4-a4a2-fc0bb0c4cf8f",
   "metadata": {
    "tags": []
   },
   "outputs": [],
   "source": [
    "def createXY(imgPath, labelFile, labelType, num):\n",
    "    #Create and normalize X\n",
    "    X = []\n",
    "    for i in range(num):\n",
    "        fileName = imgPath + str(i+1) + '.jpg'\n",
    "        img = Image.open(fileName)\n",
    "        X.append(list(img.getdata()))\n",
    "    scaler = MinMaxScaler()\n",
    "    scaler.fit(X)\n",
    "    X = scaler.transform(X)\n",
    "    \n",
    "    #Get labels\n",
    "    label_df = pd.read_csv(labelFile)\n",
    "    \n",
    "    #Find unique labels and output size\n",
    "    unique = label_df[labelType].unique()\n",
    "    outputSize = len(unique)\n",
    "    \n",
    "    #Create Binary y arrays\n",
    "    lb = LabelBinarizer(sparse_output=False)\n",
    "    lb.fit(unique)\n",
    "    trueLabels = list(label_df[labelType].head(num))\n",
    "    y = lb.transform(trueLabels)\n",
    "    \n",
    "    \n",
    "    return X, y, outputSize, trueLabels, unique"
   ]
  },
  {
   "cell_type": "code",
   "execution_count": null,
   "id": "c8c9b9a8-0d3b-4adc-9323-0b2aa7cf4309",
   "metadata": {
    "tags": []
   },
   "outputs": [],
   "source": [
    "def printResults(predictions, labels, trueLabels):\n",
    "    print(len(predictions))\n",
    "    print(len(predictions[1]))\n",
    "    print(len(labels))\n",
    "    print(len(trueLabels))\n",
    "    for i in range(len(predictions)):\n",
    "        print(\"Label: \" + trueLabels[i])\n",
    "        for j in range(len(labels)):\n",
    "            print(\"{:12}: {:10.2f}%\".format(labels[j], (predictions[i][j] * 100)))"
   ]
  },
  {
   "cell_type": "code",
   "execution_count": null,
   "id": "8ae9e112-bcf9-4f1a-9023-f274f066475f",
   "metadata": {
    "tags": []
   },
   "outputs": [],
   "source": [
    "def getMax(values):\n",
    "    maxes = [np.argmax(val) for val in values ]\n",
    "    return maxes"
   ]
  },
  {
   "cell_type": "code",
   "execution_count": null,
   "id": "c03d6754-82d0-46fc-9056-27d73c78867c",
   "metadata": {},
   "outputs": [],
   "source": [
    "callbacks = [TensorBoard(log_dir=log_folder,\n",
    "                         histogram_freq=1,\n",
    "                         write_graph=True,\n",
    "                         write_images=True,\n",
    "                         update_freq='epoch',\n",
    "                         profile_batch=2,\n",
    "                         embeddings_freq=1)]"
   ]
  },
  {
   "cell_type": "code",
   "execution_count": null,
   "id": "c0cc615c-9cd8-4a43-9099-28eab987c309",
   "metadata": {
    "tags": []
   },
   "outputs": [],
   "source": [
    "X_train, y_train, outputSize, trueLabels, labels = createXY('project3_COSC525/train/', 'project3_COSC525/fairface_label_train.csv', 'age', 86744)\n",
    "X_test, y_test, _ , trueLabels_test, _ = createXY('project3_COSC525/val/', 'project3_COSC525/fairface_label_val.csv', 'age', 10954)"
   ]
  },
  {
   "cell_type": "code",
   "execution_count": null,
   "id": "7a2c2f73-23b9-48b1-b0cf-92a99778cb21",
   "metadata": {},
   "outputs": [],
   "source": [
    "\n",
    "model = createFeedFoward((1024,), outputSize, 0.01)\n",
    "model.fit(X_train, y_train, validation_data=(X_test, y_test), epochs=20, batch_size=100, callbacks=callbacks)\n",
    "\n"
   ]
  },
  {
   "cell_type": "code",
   "execution_count": null,
   "id": "35b209cd-8c69-47f8-bcd4-fb452047f933",
   "metadata": {
    "tags": []
   },
   "outputs": [],
   "source": [
    "y_true = getMax(y_test)\n",
    "y_pred = getMax(model.predict(X_test))\n",
    "eval = tf.keras.metrics.Accuracy()\n",
    "eval.update_state(y_true, y_pred)\n",
    "print('Accuracy: ', eval.result().numpy())\n",
    "c_matrix = confusion_matrix(y_true, y_pred)\n",
    "print(c_matrix)"
   ]
  },
  {
   "cell_type": "code",
   "execution_count": null,
   "id": "bfa19edb-0725-4dbf-9bc5-eb81ecd8fa9a",
   "metadata": {
    "tags": []
   },
   "outputs": [],
   "source": [
    "#printResults(model.predict(X), labels, trueLabels)\n",
    "%tensorboard --logdir logs --port=6007"
   ]
  },
  {
   "cell_type": "markdown",
   "id": "1e599607-4dd1-4a50-b7ac-89bd4aebc9a9",
   "metadata": {},
   "source": [
    "## Task 2: Small Convolutional Neural Network\n",
    "- Build a convolutional neural network with the following specifications (Test on two different tasks):\n",
    "    - Convolution layer having 40 feature detectors, with kernel size 5 x 5, and ReLU as the activation function, with stride 1 and no-padding.\n",
    "    - A max-pooling layer with pool size 2x2.\n",
    "    - Fully connected layer with 100 neurons, and ReLU as the activation function.\n",
    "    - Output layer: n (depending on the task) neurons representing the n classes, using the softmax activation function. function for each of the 10 neurons.\n",
    "2. Using Min-Max scaling to scale the training dataset and using the same Min and Max values from the training set scale the test dataset ( X−Xmin/Xmax−Xmin ).\n",
    "3. Using mini-batch gradient descent to optimize the loss function: “categorical cross-entropy” on the training dataset. Please record the loss value for each of the epochs and create an epoch-loss plot and an accuracy-loss plot for both the training and validation set.\n",
    "4. Report the following:\n",
    "    - Final classification accuracy.\n",
    "    - The n-class confusion matrix."
   ]
  },
  {
   "cell_type": "code",
   "execution_count": null,
   "id": "7bb7ac59-dfae-4919-885d-9d06b9ae0840",
   "metadata": {},
   "outputs": [],
   "source": []
  },
  {
   "cell_type": "markdown",
   "id": "229e3f14-890a-4ffa-a3e0-7d5be46ed633",
   "metadata": {},
   "source": [
    "## Task 3: Your own Convolutional Neural Network\n",
    "1. Build another convolutional neural network, where you choose all the parameters to see if you can get a higher accuracy.\n",
    "2. Using Min-Max scaling to scale the training dataset and using the same Min and Max values from the training set scale the test dataset ( X−Xmin/Xmax−Xmin ).\n",
    "3. Using mini-batch gradient descent to optimize the loss function: “categorical cross-entropy” on the training dataset. Please record the loss value for each of the epochs and create an epoch-loss plot and an accuracy-loss plot for both the training and validation set.\n",
    "4. Report the following:\n",
    "    - Final classification accuracy.\n",
    "    - The n-class confusion matrix"
   ]
  },
  {
   "cell_type": "code",
   "execution_count": null,
   "id": "23af4e16-49e9-4ed8-8518-b4152c545e48",
   "metadata": {},
   "outputs": [],
   "source": []
  },
  {
   "cell_type": "markdown",
   "id": "36e0a435-0e8d-4b79-80b7-a1dcc3500a93",
   "metadata": {},
   "source": [
    "## Task 4: Your own Convolutional Neural Network on both Tasks Simultaneously\n",
    "1. Build another convolutional neural network, where you try and classify both tasks with a single network. After your flatten layer have two more fully connected layers for each “branch”. Note that in order to do so you will not be able to use the Sequential model.\n",
    "2. Using Min-Max scaling to scale the training dataset and using the same Min and Max values from the training set scale the test dataset ( X−Xmin/Xmax−Xmin ).\n",
    "3. Using mini-batch gradient descent to optimize the loss function: “categorical cross-entropy” on the training dataset. Please record the loss value for each of the epochs and create an epoch-loss plot and an accuracy-loss plot for both the training and validation set.\n",
    "4. Report the following:\n",
    "    - Final classification accuracy.\n",
    "    - The n-class confusion matrix"
   ]
  },
  {
   "cell_type": "code",
   "execution_count": null,
   "id": "34adc1f7-cadb-4126-a36e-6fbf4abd54e7",
   "metadata": {},
   "outputs": [],
   "source": []
  },
  {
   "cell_type": "markdown",
   "id": "ced8e48d-e509-40f8-9938-44e9106634fd",
   "metadata": {},
   "source": [
    "## Task 5: Variational Auto Encoder (COSC 525 only)\n",
    "1. Build a variational autoencoder with the following specifications (in this one you have a little more flexibility):\n",
    "    - Should have at least two convolution layers in the encoder and 2 deconvolution layers in the decoder.\n",
    "    - Latent dimension should be at least 5.\n",
    "    - Loss should be either MSE or binary cross entropy.\n",
    "2. Using Min-Max scaling to scale the training dataset and using the same Min and Max values from the training set scale the test dataset ( X−Xmin/Xmax−Xmin ).\n",
    "3. Using mini-batch gradient descent to optimize the loss function on the training dataset. Please record the loss value for each of the epochs and create an epoch-loss plot and an accuracy-loss plot for both the training and validation set.\n",
    "4. Qualitatively evaluate your model by generating a set of faces by randomly choosing 10 latent vectors and presenting the resulting images"
   ]
  },
  {
   "cell_type": "code",
   "execution_count": null,
   "id": "3aef84de-003b-4121-b3eb-1bbe48339d2d",
   "metadata": {},
   "outputs": [],
   "source": []
  }
 ],
 "metadata": {
  "kernelspec": {
   "display_name": "Python 3 (ipykernel)",
   "language": "python",
   "name": "python3"
  },
  "language_info": {
   "codemirror_mode": {
    "name": "ipython",
    "version": 3
   },
   "file_extension": ".py",
   "mimetype": "text/x-python",
   "name": "python",
   "nbconvert_exporter": "python",
   "pygments_lexer": "ipython3",
   "version": "3.11.0"
  }
 },
 "nbformat": 4,
 "nbformat_minor": 5
}
