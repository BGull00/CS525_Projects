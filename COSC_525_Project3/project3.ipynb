{
 "cells": [
  {
   "cell_type": "markdown",
   "id": "d1797fb5-57d1-4c48-a8bc-74cf5290cef3",
   "metadata": {},
   "source": [
    "## Dataset\n",
    "- You will be using a modified version of the FairFace dataset (https://github.com/joojs/fairface). This is a set of 86,744 training face images and 10,954 validation face images. \n",
    "- In order to decrease the training time I converted all images to gray scale and resized them to 32 × 32. Each face has 3 different attributes which can be used for a classification task: race, gender, and age. All files can be found in the zip file on Canvas. The train folder contains the training images and the fairface label train.csv file contains all the label. There is a similar folder and file for the validation set.\n",
    "- As the three different attributes have a different number of possible values, your final layers for each classifier will vary. For each of the networks below please attempt to classify 2 of the attributes (you can choose which)."
   ]
  },
  {
   "cell_type": "markdown",
   "id": "76cc860b-fe4d-499e-a9ac-d6d6eaf3ab88",
   "metadata": {},
   "source": [
    "## Imports"
   ]
  },
  {
   "cell_type": "code",
   "execution_count": 120,
   "id": "8d534170-9810-428e-88d0-548a53d7a670",
   "metadata": {},
   "outputs": [],
   "source": [
    "#Tensor imports\n",
    "import tensorflow as tf\n",
    "from tensorflow import optimizers\n",
    "from tensorflow import keras\n",
    "from tensorflow.keras.models import Sequential\n",
    "from tensorflow.keras import layers\n",
    "from tensorflow.keras.callbacks import TensorBoard\n",
    "\n",
    "#Pillow Imports\n",
    "from PIL import Image\n",
    "\n",
    "#Import Pandas\n",
    "import pandas as pd\n",
    "\n",
    "#Import Numpy\n",
    "import numpy as np\n",
    "\n",
    "#Sci_Kit Imports\n",
    "from sklearn.preprocessing import LabelBinarizer\n",
    "from sklearn.preprocessing import MinMaxScaler\n",
    "from sklearn.metrics import confusion_matrix\n",
    "\n",
    "#Import datetime\n",
    "import datetime"
   ]
  },
  {
   "cell_type": "markdown",
   "id": "76a76739-643e-4988-85e9-a87595c11300",
   "metadata": {},
   "source": [
    "## Load TensorBoard and Create Logs"
   ]
  },
  {
   "cell_type": "code",
   "execution_count": 121,
   "id": "46a827b0-2156-4e05-b80b-1e41d15d8926",
   "metadata": {
    "tags": []
   },
   "outputs": [
    {
     "name": "stdout",
     "output_type": "stream",
     "text": [
      "The tensorboard extension is already loaded. To reload it, use:\n",
      "  %reload_ext tensorboard\n"
     ]
    }
   ],
   "source": [
    "%load_ext tensorboard\n",
    "%reload_ext tensorboard\n",
    "#log_folder = \"logs\"\n",
    "log_folder = \"logs/fit/\" + datetime.datetime.now().strftime(\"%Y%m%d-%H%M%S\")"
   ]
  },
  {
   "cell_type": "markdown",
   "id": "d9cf048e-eb98-432e-bcd8-6e04e0f33613",
   "metadata": {
    "tags": []
   },
   "source": [
    "## Task 1: Fully Connected Neural Network\n",
    "1. Build a feed forward neural network with the following specifications (Test on two different tasks):\n",
    "    - Hidden layer 1: 1024 neurons with hyperbolic tangent activation function in each neuron.\n",
    "    - Hidden layer 2: 512 neurons, with sigmoid activation function in each of the neuron.\n",
    "    - 100 neurons, with rectified linear activation function in each of the neuron.\n",
    "    - Output layer: n (depending on the task) neurons representing the n classes, using the softmax activation function.\n",
    "2. Using Min-Max scaling to scale the training dataset and using the same Min and Max values from the training set scale the test dataset (X−Xmin/Xmax−Xmin).\n",
    "3. Using mini-batch gradient descent to optimize the loss function: “categorical cross-entropy” on the training dataset. Please record the loss value for each of the epochs and create an epoch-loss plot and an accuracy-loss plot for both the training and validation set.\n",
    "4. Report the following:\n",
    "    - Final classification accuracy.\n",
    "    - The n-class confusion matrix."
   ]
  },
  {
   "cell_type": "code",
   "execution_count": 122,
   "id": "18c861cc-e233-4588-8377-de39bea2ebcb",
   "metadata": {
    "tags": []
   },
   "outputs": [],
   "source": [
    "def createFeedFoward(inputShape, outputSize, lr):\n",
    "    model = Sequential()\n",
    "    model.add(layers.Dense(1024, input_shape=inputShape, activation='tanh'))\n",
    "    model.add(layers.Dense(512, activation='sigmoid'))\n",
    "    model.add(layers.Dense(100, activation='relu'))\n",
    "    model.add(layers.Dense(outputSize, activation='softmax'))\n",
    "    opt = optimizers.SGD(learning_rate=lr)\n",
    "    model.compile(loss='CategoricalCrossentropy', optimizer=opt, metrics=['accuracy'])\n",
    "    return model"
   ]
  },
  {
   "cell_type": "code",
   "execution_count": 123,
   "id": "18c0199d-d2a8-44a4-a4a2-fc0bb0c4cf8f",
   "metadata": {
    "tags": []
   },
   "outputs": [],
   "source": [
    "def createXY(imgPath, labelFile, num):\n",
    "    #Create and normalize X\n",
    "    X = []\n",
    "    for i in range(num):\n",
    "        fileName = imgPath + str(i+1) + '.jpg'\n",
    "        img = Image.open(fileName)\n",
    "        X.append(list(img.getdata()))\n",
    "    scaler = MinMaxScaler()\n",
    "    scaler.fit(X)\n",
    "    X = scaler.transform(X)\n",
    "    \n",
    "    #Get labels\n",
    "    label_df = pd.read_csv(labelFile)\n",
    "    \n",
    "    #Find unique labels and output size\n",
    "    age_labels = label_df['age'].unique()\n",
    "    race_labels = label_df['race'].unique()\n",
    "    \n",
    "    #Create Binary y arrays\n",
    "    lb_age = LabelBinarizer(sparse_output=False)\n",
    "    lb_race = LabelBinarizer(sparse_output=False)\n",
    "    lb_age.fit(age_labels)\n",
    "    lb_race.fit(race_labels)\n",
    "    y_age = list(label_df['age'].head(num))\n",
    "    y_race = list(label_df['race'].head(num))\n",
    "    y_age = lb_age.transform(y_age)\n",
    "    y_race = lb_age.transform(y_race)\n",
    "    \n",
    "    \n",
    "    return X, y_age, y_race, age_labels, race_labels "
   ]
  },
  {
   "cell_type": "code",
   "execution_count": 124,
   "id": "c8c9b9a8-0d3b-4adc-9323-0b2aa7cf4309",
   "metadata": {
    "tags": []
   },
   "outputs": [],
   "source": [
    "def printResults(predictions, labels, trueLabels):\n",
    "    print(len(predictions))\n",
    "    print(len(predictions[1]))\n",
    "    print(len(labels))\n",
    "    print(len(trueLabels))\n",
    "    for i in range(len(predictions)):\n",
    "        print(\"Label: \" + trueLabels[i])\n",
    "        for j in range(len(labels)):\n",
    "            print(\"{:12}: {:10.2f}%\".format(labels[j], (predictions[i][j] * 100)))"
   ]
  },
  {
   "cell_type": "code",
   "execution_count": 125,
   "id": "8ae9e112-bcf9-4f1a-9023-f274f066475f",
   "metadata": {
    "tags": []
   },
   "outputs": [],
   "source": [
    "def getMax(values):\n",
    "    maxes = [np.argmax(val) for val in values ]\n",
    "    return maxes"
   ]
  },
  {
   "cell_type": "code",
   "execution_count": 126,
   "id": "c03d6754-82d0-46fc-9056-27d73c78867c",
   "metadata": {},
   "outputs": [
    {
     "name": "stderr",
     "output_type": "stream",
     "text": [
      "2023-04-06 19:22:59.680965: I tensorflow/core/profiler/lib/profiler_session.cc:101] Profiler session initializing.\n",
      "2023-04-06 19:22:59.680988: I tensorflow/core/profiler/lib/profiler_session.cc:116] Profiler session started.\n",
      "2023-04-06 19:22:59.682284: I tensorflow/core/profiler/lib/profiler_session.cc:128] Profiler session tear down.\n"
     ]
    }
   ],
   "source": [
    "callbacks = [TensorBoard(log_dir=log_folder,\n",
    "                         histogram_freq=1,\n",
    "                         write_graph=True,\n",
    "                         write_images=True,\n",
    "                         update_freq='epoch',\n",
    "                         profile_batch=2,\n",
    "                         embeddings_freq=1)]"
   ]
  },
  {
   "cell_type": "code",
   "execution_count": 127,
   "id": "c0cc615c-9cd8-4a43-9099-28eab987c309",
   "metadata": {
    "tags": []
   },
   "outputs": [],
   "source": [
    "X_train, y_age_train, y_race_train, age_labels, race_labels = createXY('project3_COSC525/train/', 'project3_COSC525/fairface_label_train.csv', 86744)\n",
    "X_test, y_age_test, y_race_test, _ , _ = createXY('project3_COSC525/val/', 'project3_COSC525/fairface_label_val.csv', 10954)"
   ]
  },
  {
   "cell_type": "code",
   "execution_count": 128,
   "id": "d96317c5-cbb6-4451-ad0e-99a9171cb5a0",
   "metadata": {
    "tags": []
   },
   "outputs": [],
   "source": [
    "def taskOne(X_train, y_train, X_test, y_test, lr, numEpochs, batchSize, port):\n",
    "    model = createFeedFoward((1024,), len(y_train[0]), lr)\n",
    "    model.fit(X_train, y_train, validation_data=(X_test, y_test), epochs=numEpochs, batch_size=batchSize, callbacks=callbacks)\n",
    "    y_true = getMax(y_test)\n",
    "    y_pred = getMax(model.predict(X_test))\n",
    "    eval = tf.keras.metrics.Accuracy()\n",
    "    eval.update_state(y_true, y_pred)\n",
    "    print('Accuracy: ', eval.result().numpy())\n",
    "    c_matrix = confusion_matrix(y_true, y_pred)\n",
    "    print(c_matrix)\n",
    "    %tensorboard --logdir logs --port=port"
   ]
  },
  {
   "cell_type": "code",
   "execution_count": null,
   "id": "35b209cd-8c69-47f8-bcd4-fb452047f933",
   "metadata": {
    "tags": []
   },
   "outputs": [],
   "source": [
    "taskOne(X_train, y_age_train, X_test, y_age_test, 0.001, 120, 100, 6009)"
   ]
  },
  {
   "cell_type": "code",
   "execution_count": null,
   "id": "bfa19edb-0725-4dbf-9bc5-eb81ecd8fa9a",
   "metadata": {
    "tags": []
   },
   "outputs": [],
   "source": [
    "taskOne(X_train, y_race_train, X_test, y_race_test, 0.001, 120, 100, 6009)"
   ]
  },
  {
   "cell_type": "markdown",
   "id": "1e599607-4dd1-4a50-b7ac-89bd4aebc9a9",
   "metadata": {},
   "source": [
    "## Task 2: Small Convolutional Neural Network\n",
    "- Build a convolutional neural network with the following specifications (Test on two different tasks):\n",
    "    - Convolution layer having 40 feature detectors, with kernel size 5 x 5, and ReLU as the activation function, with stride 1 and no-padding.\n",
    "    - A max-pooling layer with pool size 2x2.\n",
    "    - Fully connected layer with 100 neurons, and ReLU as the activation function.\n",
    "    - Output layer: n (depending on the task) neurons representing the n classes, using the softmax activation function. function for each of the 10 neurons.\n",
    "2. Using Min-Max scaling to scale the training dataset and using the same Min and Max values from the training set scale the test dataset ( X−Xmin/Xmax−Xmin ).\n",
    "3. Using mini-batch gradient descent to optimize the loss function: “categorical cross-entropy” on the training dataset. Please record the loss value for each of the epochs and create an epoch-loss plot and an accuracy-loss plot for both the training and validation set.\n",
    "4. Report the following:\n",
    "    - Final classification accuracy.\n",
    "    - The n-class confusion matrix."
   ]
  },
  {
   "cell_type": "code",
   "execution_count": 147,
   "id": "7bb7ac59-dfae-4919-885d-9d06b9ae0840",
   "metadata": {},
   "outputs": [],
   "source": [
    "# Setup CNN network model\n",
    "def createSmallCNN(inputShape, outputSize, lr):\n",
    "    model = Sequential()\n",
    "    model.add(layers.Conv2D(40, (5, 5), activation='relu', input_shape=inputShape))\n",
    "    model.add(layers.MaxPooling2D((2, 2)))\n",
    "    model.add(layers.Flatten())\n",
    "    model.add(layers.Dense(100, activation='relu'))\n",
    "    model.add(layers.Dense(outputSize, activation='softmax'))\n",
    "    opt = optimizers.SGD(learning_rate=lr)\n",
    "    model.compile(loss='CategoricalCrossentropy', optimizer=opt, metrics=['accuracy'])\n",
    "    return model"
   ]
  },
  {
   "cell_type": "code",
   "execution_count": 148,
   "id": "5b8778fe",
   "metadata": {},
   "outputs": [],
   "source": [
    "# Get normalized data\n",
    "X_train, y_age_train, y_race_train, age_labels, race_labels = createXY('project3_COSC525/train/', 'project3_COSC525/fairface_label_train.csv', 10000)\n",
    "X_test, y_age_test, y_race_test, _ , _ = createXY('project3_COSC525/val/', 'project3_COSC525/fairface_label_val.csv', 1000)"
   ]
  },
  {
   "cell_type": "code",
   "execution_count": 149,
   "id": "fd313e71",
   "metadata": {},
   "outputs": [],
   "source": [
    "# Perform task two; train and evaluate CNN for given train/test data\n",
    "def taskTwo(X_train, y_train, X_test, y_test, lr, numEpochs, batchSize, port):\n",
    "    model = createSmallCNN((32, 32, 1), len(y_train[0]), lr)\n",
    "    model.fit(np.reshape(X_train, (X_train.shape[0], 32, 32)), y_train, validation_data=(np.reshape(X_test, (X_test.shape[0], 32, 32)), y_test), epochs=numEpochs, batch_size=batchSize, callbacks=callbacks)\n",
    "    y_true = getMax(y_test)\n",
    "    y_pred = getMax(model.predict(np.reshape(X_test, (X_test.shape[0], 32, 32))))\n",
    "    eval = tf.keras.metrics.Accuracy()\n",
    "    eval.update_state(y_true, y_pred)\n",
    "    print('Accuracy: ', eval.result().numpy())\n",
    "    c_matrix = confusion_matrix(y_true, y_pred)\n",
    "    print(c_matrix)\n",
    "    %tensorboard --logdir logs --port=port"
   ]
  },
  {
   "cell_type": "code",
   "execution_count": null,
   "id": "d2eb3ea0",
   "metadata": {},
   "outputs": [],
   "source": [
    "taskTwo(X_train, y_age_train, X_test, y_age_test, 0.001, 120, 100, 6009)"
   ]
  },
  {
   "cell_type": "code",
   "execution_count": null,
   "id": "8f87049f",
   "metadata": {},
   "outputs": [],
   "source": [
    "taskTwo(X_train, y_race_train, X_test, y_race_test, 0.001, 120, 100, 6009)"
   ]
  },
  {
   "cell_type": "markdown",
   "id": "229e3f14-890a-4ffa-a3e0-7d5be46ed633",
   "metadata": {},
   "source": [
    "## Task 3: Your own Convolutional Neural Network\n",
    "1. Build another convolutional neural network, where you choose all the parameters to see if you can get a higher accuracy.\n",
    "2. Using Min-Max scaling to scale the training dataset and using the same Min and Max values from the training set scale the test dataset ( X−Xmin/Xmax−Xmin ).\n",
    "3. Using mini-batch gradient descent to optimize the loss function: “categorical cross-entropy” on the training dataset. Please record the loss value for each of the epochs and create an epoch-loss plot and an accuracy-loss plot for both the training and validation set.\n",
    "4. Report the following:\n",
    "    - Final classification accuracy.\n",
    "    - The n-class confusion matrix"
   ]
  },
  {
   "cell_type": "code",
   "execution_count": 130,
   "id": "23af4e16-49e9-4ed8-8518-b4152c545e48",
   "metadata": {},
   "outputs": [],
   "source": [
    "# Setup CNN network model\n",
    "def createOwnCNN(inputShape, outputSize, lr):\n",
    "    model = Sequential()\n",
    "    model.add(layers.Conv2D(32, (3, 3), activation='relu', input_shape=inputShape))\n",
    "    model.add(layers.MaxPooling2D((2, 2)))\n",
    "    model.add(layers.Conv2D(64, (3, 3), activation='relu'))\n",
    "    model.add(layers.MaxPooling2D((2, 2)))\n",
    "    model.add(layers.Flatten())\n",
    "    model.add(layers.Dense(100, activation='relu'))\n",
    "    model.add(layers.Dropout(0.5))\n",
    "    model.add(layers.Dense(outputSize, activation='softmax'))\n",
    "    opt = optimizers.SGD(learning_rate=lr)\n",
    "    model.compile(loss='CategoricalCrossentropy', optimizer=opt, metrics=['accuracy'])\n",
    "    return model"
   ]
  },
  {
   "cell_type": "code",
   "execution_count": 140,
   "id": "159cdb4b",
   "metadata": {},
   "outputs": [],
   "source": [
    "# Get normalized data\n",
    "X_train, y_age_train, y_race_train, age_labels, race_labels = createXY('project3_COSC525/train/', 'project3_COSC525/fairface_label_train.csv', 10000)\n",
    "X_test, y_age_test, y_race_test, _ , _ = createXY('project3_COSC525/val/', 'project3_COSC525/fairface_label_val.csv', 1000)"
   ]
  },
  {
   "cell_type": "code",
   "execution_count": 141,
   "id": "cc2bdd14",
   "metadata": {},
   "outputs": [],
   "source": [
    "# Perform task three; train and evaluate CNN for given train/test data\n",
    "def taskThree(X_train, y_train, X_test, y_test, lr, numEpochs, batchSize, port):\n",
    "    model = createOwnCNN((32, 32, 1), len(y_train[0]), lr)\n",
    "    model.fit(np.reshape(X_train, (X_train.shape[0], 32, 32)), y_train, validation_data=(np.reshape(X_test, (X_test.shape[0], 32, 32)), y_test), epochs=numEpochs, batch_size=batchSize, callbacks=callbacks)\n",
    "    y_true = getMax(y_test)\n",
    "    y_pred = getMax(model.predict(np.reshape(X_test, (X_test.shape[0], 32, 32))))\n",
    "    eval = tf.keras.metrics.Accuracy()\n",
    "    eval.update_state(y_true, y_pred)\n",
    "    print('Accuracy: ', eval.result().numpy())\n",
    "    c_matrix = confusion_matrix(y_true, y_pred)\n",
    "    print(c_matrix)\n",
    "    %tensorboard --logdir logs --port=port\n"
   ]
  },
  {
   "cell_type": "code",
   "execution_count": null,
   "id": "45165262",
   "metadata": {},
   "outputs": [],
   "source": [
    "taskThree(X_train, y_age_train, X_test, y_age_test, 0.001, 120, 100, 6009)"
   ]
  },
  {
   "cell_type": "code",
   "execution_count": null,
   "id": "475e2949",
   "metadata": {},
   "outputs": [],
   "source": [
    "taskThree(X_train, y_race_train, X_test, y_race_test, 0.001, 120, 100, 6009)"
   ]
  },
  {
   "cell_type": "markdown",
   "id": "36e0a435-0e8d-4b79-80b7-a1dcc3500a93",
   "metadata": {},
   "source": [
    "## Task 4: Your own Convolutional Neural Network on both Tasks Simultaneously\n",
    "1. Build another convolutional neural network, where you try and classify both tasks with a single network. After your flatten layer have two more fully connected layers for each “branch”. Note that in order to do so you will not be able to use the Sequential model.\n",
    "2. Using Min-Max scaling to scale the training dataset and using the same Min and Max values from the training set scale the test dataset ( X−Xmin/Xmax−Xmin ).\n",
    "3. Using mini-batch gradient descent to optimize the loss function: “categorical cross-entropy” on the training dataset. Please record the loss value for each of the epochs and create an epoch-loss plot and an accuracy-loss plot for both the training and validation set.\n",
    "4. Report the following:\n",
    "    - Final classification accuracy.\n",
    "    - The n-class confusion matrix"
   ]
  },
  {
   "cell_type": "code",
   "execution_count": 193,
   "id": "34adc1f7-cadb-4126-a36e-6fbf4abd54e7",
   "metadata": {},
   "outputs": [],
   "source": [
    "# Setup CNN network model\n",
    "def createOwnCNNTwoTasks(inputShape, outputSizes, lr):\n",
    "    input = layers.Input(shape = inputShape)\n",
    "    conv1 = layers.Conv2D(32, (3, 3), activation='relu', name='conv1')(input)\n",
    "    max1 = layers.MaxPooling2D((2, 2), name='max1')(conv1)\n",
    "    conv2 = layers.Conv2D(64, (3, 3), activation='relu', name='conv2')(max1)\n",
    "    max2 = layers.MaxPooling2D((2, 2), name='max2')(conv2)\n",
    "    flatten = layers.Flatten()(max2)\n",
    "\n",
    "    # Branch 1\n",
    "    fc11 = layers.Dense(100, activation='relu', name='fc11')(flatten)\n",
    "    fc12 = layers.Dense(outputSizes[0], activation='softmax', name='fc12')(fc11)\n",
    "\n",
    "    # Branch 2\n",
    "    fc21 = layers.Dense(100, activation='relu', name='fc21')(flatten)\n",
    "    fc22 = layers.Dense(outputSizes[1], activation='softmax', name='fc22')(fc21)\n",
    "\n",
    "    # Concatenate output of branches\n",
    "    output = layers.concatenate([fc12, fc22])\n",
    "    model = keras.Model(inputs=input, outputs=output)\n",
    "\n",
    "    opt = optimizers.SGD(learning_rate=lr)\n",
    "    model.compile(loss='CategoricalCrossentropy', optimizer=opt, metrics=['accuracy'])\n",
    "    return model"
   ]
  },
  {
   "cell_type": "code",
   "execution_count": 194,
   "id": "e2b2e026",
   "metadata": {},
   "outputs": [],
   "source": [
    "# Get normalized data\n",
    "X_train, y_age_train, y_race_train, age_labels, race_labels = createXY('project3_COSC525/train/', 'project3_COSC525/fairface_label_train.csv', 10000)\n",
    "X_test, y_age_test, y_race_test, _ , _ = createXY('project3_COSC525/val/', 'project3_COSC525/fairface_label_val.csv', 1000)"
   ]
  },
  {
   "cell_type": "code",
   "execution_count": 195,
   "id": "6a99923c",
   "metadata": {},
   "outputs": [],
   "source": [
    "# Perform task four; train and evaluate CNN for given train/test data\n",
    "def taskFour(X_train, y_trains, X_test, y_tests, lr, numEpochs, batchSize, port):\n",
    "    model = createOwnCNNTwoTasks((32, 32, 1), (len(y_trains[0][0]), len(y_trains[1][0])), lr)\n",
    "    model.fit(np.reshape(X_train, (X_train.shape[0], 32, 32)), np.concatenate((y_trains[0], y_trains[1]), axis=1), validation_data=(np.reshape(X_test, (X_test.shape[0], 32, 32)), np.concatenate((y_tests[0], y_tests[1]), axis=1)), epochs=numEpochs, batch_size=batchSize, callbacks=callbacks)\n",
    "    y_true = getMax(np.concatenate((y_tests[0], y_tests[1]), axis=1))\n",
    "    y_pred = getMax(model.predict(np.reshape(X_test, (X_test.shape[0], 32, 32))))\n",
    "    eval = tf.keras.metrics.Accuracy()\n",
    "    eval.update_state(y_true, y_pred)\n",
    "    print('Accuracy: ', eval.result().numpy())\n",
    "    c_matrix = confusion_matrix(y_true, y_pred)\n",
    "    print(c_matrix)\n",
    "    %tensorboard --logdir logs --port=port"
   ]
  },
  {
   "cell_type": "code",
   "execution_count": null,
   "id": "d616f9de",
   "metadata": {},
   "outputs": [],
   "source": [
    "taskFour(X_train, (y_age_train, y_race_train), X_test, (y_age_test, y_race_test), 0.001, 120, 100, 6009)"
   ]
  },
  {
   "cell_type": "markdown",
   "id": "ced8e48d-e509-40f8-9938-44e9106634fd",
   "metadata": {},
   "source": [
    "## Task 5: Variational Auto Encoder (COSC 525 only)\n",
    "1. Build a variational autoencoder with the following specifications (in this one you have a little more flexibility):\n",
    "    - Should have at least two convolution layers in the encoder and 2 deconvolution layers in the decoder.\n",
    "    - Latent dimension should be at least 5.\n",
    "    - Loss should be either MSE or binary cross entropy.\n",
    "2. Using Min-Max scaling to scale the training dataset and using the same Min and Max values from the training set scale the test dataset ( X−Xmin/Xmax−Xmin ).\n",
    "3. Using mini-batch gradient descent to optimize the loss function on the training dataset. Please record the loss value for each of the epochs and create an epoch-loss plot and an accuracy-loss plot for both the training and validation set.\n",
    "4. Qualitatively evaluate your model by generating a set of faces by randomly choosing 10 latent vectors and presenting the resulting images"
   ]
  },
  {
   "attachments": {},
   "cell_type": "markdown",
   "id": "6ca6477f",
   "metadata": {},
   "source": [
    "VAE code adapted from https://keras.io/examples/generative/vae/"
   ]
  },
  {
   "cell_type": "code",
   "execution_count": 85,
   "id": "3aef84de-003b-4121-b3eb-1bbe48339d2d",
   "metadata": {},
   "outputs": [],
   "source": [
    "# Sampling layer\n",
    "class Sampling(layers.Layer):\n",
    "    \"\"\"Uses (z_mean, z_log_var) to sample z, the vector encoding a digit.\"\"\"\n",
    "\n",
    "    def call(self, inputs):\n",
    "        z_mean, z_log_var = inputs\n",
    "        batch = tf.shape(z_mean)[0]\n",
    "        dim = tf.shape(z_mean)[1]\n",
    "        epsilon = tf.keras.backend.random_normal(shape=(batch, dim))\n",
    "        return z_mean + tf.exp(0.5 * z_log_var) * epsilon"
   ]
  },
  {
   "cell_type": "code",
   "execution_count": 86,
   "id": "8372d7ec",
   "metadata": {},
   "outputs": [
    {
     "name": "stdout",
     "output_type": "stream",
     "text": [
      "Model: \"encoder\"\n",
      "__________________________________________________________________________________________________\n",
      " Layer (type)                   Output Shape         Param #     Connected to                     \n",
      "==================================================================================================\n",
      " input_9 (InputLayer)           [(None, 32, 32, 1)]  0           []                               \n",
      "                                                                                                  \n",
      " conv2d_12 (Conv2D)             (None, 16, 16, 32)   320         ['input_9[0][0]']                \n",
      "                                                                                                  \n",
      " conv2d_13 (Conv2D)             (None, 8, 8, 64)     18496       ['conv2d_12[0][0]']              \n",
      "                                                                                                  \n",
      " conv2d_14 (Conv2D)             (None, 4, 4, 64)     36928       ['conv2d_13[0][0]']              \n",
      "                                                                                                  \n",
      " conv2d_15 (Conv2D)             (None, 2, 2, 64)     36928       ['conv2d_14[0][0]']              \n",
      "                                                                                                  \n",
      " flatten_4 (Flatten)            (None, 256)          0           ['conv2d_15[0][0]']              \n",
      "                                                                                                  \n",
      " dense_8 (Dense)                (None, 16)           4112        ['flatten_4[0][0]']              \n",
      "                                                                                                  \n",
      " z_mean (Dense)                 (None, 15)           255         ['dense_8[0][0]']                \n",
      "                                                                                                  \n",
      " z_log_var (Dense)              (None, 15)           255         ['dense_8[0][0]']                \n",
      "                                                                                                  \n",
      " sampling_4 (Sampling)          (None, 15)           0           ['z_mean[0][0]',                 \n",
      "                                                                  'z_log_var[0][0]']              \n",
      "                                                                                                  \n",
      "==================================================================================================\n",
      "Total params: 97,294\n",
      "Trainable params: 97,294\n",
      "Non-trainable params: 0\n",
      "__________________________________________________________________________________________________\n"
     ]
    }
   ],
   "source": [
    "# Encoder model\n",
    "latent_dim = 15\n",
    "\n",
    "encoder_inputs = keras.Input(shape=(32, 32, 1))\n",
    "x = layers.Conv2D(32, 3, activation=\"relu\", strides=2, padding=\"same\")(encoder_inputs)\n",
    "x = layers.Conv2D(64, 3, activation=\"relu\", strides=2, padding=\"same\")(x)\n",
    "x = layers.Conv2D(64, 3, activation=\"relu\", strides=2, padding=\"same\")(x)\n",
    "x = layers.Conv2D(64, 3, activation=\"relu\", strides=2, padding=\"same\")(x)\n",
    "x = layers.Flatten()(x)\n",
    "x = layers.Dense(16, activation=\"relu\")(x)\n",
    "z_mean = layers.Dense(latent_dim, name=\"z_mean\")(x)\n",
    "z_log_var = layers.Dense(latent_dim, name=\"z_log_var\")(x)\n",
    "z = Sampling()([z_mean, z_log_var])\n",
    "encoder = keras.Model(encoder_inputs, [z_mean, z_log_var, z], name=\"encoder\")\n",
    "encoder.summary()"
   ]
  },
  {
   "cell_type": "code",
   "execution_count": 87,
   "id": "c7fad597",
   "metadata": {},
   "outputs": [
    {
     "name": "stdout",
     "output_type": "stream",
     "text": [
      "Model: \"decoder\"\n",
      "_________________________________________________________________\n",
      " Layer (type)                Output Shape              Param #   \n",
      "=================================================================\n",
      " input_10 (InputLayer)       [(None, 15)]              0         \n",
      "                                                                 \n",
      " dense_9 (Dense)             (None, 256)               4096      \n",
      "                                                                 \n",
      " reshape_4 (Reshape)         (None, 2, 2, 64)          0         \n",
      "                                                                 \n",
      " conv2d_transpose_17 (Conv2D  (None, 4, 4, 64)         36928     \n",
      " Transpose)                                                      \n",
      "                                                                 \n",
      " conv2d_transpose_18 (Conv2D  (None, 8, 8, 64)         36928     \n",
      " Transpose)                                                      \n",
      "                                                                 \n",
      " conv2d_transpose_19 (Conv2D  (None, 16, 16, 64)       36928     \n",
      " Transpose)                                                      \n",
      "                                                                 \n",
      " conv2d_transpose_20 (Conv2D  (None, 32, 32, 32)       18464     \n",
      " Transpose)                                                      \n",
      "                                                                 \n",
      " conv2d_transpose_21 (Conv2D  (None, 32, 32, 1)        289       \n",
      " Transpose)                                                      \n",
      "                                                                 \n",
      "=================================================================\n",
      "Total params: 133,633\n",
      "Trainable params: 133,633\n",
      "Non-trainable params: 0\n",
      "_________________________________________________________________\n"
     ]
    }
   ],
   "source": [
    "# Decoder model\n",
    "latent_inputs = keras.Input(shape=(latent_dim,))\n",
    "x = layers.Dense(2 * 2 * 64, activation=\"relu\")(latent_inputs)\n",
    "x = layers.Reshape((2, 2, 64))(x)\n",
    "x = layers.Conv2DTranspose(64, 3, activation=\"relu\", strides=2, padding=\"same\")(x)\n",
    "x = layers.Conv2DTranspose(64, 3, activation=\"relu\", strides=2, padding=\"same\")(x)\n",
    "x = layers.Conv2DTranspose(64, 3, activation=\"relu\", strides=2, padding=\"same\")(x)\n",
    "x = layers.Conv2DTranspose(32, 3, activation=\"relu\", strides=2, padding=\"same\")(x)\n",
    "decoder_outputs = layers.Conv2DTranspose(1, 3, activation=\"sigmoid\", padding=\"same\")(x)\n",
    "decoder = keras.Model(latent_inputs, decoder_outputs, name=\"decoder\")\n",
    "decoder.summary()"
   ]
  },
  {
   "cell_type": "code",
   "execution_count": 88,
   "id": "35903b51",
   "metadata": {},
   "outputs": [],
   "source": [
    "# Variational AutoEncoder model class\n",
    "class VAE(keras.Model):\n",
    "    def __init__(self, encoder, decoder, **kwargs):\n",
    "        super().__init__(**kwargs)\n",
    "        self.encoder = encoder\n",
    "        self.decoder = decoder\n",
    "        self.total_loss_tracker = keras.metrics.Mean(name=\"total_loss\")\n",
    "        self.reconstruction_loss_tracker = keras.metrics.Mean(\n",
    "            name=\"reconstruction_loss\"\n",
    "        )\n",
    "        self.kl_loss_tracker = keras.metrics.Mean(name=\"kl_loss\")\n",
    "\n",
    "    @property\n",
    "    def metrics(self):\n",
    "        return [\n",
    "            self.total_loss_tracker,\n",
    "            self.reconstruction_loss_tracker,\n",
    "            self.kl_loss_tracker,\n",
    "        ]\n",
    "\n",
    "    def train_step(self, data):\n",
    "        with tf.GradientTape() as tape:\n",
    "            z_mean, z_log_var, z = self.encoder(data)\n",
    "            reconstruction = self.decoder(z)\n",
    "            reconstruction_loss = tf.reduce_mean(\n",
    "                tf.reduce_sum(\n",
    "                    keras.losses.mean_squared_error(data, reconstruction), axis=(1, 2)\n",
    "                )\n",
    "            )\n",
    "            kl_loss = -0.5 * (1 + z_log_var - tf.square(z_mean) - tf.exp(z_log_var))\n",
    "            kl_loss = tf.reduce_mean(tf.reduce_sum(kl_loss, axis=1))\n",
    "            total_loss = reconstruction_loss + kl_loss\n",
    "        grads = tape.gradient(total_loss, self.trainable_weights)\n",
    "        self.optimizer.apply_gradients(zip(grads, self.trainable_weights))\n",
    "        self.total_loss_tracker.update_state(total_loss)\n",
    "        self.reconstruction_loss_tracker.update_state(reconstruction_loss)\n",
    "        self.kl_loss_tracker.update_state(kl_loss)\n",
    "        return {\n",
    "            \"loss\": self.total_loss_tracker.result(),\n",
    "            \"reconstruction_loss\": self.reconstruction_loss_tracker.result(),\n",
    "            \"kl_loss\": self.kl_loss_tracker.result(),\n",
    "        }"
   ]
  },
  {
   "cell_type": "code",
   "execution_count": null,
   "id": "7a24d089",
   "metadata": {},
   "outputs": [],
   "source": [
    "# Create and train VAE on all face images\n",
    "X_train, _, _, _, _ = createXY('project3_COSC525/train/', 'project3_COSC525/fairface_label_train.csv', 'age', 10000)\n",
    "X_test, _, _ , _, _ = createXY('project3_COSC525/val/', 'project3_COSC525/fairface_label_val.csv', 'age', 1000)\n",
    "all_faces = np.concatenate([X_train, X_test], axis=0)\n",
    "\n",
    "vae = VAE(encoder, decoder)\n",
    "vae.compile(optimizer=keras.optimizers.SGD(learning_rate=0.0005))\n",
    "vae.fit(np.reshape(all_faces, (11000, 32, 32, 1)), epochs=10000, batch_size=128, verbose=0)"
   ]
  },
  {
   "cell_type": "code",
   "execution_count": 78,
   "id": "cc0cdc87",
   "metadata": {},
   "outputs": [
    {
     "name": "stdout",
     "output_type": "stream",
     "text": [
      "1/1 [==============================] - 0s 20ms/step\n",
      "1/1 [==============================] - 0s 24ms/step\n"
     ]
    }
   ],
   "source": [
    "# Test generating some (non-random) faces\n",
    "preds = vae.encoder.predict(np.reshape(all_faces, (10, 32, 32, 1)))[0]\n",
    "# gen = vae.decoder.predict(np.reshape(np.mean(preds, axis=0), (1, 5)))[0]\n",
    "gen = vae.decoder.predict(np.reshape(preds[4], (1, latent_dim)))[0]\n",
    "gen = np.reshape(gen, (32, 32))\n",
    "im = Image.fromarray(np.uint8(gen * 255), 'L')\n",
    "im.save(\"test.png\")\n",
    "comp_im = Image.open(\"project3_COSC525/train/5.jpg\")\n",
    "comp_im.save(\"test_comp.png\")"
   ]
  }
 ],
 "metadata": {
  "kernelspec": {
   "display_name": "cs525",
   "language": "python",
   "name": "python3"
  },
  "language_info": {
   "codemirror_mode": {
    "name": "ipython",
    "version": 3
   },
   "file_extension": ".py",
   "mimetype": "text/x-python",
   "name": "python",
   "nbconvert_exporter": "python",
   "pygments_lexer": "ipython3",
   "version": "3.10.9"
  },
  "vscode": {
   "interpreter": {
    "hash": "e23b663014ca37592679400f38d6d04e3fc85e5c6f63651f80341cade9e63d21"
   }
  }
 },
 "nbformat": 4,
 "nbformat_minor": 5
}
