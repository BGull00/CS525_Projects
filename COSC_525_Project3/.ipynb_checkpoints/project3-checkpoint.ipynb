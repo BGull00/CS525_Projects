{
 "cells": [
  {
   "cell_type": "markdown",
   "id": "d1797fb5-57d1-4c48-a8bc-74cf5290cef3",
   "metadata": {},
   "source": [
    "## Dataset\n",
    "- You will be using a modified version of the FairFace dataset (https://github.com/joojs/fairface). This is a set of 86,744 training face images and 10,954 validation face images. \n",
    "- In order to decrease the training time I converted all images to gray scale and resized them to 32 × 32. Each face has 3 different attributes which can be used for a classification task: race, gender, and age. All files can be found in the zip file on Canvas. The train folder contains the training images and the fairface label train.csv file contains all the label. There is a similar folder and file for the validation set.\n",
    "- As the three different attributes have a different number of possible values, your final layers for each classifier will vary. For each of the networks below please attempt to classify 2 of the attributes (you can choose which)."
   ]
  },
  {
   "cell_type": "markdown",
   "id": "76cc860b-fe4d-499e-a9ac-d6d6eaf3ab88",
   "metadata": {},
   "source": [
    "## Imports"
   ]
  },
  {
   "cell_type": "code",
   "execution_count": 1,
   "id": "8d534170-9810-428e-88d0-548a53d7a670",
   "metadata": {
    "tags": []
   },
   "outputs": [],
   "source": [
    "#Tensor imports\n",
    "import tensorflow as tf\n",
    "from tensorflow import optimizers\n",
    "from tensorflow import keras\n",
    "from tensorflow.keras.models import Sequential\n",
    "from tensorflow.keras import layers\n",
    "from tensorflow.keras.callbacks import TensorBoard\n",
    "\n",
    "#Pillow Imports\n",
    "from PIL import Image\n",
    "\n",
    "#Import Pandas\n",
    "import pandas as pd\n",
    "\n",
    "#Import Numpy\n",
    "import numpy as np\n",
    "\n",
    "#Sci_Kit Imports\n",
    "from sklearn.preprocessing import LabelBinarizer\n",
    "from sklearn.preprocessing import MinMaxScaler\n",
    "from sklearn.metrics import confusion_matrix\n",
    "\n",
    "#Import datetime\n",
    "import datetime"
   ]
  },
  {
   "cell_type": "markdown",
   "id": "76a76739-643e-4988-85e9-a87595c11300",
   "metadata": {},
   "source": [
    "## Load TensorBoard and Create Logs"
   ]
  },
  {
   "cell_type": "code",
   "execution_count": 2,
   "id": "46a827b0-2156-4e05-b80b-1e41d15d8926",
   "metadata": {
    "tags": []
   },
   "outputs": [],
   "source": [
    "%load_ext tensorboard\n",
    "%reload_ext tensorboard\n",
    "#log_folder = \"logs\"\n",
    "log_folder = \"logs/fit/\" + datetime.datetime.now().strftime(\"%Y%m%d-%H%M%S\")"
   ]
  },
  {
   "cell_type": "markdown",
   "id": "d9cf048e-eb98-432e-bcd8-6e04e0f33613",
   "metadata": {
    "tags": []
   },
   "source": [
    "## Task 1: Fully Connected Neural Network\n",
    "1. Build a feed forward neural network with the following specifications (Test on two different tasks):\n",
    "    - Hidden layer 1: 1024 neurons with hyperbolic tangent activation function in each neuron.\n",
    "    - Hidden layer 2: 512 neurons, with sigmoid activation function in each of the neuron.\n",
    "    - 100 neurons, with rectified linear activation function in each of the neuron.\n",
    "    - Output layer: n (depending on the task) neurons representing the n classes, using the softmax activation function.\n",
    "2. Using Min-Max scaling to scale the training dataset and using the same Min and Max values from the training set scale the test dataset (X−Xmin/Xmax−Xmin).\n",
    "3. Using mini-batch gradient descent to optimize the loss function: “categorical cross-entropy” on the training dataset. Please record the loss value for each of the epochs and create an epoch-loss plot and an accuracy-loss plot for both the training and validation set.\n",
    "4. Report the following:\n",
    "    - Final classification accuracy.\n",
    "    - The n-class confusion matrix."
   ]
  },
  {
   "cell_type": "code",
   "execution_count": 3,
   "id": "18c861cc-e233-4588-8377-de39bea2ebcb",
   "metadata": {
    "tags": []
   },
   "outputs": [],
   "source": [
    "def createFeedFoward(inputShape, outputSize, lr):\n",
    "    model = Sequential()\n",
    "    model.add(layers.Dense(1024, input_shape=inputShape, activation='tanh'))\n",
    "    model.add(layers.Dense(512, activation='sigmoid'))\n",
    "    model.add(layers.Dense(100, activation='relu'))\n",
    "    model.add(layers.Dense(outputSize, activation='softmax'))\n",
    "    opt = optimizers.SGD(learning_rate=lr)\n",
    "    model.compile(loss='CategoricalCrossentropy', optimizer=opt, metrics=['accuracy'])\n",
    "    return model"
   ]
  },
  {
   "cell_type": "code",
   "execution_count": 13,
   "id": "18c0199d-d2a8-44a4-a4a2-fc0bb0c4cf8f",
   "metadata": {
    "tags": []
   },
   "outputs": [],
   "source": [
    "def createXY(imgPath, labelFile, num):\n",
    "    #Create and normalize X\n",
    "    X = []\n",
    "    for i in range(num):\n",
    "        fileName = imgPath + str(i+1) + '.jpg'\n",
    "        img = Image.open(fileName)\n",
    "        X.append(list(img.getdata()))\n",
    "    scaler = MinMaxScaler()\n",
    "    scaler.fit(X)\n",
    "    X = scaler.transform(X)\n",
    "    \n",
    "    #Get labels\n",
    "    label_df = pd.read_csv(labelFile)\n",
    "    \n",
    "    #Find unique labels and output size\n",
    "    age_labels = label_df['age'].unique()\n",
    "    race_labels = label_df['race'].unique()\n",
    "    \n",
    "    #Create Binary y arrays\n",
    "    lb_age = LabelBinarizer(sparse_output=False)\n",
    "    lb_race = LabelBinarizer(sparse_output=False)\n",
    "    lb_age.fit(age_labels)\n",
    "    lb_race.fit(race_labels)\n",
    "    y_age = list(label_df['age'].head(num))\n",
    "    y_race = list(label_df['race'].head(num))\n",
    "    y_age = lb_age.transform(y_age)\n",
    "    y_race = lb_race.transform(y_race)\n",
    "    \n",
    "    \n",
    "    return X, y_age, y_race, age_labels, race_labels "
   ]
  },
  {
   "cell_type": "code",
   "execution_count": 14,
   "id": "c8c9b9a8-0d3b-4adc-9323-0b2aa7cf4309",
   "metadata": {
    "tags": []
   },
   "outputs": [],
   "source": [
    "def printResults(predictions, labels, trueLabels):\n",
    "    print(len(predictions))\n",
    "    print(len(predictions[1]))\n",
    "    print(len(labels))\n",
    "    print(len(trueLabels))\n",
    "    for i in range(len(predictions)):\n",
    "        print(\"Label: \" + trueLabels[i])\n",
    "        for j in range(len(labels)):\n",
    "            print(\"{:12}: {:10.2f}%\".format(labels[j], (predictions[i][j] * 100)))"
   ]
  },
  {
   "cell_type": "code",
   "execution_count": 15,
   "id": "8ae9e112-bcf9-4f1a-9023-f274f066475f",
   "metadata": {
    "tags": []
   },
   "outputs": [],
   "source": [
    "def getMax(values):\n",
    "    maxes = [np.argmax(val) for val in values ]\n",
    "    return maxes"
   ]
  },
  {
   "cell_type": "code",
   "execution_count": 16,
   "id": "c03d6754-82d0-46fc-9056-27d73c78867c",
   "metadata": {
    "tags": []
   },
   "outputs": [],
   "source": [
    "callbacks = [TensorBoard(log_dir=log_folder,\n",
    "                         histogram_freq=1,\n",
    "                         write_graph=True,\n",
    "                         write_images=True,\n",
    "                         update_freq='epoch',\n",
    "                         profile_batch=2,\n",
    "                         embeddings_freq=1)]"
   ]
  },
  {
   "cell_type": "code",
   "execution_count": 17,
   "id": "c0cc615c-9cd8-4a43-9099-28eab987c309",
   "metadata": {
    "tags": []
   },
   "outputs": [],
   "source": [
    "X_train, y_age_train, y_race_train, age_labels, race_labels = createXY('project3_COSC525/train/', 'project3_COSC525/fairface_label_train.csv', 86744)\n",
    "X_test, y_age_test, y_race_test, _ , _ = createXY('project3_COSC525/val/', 'project3_COSC525/fairface_label_val.csv', 10954)"
   ]
  },
  {
   "cell_type": "code",
   "execution_count": 19,
   "id": "d96317c5-cbb6-4451-ad0e-99a9171cb5a0",
   "metadata": {
    "tags": []
   },
   "outputs": [],
   "source": [
    "def taskOne(X_train, y_train, X_test, y_test, lr, numEpochs, batchSize):\n",
    "    model = createFeedFoward((1024,), len(y_train[0]), lr)\n",
    "    model.fit(X_train, y_train, validation_data=(X_test, y_test), epochs=numEpochs, batch_size=batchSize, callbacks=callbacks)\n",
    "    y_true = getMax(y_test)\n",
    "    y_pred = getMax(model.predict(X_test))\n",
    "    eval = tf.keras.metrics.Accuracy()\n",
    "    eval.update_state(y_true, y_pred)\n",
    "    print('Accuracy: ', eval.result().numpy())\n",
    "    c_matrix = confusion_matrix(y_true, y_pred)\n",
    "    print(c_matrix)"
   ]
  },
  {
   "cell_type": "code",
   "execution_count": 22,
   "id": "35b209cd-8c69-47f8-bcd4-fb452047f933",
   "metadata": {
    "tags": []
   },
   "outputs": [
    {
     "name": "stdout",
     "output_type": "stream",
     "text": [
      "Epoch 1/120\n",
      "868/868 [==============================] - 25s 28ms/step - loss: 1.8675 - accuracy: 0.2948 - val_loss: 1.8501 - val_accuracy: 0.3056\n",
      "Epoch 2/120\n",
      "868/868 [==============================] - 21s 25ms/step - loss: 1.8474 - accuracy: 0.2969 - val_loss: 1.8359 - val_accuracy: 0.3056\n",
      "Epoch 3/120\n",
      "868/868 [==============================] - 22s 26ms/step - loss: 1.8359 - accuracy: 0.2990 - val_loss: 1.8239 - val_accuracy: 0.3067\n",
      "Epoch 4/120\n",
      "868/868 [==============================] - 22s 25ms/step - loss: 1.8251 - accuracy: 0.3006 - val_loss: 1.8121 - val_accuracy: 0.3106\n",
      "Epoch 5/120\n",
      "868/868 [==============================] - 23s 26ms/step - loss: 1.8150 - accuracy: 0.3032 - val_loss: 1.8045 - val_accuracy: 0.3074\n",
      "Epoch 6/120\n",
      "868/868 [==============================] - 22s 25ms/step - loss: 1.8051 - accuracy: 0.3055 - val_loss: 1.7922 - val_accuracy: 0.3198\n",
      "Epoch 7/120\n",
      "868/868 [==============================] - 23s 26ms/step - loss: 1.7963 - accuracy: 0.3091 - val_loss: 1.7853 - val_accuracy: 0.3120\n",
      "Epoch 8/120\n",
      "868/868 [==============================] - 22s 25ms/step - loss: 1.7875 - accuracy: 0.3113 - val_loss: 1.7755 - val_accuracy: 0.3236\n",
      "Epoch 9/120\n",
      "868/868 [==============================] - 24s 27ms/step - loss: 1.7793 - accuracy: 0.3156 - val_loss: 1.7652 - val_accuracy: 0.3262\n",
      "Epoch 10/120\n",
      "868/868 [==============================] - 25s 29ms/step - loss: 1.7715 - accuracy: 0.3175 - val_loss: 1.7578 - val_accuracy: 0.3307\n",
      "Epoch 11/120\n",
      "868/868 [==============================] - 26s 30ms/step - loss: 1.7644 - accuracy: 0.3208 - val_loss: 1.7534 - val_accuracy: 0.3327\n",
      "Epoch 12/120\n",
      "868/868 [==============================] - 24s 28ms/step - loss: 1.7575 - accuracy: 0.3232 - val_loss: 1.7452 - val_accuracy: 0.3357\n",
      "Epoch 13/120\n",
      "868/868 [==============================] - 21s 25ms/step - loss: 1.7506 - accuracy: 0.3258 - val_loss: 1.7372 - val_accuracy: 0.3338\n",
      "Epoch 14/120\n",
      "868/868 [==============================] - 25s 29ms/step - loss: 1.7445 - accuracy: 0.3264 - val_loss: 1.7311 - val_accuracy: 0.3362\n",
      "Epoch 15/120\n",
      "868/868 [==============================] - 23s 26ms/step - loss: 1.7387 - accuracy: 0.3288 - val_loss: 1.7279 - val_accuracy: 0.3361\n",
      "Epoch 16/120\n",
      "868/868 [==============================] - 24s 27ms/step - loss: 1.7335 - accuracy: 0.3291 - val_loss: 1.7265 - val_accuracy: 0.3369\n",
      "Epoch 17/120\n",
      "868/868 [==============================] - 22s 26ms/step - loss: 1.7280 - accuracy: 0.3313 - val_loss: 1.7214 - val_accuracy: 0.3375\n",
      "Epoch 18/120\n",
      "868/868 [==============================] - 23s 26ms/step - loss: 1.7233 - accuracy: 0.3326 - val_loss: 1.7117 - val_accuracy: 0.3432\n",
      "Epoch 19/120\n",
      "868/868 [==============================] - 24s 27ms/step - loss: 1.7191 - accuracy: 0.3344 - val_loss: 1.7099 - val_accuracy: 0.3423\n",
      "Epoch 20/120\n",
      "868/868 [==============================] - 24s 28ms/step - loss: 1.7149 - accuracy: 0.3352 - val_loss: 1.7069 - val_accuracy: 0.3451\n",
      "Epoch 21/120\n",
      "868/868 [==============================] - 23s 26ms/step - loss: 1.7113 - accuracy: 0.3361 - val_loss: 1.7043 - val_accuracy: 0.3442\n",
      "Epoch 22/120\n",
      "868/868 [==============================] - 25s 29ms/step - loss: 1.7077 - accuracy: 0.3386 - val_loss: 1.7123 - val_accuracy: 0.3403\n",
      "Epoch 23/120\n",
      "868/868 [==============================] - 25s 29ms/step - loss: 1.7047 - accuracy: 0.3382 - val_loss: 1.6969 - val_accuracy: 0.3478\n",
      "Epoch 24/120\n",
      "868/868 [==============================] - 25s 29ms/step - loss: 1.7014 - accuracy: 0.3402 - val_loss: 1.6927 - val_accuracy: 0.3482\n",
      "Epoch 25/120\n",
      "868/868 [==============================] - 24s 28ms/step - loss: 1.6986 - accuracy: 0.3400 - val_loss: 1.6957 - val_accuracy: 0.3492\n",
      "Epoch 26/120\n",
      "868/868 [==============================] - 24s 28ms/step - loss: 1.6960 - accuracy: 0.3422 - val_loss: 1.6876 - val_accuracy: 0.3504\n",
      "Epoch 27/120\n",
      "868/868 [==============================] - 23s 26ms/step - loss: 1.6930 - accuracy: 0.3422 - val_loss: 1.6849 - val_accuracy: 0.3524\n",
      "Epoch 28/120\n",
      "868/868 [==============================] - 25s 29ms/step - loss: 1.6902 - accuracy: 0.3445 - val_loss: 1.7047 - val_accuracy: 0.3460\n",
      "Epoch 29/120\n",
      "868/868 [==============================] - 23s 26ms/step - loss: 1.6881 - accuracy: 0.3437 - val_loss: 1.6913 - val_accuracy: 0.3489\n",
      "Epoch 30/120\n",
      "868/868 [==============================] - 23s 27ms/step - loss: 1.6854 - accuracy: 0.3461 - val_loss: 1.6803 - val_accuracy: 0.3544\n",
      "Epoch 31/120\n",
      "868/868 [==============================] - 22s 25ms/step - loss: 1.6830 - accuracy: 0.3465 - val_loss: 1.7039 - val_accuracy: 0.3420\n",
      "Epoch 32/120\n",
      "868/868 [==============================] - 24s 28ms/step - loss: 1.6804 - accuracy: 0.3475 - val_loss: 1.6742 - val_accuracy: 0.3571\n",
      "Epoch 33/120\n",
      "868/868 [==============================] - 23s 27ms/step - loss: 1.6784 - accuracy: 0.3484 - val_loss: 1.6716 - val_accuracy: 0.3588\n",
      "Epoch 34/120\n",
      "868/868 [==============================] - 22s 25ms/step - loss: 1.6759 - accuracy: 0.3490 - val_loss: 1.6739 - val_accuracy: 0.3502\n",
      "Epoch 35/120\n",
      "868/868 [==============================] - 22s 26ms/step - loss: 1.6738 - accuracy: 0.3494 - val_loss: 1.6695 - val_accuracy: 0.3571\n",
      "Epoch 36/120\n",
      "868/868 [==============================] - 23s 26ms/step - loss: 1.6720 - accuracy: 0.3492 - val_loss: 1.6681 - val_accuracy: 0.3577\n",
      "Epoch 37/120\n",
      "868/868 [==============================] - 22s 26ms/step - loss: 1.6694 - accuracy: 0.3513 - val_loss: 1.6641 - val_accuracy: 0.3591\n",
      "Epoch 38/120\n",
      "868/868 [==============================] - 22s 25ms/step - loss: 1.6667 - accuracy: 0.3516 - val_loss: 1.6654 - val_accuracy: 0.3579\n",
      "Epoch 39/120\n",
      "868/868 [==============================] - 21s 25ms/step - loss: 1.6648 - accuracy: 0.3524 - val_loss: 1.6644 - val_accuracy: 0.3562\n",
      "Epoch 40/120\n",
      "868/868 [==============================] - 24s 28ms/step - loss: 1.6635 - accuracy: 0.3518 - val_loss: 1.6597 - val_accuracy: 0.3589\n",
      "Epoch 41/120\n",
      "868/868 [==============================] - 25s 28ms/step - loss: 1.6605 - accuracy: 0.3534 - val_loss: 1.6570 - val_accuracy: 0.3624\n",
      "Epoch 42/120\n",
      "868/868 [==============================] - 25s 28ms/step - loss: 1.6590 - accuracy: 0.3541 - val_loss: 1.6680 - val_accuracy: 0.3543\n",
      "Epoch 43/120\n",
      "868/868 [==============================] - 24s 27ms/step - loss: 1.6569 - accuracy: 0.3544 - val_loss: 1.6715 - val_accuracy: 0.3573\n",
      "Epoch 44/120\n",
      "868/868 [==============================] - 22s 26ms/step - loss: 1.6556 - accuracy: 0.3550 - val_loss: 1.6558 - val_accuracy: 0.3601\n",
      "Epoch 45/120\n",
      "868/868 [==============================] - 23s 26ms/step - loss: 1.6530 - accuracy: 0.3561 - val_loss: 1.6612 - val_accuracy: 0.3613\n",
      "Epoch 46/120\n",
      "868/868 [==============================] - 23s 27ms/step - loss: 1.6521 - accuracy: 0.3555 - val_loss: 1.6502 - val_accuracy: 0.3624\n",
      "Epoch 47/120\n",
      "868/868 [==============================] - 23s 26ms/step - loss: 1.6497 - accuracy: 0.3562 - val_loss: 1.6493 - val_accuracy: 0.3653\n",
      "Epoch 48/120\n",
      "868/868 [==============================] - 23s 26ms/step - loss: 1.6484 - accuracy: 0.3571 - val_loss: 1.6524 - val_accuracy: 0.3578\n",
      "Epoch 49/120\n",
      "868/868 [==============================] - 22s 25ms/step - loss: 1.6466 - accuracy: 0.3571 - val_loss: 1.6449 - val_accuracy: 0.3653\n",
      "Epoch 50/120\n",
      "868/868 [==============================] - 23s 26ms/step - loss: 1.6447 - accuracy: 0.3585 - val_loss: 1.6513 - val_accuracy: 0.3659\n",
      "Epoch 51/120\n",
      "868/868 [==============================] - 23s 26ms/step - loss: 1.6432 - accuracy: 0.3581 - val_loss: 1.6509 - val_accuracy: 0.3649\n",
      "Epoch 52/120\n",
      "868/868 [==============================] - 23s 26ms/step - loss: 1.6420 - accuracy: 0.3597 - val_loss: 1.6474 - val_accuracy: 0.3618\n",
      "Epoch 53/120\n",
      "868/868 [==============================] - 21s 25ms/step - loss: 1.6405 - accuracy: 0.3584 - val_loss: 1.6393 - val_accuracy: 0.3669\n",
      "Epoch 54/120\n",
      "868/868 [==============================] - 23s 26ms/step - loss: 1.6386 - accuracy: 0.3607 - val_loss: 1.6450 - val_accuracy: 0.3658\n",
      "Epoch 55/120\n",
      "868/868 [==============================] - 21s 25ms/step - loss: 1.6369 - accuracy: 0.3612 - val_loss: 1.6452 - val_accuracy: 0.3642\n",
      "Epoch 56/120\n",
      "868/868 [==============================] - 22s 25ms/step - loss: 1.6352 - accuracy: 0.3625 - val_loss: 1.6377 - val_accuracy: 0.3664\n",
      "Epoch 57/120\n",
      "868/868 [==============================] - 22s 26ms/step - loss: 1.6342 - accuracy: 0.3627 - val_loss: 1.6384 - val_accuracy: 0.3653\n",
      "Epoch 58/120\n",
      "868/868 [==============================] - 23s 26ms/step - loss: 1.6324 - accuracy: 0.3627 - val_loss: 1.7956 - val_accuracy: 0.2846\n",
      "Epoch 59/120\n",
      "868/868 [==============================] - 22s 26ms/step - loss: 1.6316 - accuracy: 0.3638 - val_loss: 1.6512 - val_accuracy: 0.3587\n",
      "Epoch 60/120\n",
      "868/868 [==============================] - 21s 25ms/step - loss: 1.6304 - accuracy: 0.3644 - val_loss: 1.6537 - val_accuracy: 0.3597\n",
      "Epoch 61/120\n",
      "868/868 [==============================] - 24s 28ms/step - loss: 1.6294 - accuracy: 0.3630 - val_loss: 1.6480 - val_accuracy: 0.3639\n",
      "Epoch 62/120\n",
      "868/868 [==============================] - 23s 27ms/step - loss: 1.6281 - accuracy: 0.3635 - val_loss: 1.6343 - val_accuracy: 0.3678\n",
      "Epoch 63/120\n",
      "868/868 [==============================] - 24s 27ms/step - loss: 1.6258 - accuracy: 0.3653 - val_loss: 1.6314 - val_accuracy: 0.3699\n",
      "Epoch 64/120\n",
      "868/868 [==============================] - 24s 28ms/step - loss: 1.6253 - accuracy: 0.3662 - val_loss: 1.6326 - val_accuracy: 0.3682\n",
      "Epoch 65/120\n",
      "868/868 [==============================] - 23s 26ms/step - loss: 1.6246 - accuracy: 0.3638 - val_loss: 1.6346 - val_accuracy: 0.3699\n",
      "Epoch 66/120\n",
      "868/868 [==============================] - 22s 26ms/step - loss: 1.6230 - accuracy: 0.3657 - val_loss: 1.6343 - val_accuracy: 0.3672\n",
      "Epoch 67/120\n",
      "868/868 [==============================] - 25s 29ms/step - loss: 1.6220 - accuracy: 0.3674 - val_loss: 1.6430 - val_accuracy: 0.3615\n",
      "Epoch 68/120\n",
      "868/868 [==============================] - 26s 30ms/step - loss: 1.6203 - accuracy: 0.3672 - val_loss: 1.6634 - val_accuracy: 0.3447\n",
      "Epoch 69/120\n",
      "868/868 [==============================] - 27s 31ms/step - loss: 1.6194 - accuracy: 0.3666 - val_loss: 1.6313 - val_accuracy: 0.3708\n",
      "Epoch 70/120\n",
      "868/868 [==============================] - 28s 33ms/step - loss: 1.6184 - accuracy: 0.3671 - val_loss: 1.6438 - val_accuracy: 0.3615\n",
      "Epoch 71/120\n",
      "868/868 [==============================] - 24s 27ms/step - loss: 1.6173 - accuracy: 0.3677 - val_loss: 1.6259 - val_accuracy: 0.3708\n",
      "Epoch 72/120\n",
      "868/868 [==============================] - 22s 25ms/step - loss: 1.6159 - accuracy: 0.3690 - val_loss: 1.6244 - val_accuracy: 0.3732\n",
      "Epoch 73/120\n",
      "868/868 [==============================] - 22s 26ms/step - loss: 1.6146 - accuracy: 0.3691 - val_loss: 1.6341 - val_accuracy: 0.3640\n",
      "Epoch 74/120\n",
      "868/868 [==============================] - 24s 27ms/step - loss: 1.6136 - accuracy: 0.3688 - val_loss: 1.6286 - val_accuracy: 0.3653\n",
      "Epoch 75/120\n",
      "868/868 [==============================] - 21s 24ms/step - loss: 1.6131 - accuracy: 0.3694 - val_loss: 1.6291 - val_accuracy: 0.3697\n",
      "Epoch 76/120\n",
      "868/868 [==============================] - 22s 25ms/step - loss: 1.6116 - accuracy: 0.3696 - val_loss: 1.6824 - val_accuracy: 0.3461\n",
      "Epoch 77/120\n",
      "868/868 [==============================] - 22s 26ms/step - loss: 1.6114 - accuracy: 0.3694 - val_loss: 1.6223 - val_accuracy: 0.3725\n",
      "Epoch 78/120\n",
      "868/868 [==============================] - 22s 26ms/step - loss: 1.6109 - accuracy: 0.3699 - val_loss: 1.6423 - val_accuracy: 0.3633\n",
      "Epoch 79/120\n",
      "868/868 [==============================] - 23s 26ms/step - loss: 1.6087 - accuracy: 0.3719 - val_loss: 1.6288 - val_accuracy: 0.3688\n",
      "Epoch 80/120\n",
      "868/868 [==============================] - 24s 27ms/step - loss: 1.6075 - accuracy: 0.3708 - val_loss: 1.6274 - val_accuracy: 0.3646\n",
      "Epoch 81/120\n",
      "868/868 [==============================] - 22s 26ms/step - loss: 1.6070 - accuracy: 0.3707 - val_loss: 1.6290 - val_accuracy: 0.3681\n",
      "Epoch 82/120\n",
      "868/868 [==============================] - 22s 26ms/step - loss: 1.6057 - accuracy: 0.3714 - val_loss: 1.6271 - val_accuracy: 0.3693\n",
      "Epoch 83/120\n",
      "868/868 [==============================] - 22s 25ms/step - loss: 1.6038 - accuracy: 0.3724 - val_loss: 1.6320 - val_accuracy: 0.3702\n",
      "Epoch 84/120\n",
      "868/868 [==============================] - 23s 26ms/step - loss: 1.6035 - accuracy: 0.3734 - val_loss: 1.6154 - val_accuracy: 0.3724\n",
      "Epoch 85/120\n",
      "868/868 [==============================] - 23s 26ms/step - loss: 1.6020 - accuracy: 0.3726 - val_loss: 1.6234 - val_accuracy: 0.3734\n",
      "Epoch 86/120\n",
      "868/868 [==============================] - 24s 28ms/step - loss: 1.6015 - accuracy: 0.3730 - val_loss: 1.6156 - val_accuracy: 0.3712\n",
      "Epoch 87/120\n",
      "868/868 [==============================] - 23s 26ms/step - loss: 1.6009 - accuracy: 0.3733 - val_loss: 1.6127 - val_accuracy: 0.3747\n",
      "Epoch 88/120\n",
      "868/868 [==============================] - 23s 27ms/step - loss: 1.5997 - accuracy: 0.3733 - val_loss: 1.6571 - val_accuracy: 0.3463\n",
      "Epoch 89/120\n",
      "868/868 [==============================] - 22s 25ms/step - loss: 1.5990 - accuracy: 0.3738 - val_loss: 1.6108 - val_accuracy: 0.3759\n",
      "Epoch 90/120\n",
      "868/868 [==============================] - 22s 26ms/step - loss: 1.5985 - accuracy: 0.3732 - val_loss: 1.6390 - val_accuracy: 0.3653\n",
      "Epoch 91/120\n",
      "868/868 [==============================] - 23s 27ms/step - loss: 1.5965 - accuracy: 0.3744 - val_loss: 1.6300 - val_accuracy: 0.3670\n",
      "Epoch 92/120\n",
      "868/868 [==============================] - 23s 27ms/step - loss: 1.5960 - accuracy: 0.3760 - val_loss: 1.6186 - val_accuracy: 0.3760\n",
      "Epoch 93/120\n",
      "868/868 [==============================] - 22s 26ms/step - loss: 1.5951 - accuracy: 0.3742 - val_loss: 1.6264 - val_accuracy: 0.3684\n",
      "Epoch 94/120\n",
      "868/868 [==============================] - 23s 27ms/step - loss: 1.5945 - accuracy: 0.3751 - val_loss: 1.6778 - val_accuracy: 0.3535\n",
      "Epoch 95/120\n",
      "868/868 [==============================] - 23s 26ms/step - loss: 1.5941 - accuracy: 0.3762 - val_loss: 1.6079 - val_accuracy: 0.3794\n",
      "Epoch 96/120\n",
      "868/868 [==============================] - 23s 26ms/step - loss: 1.5922 - accuracy: 0.3756 - val_loss: 1.6138 - val_accuracy: 0.3700\n",
      "Epoch 97/120\n",
      "868/868 [==============================] - 22s 26ms/step - loss: 1.5910 - accuracy: 0.3757 - val_loss: 1.6229 - val_accuracy: 0.3614\n",
      "Epoch 98/120\n",
      "868/868 [==============================] - 23s 27ms/step - loss: 1.5898 - accuracy: 0.3779 - val_loss: 1.6201 - val_accuracy: 0.3667\n",
      "Epoch 99/120\n",
      "868/868 [==============================] - 22s 25ms/step - loss: 1.5898 - accuracy: 0.3761 - val_loss: 1.6035 - val_accuracy: 0.3785\n",
      "Epoch 100/120\n",
      "868/868 [==============================] - 22s 25ms/step - loss: 1.5890 - accuracy: 0.3761 - val_loss: 1.6329 - val_accuracy: 0.3719\n",
      "Epoch 101/120\n",
      "868/868 [==============================] - 24s 28ms/step - loss: 1.5875 - accuracy: 0.3776 - val_loss: 1.6079 - val_accuracy: 0.3772\n",
      "Epoch 102/120\n",
      "868/868 [==============================] - 22s 25ms/step - loss: 1.5873 - accuracy: 0.3769 - val_loss: 1.6227 - val_accuracy: 0.3700\n",
      "Epoch 103/120\n",
      "868/868 [==============================] - 22s 26ms/step - loss: 1.5862 - accuracy: 0.3770 - val_loss: 1.6056 - val_accuracy: 0.3768\n",
      "Epoch 104/120\n",
      "868/868 [==============================] - 22s 26ms/step - loss: 1.5849 - accuracy: 0.3761 - val_loss: 1.6143 - val_accuracy: 0.3629\n",
      "Epoch 105/120\n",
      "868/868 [==============================] - 23s 26ms/step - loss: 1.5839 - accuracy: 0.3811 - val_loss: 1.6021 - val_accuracy: 0.3799\n",
      "Epoch 106/120\n",
      "868/868 [==============================] - 24s 27ms/step - loss: 1.5837 - accuracy: 0.3791 - val_loss: 1.6261 - val_accuracy: 0.3707\n",
      "Epoch 107/120\n",
      "868/868 [==============================] - 25s 29ms/step - loss: 1.5817 - accuracy: 0.3795 - val_loss: 1.6353 - val_accuracy: 0.3602\n",
      "Epoch 108/120\n",
      "868/868 [==============================] - 24s 28ms/step - loss: 1.5822 - accuracy: 0.3775 - val_loss: 1.6098 - val_accuracy: 0.3791\n",
      "Epoch 109/120\n",
      "868/868 [==============================] - 25s 28ms/step - loss: 1.5810 - accuracy: 0.3802 - val_loss: 1.6608 - val_accuracy: 0.3411\n",
      "Epoch 110/120\n",
      "868/868 [==============================] - 25s 29ms/step - loss: 1.5804 - accuracy: 0.3797 - val_loss: 1.6457 - val_accuracy: 0.3482\n",
      "Epoch 111/120\n",
      "868/868 [==============================] - 25s 28ms/step - loss: 1.5785 - accuracy: 0.3806 - val_loss: 1.6259 - val_accuracy: 0.3645\n",
      "Epoch 112/120\n",
      "868/868 [==============================] - 21s 24ms/step - loss: 1.5777 - accuracy: 0.3817 - val_loss: 1.6072 - val_accuracy: 0.3768\n",
      "Epoch 113/120\n",
      "868/868 [==============================] - 24s 27ms/step - loss: 1.5776 - accuracy: 0.3809 - val_loss: 1.6167 - val_accuracy: 0.3713\n",
      "Epoch 114/120\n",
      "868/868 [==============================] - 23s 26ms/step - loss: 1.5763 - accuracy: 0.3814 - val_loss: 1.6227 - val_accuracy: 0.3747\n",
      "Epoch 115/120\n",
      "868/868 [==============================] - 22s 26ms/step - loss: 1.5760 - accuracy: 0.3807 - val_loss: 1.5958 - val_accuracy: 0.3814\n",
      "Epoch 116/120\n",
      "868/868 [==============================] - 22s 25ms/step - loss: 1.5754 - accuracy: 0.3821 - val_loss: 1.6408 - val_accuracy: 0.3674\n",
      "Epoch 117/120\n",
      "868/868 [==============================] - 23s 26ms/step - loss: 1.5749 - accuracy: 0.3825 - val_loss: 1.5945 - val_accuracy: 0.3795\n",
      "Epoch 118/120\n",
      "868/868 [==============================] - 20s 23ms/step - loss: 1.5747 - accuracy: 0.3812 - val_loss: 1.6014 - val_accuracy: 0.3793\n",
      "Epoch 119/120\n",
      "868/868 [==============================] - 22s 26ms/step - loss: 1.5729 - accuracy: 0.3814 - val_loss: 1.5957 - val_accuracy: 0.3780\n",
      "Epoch 120/120\n",
      "868/868 [==============================] - 21s 25ms/step - loss: 1.5714 - accuracy: 0.3812 - val_loss: 1.5994 - val_accuracy: 0.3800\n",
      "343/343 [==============================] - 1s 3ms/step\n",
      "Accuracy:  0.37995252\n",
      "[[  56    0   47   78   18    0    0    0    0]\n",
      " [   1   53  799  172  145    3    5    3    0]\n",
      " [   6   34 2429  102  698    9   18    4    0]\n",
      " [  23   24  526  672  102    2    6    1    0]\n",
      " [   2   11 1356   76  844   15   25    1    0]\n",
      " [   6    7  636   41  590   33   36    4    0]\n",
      " [   1    8  306   29  351   26   68    7    0]\n",
      " [   0    0  126   11  124   14   39    7    0]\n",
      " [   1    0   46    6   43    2   13    7    0]]\n"
     ]
    },
    {
     "data": {
      "text/plain": [
       "ERROR: Failed to launch TensorBoard (exited with 2).\n",
       "Contents of stderr:\n",
       "usage: tensorboard [-h] [--helpfull] [--logdir PATH] [--logdir_spec PATH_SPEC]\n",
       "                   [--host ADDR] [--bind_all] [--port PORT]\n",
       "                   [--reuse_port BOOL] [--load_fast {false,auto,true}]\n",
       "                   [--extra_data_server_flags EXTRA_DATA_SERVER_FLAGS]\n",
       "                   [--grpc_creds_type {local,ssl,ssl_dev}]\n",
       "                   [--grpc_data_provider PORT] [--purge_orphaned_data BOOL]\n",
       "                   [--db URI] [--db_import] [--inspect] [--version_tb]\n",
       "                   [--tag TAG] [--event_file PATH] [--path_prefix PATH]\n",
       "                   [--window_title TEXT] [--max_reload_threads COUNT]\n",
       "                   [--reload_interval SECONDS] [--reload_task TYPE]\n",
       "                   [--reload_multifile BOOL]\n",
       "                   [--reload_multifile_inactive_secs SECONDS]\n",
       "                   [--generic_data TYPE]\n",
       "                   [--samples_per_plugin SAMPLES_PER_PLUGIN]\n",
       "                   [--detect_file_replacement BOOL]\n",
       "                   [--whatif-use-unsafe-custom-prediction YOUR_CUSTOM_PREDICT_FUNCTION.py]\n",
       "                   [--whatif-data-dir PATH]\n",
       "                   {serve,dev} ...\n",
       "tensorboard: error: argument --port: invalid <lambda> value: 'port'"
      ]
     },
     "metadata": {},
     "output_type": "display_data"
    }
   ],
   "source": [
    "taskOne(X_train, y_age_train, X_test, y_age_test, 0.005, 120, 100)\n",
    "%tensorboard --logdir logs --port=6010"
   ]
  },
  {
   "cell_type": "code",
   "execution_count": 23,
   "id": "bfa19edb-0725-4dbf-9bc5-eb81ecd8fa9a",
   "metadata": {
    "tags": []
   },
   "outputs": [
    {
     "name": "stdout",
     "output_type": "stream",
     "text": [
      "Epoch 1/120\n",
      "868/868 [==============================] - 25s 29ms/step - loss: 1.8936 - accuracy: 0.2270 - val_loss: 1.8658 - val_accuracy: 0.2591\n",
      "Epoch 2/120\n",
      "868/868 [==============================] - 23s 26ms/step - loss: 1.8475 - accuracy: 0.2650 - val_loss: 1.8349 - val_accuracy: 0.2838\n",
      "Epoch 3/120\n",
      "868/868 [==============================] - 24s 27ms/step - loss: 1.8209 - accuracy: 0.2834 - val_loss: 1.8118 - val_accuracy: 0.2961\n",
      "Epoch 4/120\n",
      "868/868 [==============================] - 22s 26ms/step - loss: 1.7961 - accuracy: 0.2968 - val_loss: 1.7868 - val_accuracy: 0.3040\n",
      "Epoch 5/120\n",
      "868/868 [==============================] - 23s 26ms/step - loss: 1.7712 - accuracy: 0.3117 - val_loss: 1.7647 - val_accuracy: 0.3154\n",
      "Epoch 6/120\n",
      "122/868 [===>..........................] - ETA: 15s - loss: 1.7530 - accuracy: 0.3178"
     ]
    },
    {
     "ename": "KeyboardInterrupt",
     "evalue": "",
     "output_type": "error",
     "traceback": [
      "\u001b[1;31m---------------------------------------------------------------------------\u001b[0m",
      "\u001b[1;31mKeyboardInterrupt\u001b[0m                         Traceback (most recent call last)",
      "Cell \u001b[1;32mIn[23], line 1\u001b[0m\n\u001b[1;32m----> 1\u001b[0m \u001b[43mtaskOne\u001b[49m\u001b[43m(\u001b[49m\u001b[43mX_train\u001b[49m\u001b[43m,\u001b[49m\u001b[43m \u001b[49m\u001b[43my_race_train\u001b[49m\u001b[43m,\u001b[49m\u001b[43m \u001b[49m\u001b[43mX_test\u001b[49m\u001b[43m,\u001b[49m\u001b[43m \u001b[49m\u001b[43my_race_test\u001b[49m\u001b[43m,\u001b[49m\u001b[43m \u001b[49m\u001b[38;5;241;43m0.01\u001b[39;49m\u001b[43m,\u001b[49m\u001b[43m \u001b[49m\u001b[38;5;241;43m120\u001b[39;49m\u001b[43m,\u001b[49m\u001b[43m \u001b[49m\u001b[38;5;241;43m100\u001b[39;49m\u001b[43m,\u001b[49m\u001b[43m \u001b[49m\u001b[38;5;241;43m6011\u001b[39;49m\u001b[43m)\u001b[49m\n",
      "Cell \u001b[1;32mIn[19], line 3\u001b[0m, in \u001b[0;36mtaskOne\u001b[1;34m(X_train, y_train, X_test, y_test, lr, numEpochs, batchSize, port)\u001b[0m\n\u001b[0;32m      1\u001b[0m \u001b[38;5;28;01mdef\u001b[39;00m \u001b[38;5;21mtaskOne\u001b[39m(X_train, y_train, X_test, y_test, lr, numEpochs, batchSize, port):\n\u001b[0;32m      2\u001b[0m     model \u001b[38;5;241m=\u001b[39m createFeedFoward((\u001b[38;5;241m1024\u001b[39m,), \u001b[38;5;28mlen\u001b[39m(y_train[\u001b[38;5;241m0\u001b[39m]), lr)\n\u001b[1;32m----> 3\u001b[0m     \u001b[43mmodel\u001b[49m\u001b[38;5;241;43m.\u001b[39;49m\u001b[43mfit\u001b[49m\u001b[43m(\u001b[49m\u001b[43mX_train\u001b[49m\u001b[43m,\u001b[49m\u001b[43m \u001b[49m\u001b[43my_train\u001b[49m\u001b[43m,\u001b[49m\u001b[43m \u001b[49m\u001b[43mvalidation_data\u001b[49m\u001b[38;5;241;43m=\u001b[39;49m\u001b[43m(\u001b[49m\u001b[43mX_test\u001b[49m\u001b[43m,\u001b[49m\u001b[43m \u001b[49m\u001b[43my_test\u001b[49m\u001b[43m)\u001b[49m\u001b[43m,\u001b[49m\u001b[43m \u001b[49m\u001b[43mepochs\u001b[49m\u001b[38;5;241;43m=\u001b[39;49m\u001b[43mnumEpochs\u001b[49m\u001b[43m,\u001b[49m\u001b[43m \u001b[49m\u001b[43mbatch_size\u001b[49m\u001b[38;5;241;43m=\u001b[39;49m\u001b[43mbatchSize\u001b[49m\u001b[43m,\u001b[49m\u001b[43m \u001b[49m\u001b[43mcallbacks\u001b[49m\u001b[38;5;241;43m=\u001b[39;49m\u001b[43mcallbacks\u001b[49m\u001b[43m)\u001b[49m\n\u001b[0;32m      4\u001b[0m     y_true \u001b[38;5;241m=\u001b[39m getMax(y_test)\n\u001b[0;32m      5\u001b[0m     y_pred \u001b[38;5;241m=\u001b[39m getMax(model\u001b[38;5;241m.\u001b[39mpredict(X_test))\n",
      "File \u001b[1;32mD:\\School\\UTK_SPRING_2023\\Deep_Learning\\cs425-Env\\Lib\\site-packages\\keras\\utils\\traceback_utils.py:65\u001b[0m, in \u001b[0;36mfilter_traceback.<locals>.error_handler\u001b[1;34m(*args, **kwargs)\u001b[0m\n\u001b[0;32m     63\u001b[0m filtered_tb \u001b[38;5;241m=\u001b[39m \u001b[38;5;28;01mNone\u001b[39;00m\n\u001b[0;32m     64\u001b[0m \u001b[38;5;28;01mtry\u001b[39;00m:\n\u001b[1;32m---> 65\u001b[0m     \u001b[38;5;28;01mreturn\u001b[39;00m \u001b[43mfn\u001b[49m\u001b[43m(\u001b[49m\u001b[38;5;241;43m*\u001b[39;49m\u001b[43margs\u001b[49m\u001b[43m,\u001b[49m\u001b[43m \u001b[49m\u001b[38;5;241;43m*\u001b[39;49m\u001b[38;5;241;43m*\u001b[39;49m\u001b[43mkwargs\u001b[49m\u001b[43m)\u001b[49m\n\u001b[0;32m     66\u001b[0m \u001b[38;5;28;01mexcept\u001b[39;00m \u001b[38;5;167;01mException\u001b[39;00m \u001b[38;5;28;01mas\u001b[39;00m e:\n\u001b[0;32m     67\u001b[0m     filtered_tb \u001b[38;5;241m=\u001b[39m _process_traceback_frames(e\u001b[38;5;241m.\u001b[39m__traceback__)\n",
      "File \u001b[1;32mD:\\School\\UTK_SPRING_2023\\Deep_Learning\\cs425-Env\\Lib\\site-packages\\keras\\engine\\training.py:1691\u001b[0m, in \u001b[0;36mModel.fit\u001b[1;34m(self, x, y, batch_size, epochs, verbose, callbacks, validation_split, validation_data, shuffle, class_weight, sample_weight, initial_epoch, steps_per_epoch, validation_steps, validation_batch_size, validation_freq, max_queue_size, workers, use_multiprocessing)\u001b[0m\n\u001b[0;32m   1689\u001b[0m logs \u001b[38;5;241m=\u001b[39m tmp_logs\n\u001b[0;32m   1690\u001b[0m end_step \u001b[38;5;241m=\u001b[39m step \u001b[38;5;241m+\u001b[39m data_handler\u001b[38;5;241m.\u001b[39mstep_increment\n\u001b[1;32m-> 1691\u001b[0m \u001b[43mcallbacks\u001b[49m\u001b[38;5;241;43m.\u001b[39;49m\u001b[43mon_train_batch_end\u001b[49m\u001b[43m(\u001b[49m\u001b[43mend_step\u001b[49m\u001b[43m,\u001b[49m\u001b[43m \u001b[49m\u001b[43mlogs\u001b[49m\u001b[43m)\u001b[49m\n\u001b[0;32m   1692\u001b[0m \u001b[38;5;28;01mif\u001b[39;00m \u001b[38;5;28mself\u001b[39m\u001b[38;5;241m.\u001b[39mstop_training:\n\u001b[0;32m   1693\u001b[0m     \u001b[38;5;28;01mbreak\u001b[39;00m\n",
      "File \u001b[1;32mD:\\School\\UTK_SPRING_2023\\Deep_Learning\\cs425-Env\\Lib\\site-packages\\keras\\callbacks.py:475\u001b[0m, in \u001b[0;36mCallbackList.on_train_batch_end\u001b[1;34m(self, batch, logs)\u001b[0m\n\u001b[0;32m    468\u001b[0m \u001b[38;5;250m\u001b[39m\u001b[38;5;124;03m\"\"\"Calls the `on_train_batch_end` methods of its callbacks.\u001b[39;00m\n\u001b[0;32m    469\u001b[0m \n\u001b[0;32m    470\u001b[0m \u001b[38;5;124;03mArgs:\u001b[39;00m\n\u001b[0;32m    471\u001b[0m \u001b[38;5;124;03m    batch: Integer, index of batch within the current epoch.\u001b[39;00m\n\u001b[0;32m    472\u001b[0m \u001b[38;5;124;03m    logs: Dict. Aggregated metric results up until this batch.\u001b[39;00m\n\u001b[0;32m    473\u001b[0m \u001b[38;5;124;03m\"\"\"\u001b[39;00m\n\u001b[0;32m    474\u001b[0m \u001b[38;5;28;01mif\u001b[39;00m \u001b[38;5;28mself\u001b[39m\u001b[38;5;241m.\u001b[39m_should_call_train_batch_hooks:\n\u001b[1;32m--> 475\u001b[0m     \u001b[38;5;28;43mself\u001b[39;49m\u001b[38;5;241;43m.\u001b[39;49m\u001b[43m_call_batch_hook\u001b[49m\u001b[43m(\u001b[49m\u001b[43mModeKeys\u001b[49m\u001b[38;5;241;43m.\u001b[39;49m\u001b[43mTRAIN\u001b[49m\u001b[43m,\u001b[49m\u001b[43m \u001b[49m\u001b[38;5;124;43m\"\u001b[39;49m\u001b[38;5;124;43mend\u001b[39;49m\u001b[38;5;124;43m\"\u001b[39;49m\u001b[43m,\u001b[49m\u001b[43m \u001b[49m\u001b[43mbatch\u001b[49m\u001b[43m,\u001b[49m\u001b[43m \u001b[49m\u001b[43mlogs\u001b[49m\u001b[38;5;241;43m=\u001b[39;49m\u001b[43mlogs\u001b[49m\u001b[43m)\u001b[49m\n",
      "File \u001b[1;32mD:\\School\\UTK_SPRING_2023\\Deep_Learning\\cs425-Env\\Lib\\site-packages\\keras\\callbacks.py:322\u001b[0m, in \u001b[0;36mCallbackList._call_batch_hook\u001b[1;34m(self, mode, hook, batch, logs)\u001b[0m\n\u001b[0;32m    320\u001b[0m     \u001b[38;5;28mself\u001b[39m\u001b[38;5;241m.\u001b[39m_call_batch_begin_hook(mode, batch, logs)\n\u001b[0;32m    321\u001b[0m \u001b[38;5;28;01melif\u001b[39;00m hook \u001b[38;5;241m==\u001b[39m \u001b[38;5;124m\"\u001b[39m\u001b[38;5;124mend\u001b[39m\u001b[38;5;124m\"\u001b[39m:\n\u001b[1;32m--> 322\u001b[0m     \u001b[38;5;28;43mself\u001b[39;49m\u001b[38;5;241;43m.\u001b[39;49m\u001b[43m_call_batch_end_hook\u001b[49m\u001b[43m(\u001b[49m\u001b[43mmode\u001b[49m\u001b[43m,\u001b[49m\u001b[43m \u001b[49m\u001b[43mbatch\u001b[49m\u001b[43m,\u001b[49m\u001b[43m \u001b[49m\u001b[43mlogs\u001b[49m\u001b[43m)\u001b[49m\n\u001b[0;32m    323\u001b[0m \u001b[38;5;28;01melse\u001b[39;00m:\n\u001b[0;32m    324\u001b[0m     \u001b[38;5;28;01mraise\u001b[39;00m \u001b[38;5;167;01mValueError\u001b[39;00m(\n\u001b[0;32m    325\u001b[0m         \u001b[38;5;124mf\u001b[39m\u001b[38;5;124m\"\u001b[39m\u001b[38;5;124mUnrecognized hook: \u001b[39m\u001b[38;5;132;01m{\u001b[39;00mhook\u001b[38;5;132;01m}\u001b[39;00m\u001b[38;5;124m. \u001b[39m\u001b[38;5;124m\"\u001b[39m\n\u001b[0;32m    326\u001b[0m         \u001b[38;5;124m'\u001b[39m\u001b[38;5;124mExpected values are [\u001b[39m\u001b[38;5;124m\"\u001b[39m\u001b[38;5;124mbegin\u001b[39m\u001b[38;5;124m\"\u001b[39m\u001b[38;5;124m, \u001b[39m\u001b[38;5;124m\"\u001b[39m\u001b[38;5;124mend\u001b[39m\u001b[38;5;124m\"\u001b[39m\u001b[38;5;124m]\u001b[39m\u001b[38;5;124m'\u001b[39m\n\u001b[0;32m    327\u001b[0m     )\n",
      "File \u001b[1;32mD:\\School\\UTK_SPRING_2023\\Deep_Learning\\cs425-Env\\Lib\\site-packages\\keras\\callbacks.py:345\u001b[0m, in \u001b[0;36mCallbackList._call_batch_end_hook\u001b[1;34m(self, mode, batch, logs)\u001b[0m\n\u001b[0;32m    342\u001b[0m     batch_time \u001b[38;5;241m=\u001b[39m time\u001b[38;5;241m.\u001b[39mtime() \u001b[38;5;241m-\u001b[39m \u001b[38;5;28mself\u001b[39m\u001b[38;5;241m.\u001b[39m_batch_start_time\n\u001b[0;32m    343\u001b[0m     \u001b[38;5;28mself\u001b[39m\u001b[38;5;241m.\u001b[39m_batch_times\u001b[38;5;241m.\u001b[39mappend(batch_time)\n\u001b[1;32m--> 345\u001b[0m \u001b[38;5;28;43mself\u001b[39;49m\u001b[38;5;241;43m.\u001b[39;49m\u001b[43m_call_batch_hook_helper\u001b[49m\u001b[43m(\u001b[49m\u001b[43mhook_name\u001b[49m\u001b[43m,\u001b[49m\u001b[43m \u001b[49m\u001b[43mbatch\u001b[49m\u001b[43m,\u001b[49m\u001b[43m \u001b[49m\u001b[43mlogs\u001b[49m\u001b[43m)\u001b[49m\n\u001b[0;32m    347\u001b[0m \u001b[38;5;28;01mif\u001b[39;00m \u001b[38;5;28mlen\u001b[39m(\u001b[38;5;28mself\u001b[39m\u001b[38;5;241m.\u001b[39m_batch_times) \u001b[38;5;241m>\u001b[39m\u001b[38;5;241m=\u001b[39m \u001b[38;5;28mself\u001b[39m\u001b[38;5;241m.\u001b[39m_num_batches_for_timing_check:\n\u001b[0;32m    348\u001b[0m     end_hook_name \u001b[38;5;241m=\u001b[39m hook_name\n",
      "File \u001b[1;32mD:\\School\\UTK_SPRING_2023\\Deep_Learning\\cs425-Env\\Lib\\site-packages\\keras\\callbacks.py:393\u001b[0m, in \u001b[0;36mCallbackList._call_batch_hook_helper\u001b[1;34m(self, hook_name, batch, logs)\u001b[0m\n\u001b[0;32m    391\u001b[0m \u001b[38;5;28;01mfor\u001b[39;00m callback \u001b[38;5;129;01min\u001b[39;00m \u001b[38;5;28mself\u001b[39m\u001b[38;5;241m.\u001b[39mcallbacks:\n\u001b[0;32m    392\u001b[0m     hook \u001b[38;5;241m=\u001b[39m \u001b[38;5;28mgetattr\u001b[39m(callback, hook_name)\n\u001b[1;32m--> 393\u001b[0m     \u001b[43mhook\u001b[49m\u001b[43m(\u001b[49m\u001b[43mbatch\u001b[49m\u001b[43m,\u001b[49m\u001b[43m \u001b[49m\u001b[43mlogs\u001b[49m\u001b[43m)\u001b[49m\n\u001b[0;32m    395\u001b[0m \u001b[38;5;28;01mif\u001b[39;00m \u001b[38;5;28mself\u001b[39m\u001b[38;5;241m.\u001b[39m_check_timing:\n\u001b[0;32m    396\u001b[0m     \u001b[38;5;28;01mif\u001b[39;00m hook_name \u001b[38;5;129;01mnot\u001b[39;00m \u001b[38;5;129;01min\u001b[39;00m \u001b[38;5;28mself\u001b[39m\u001b[38;5;241m.\u001b[39m_hook_times:\n",
      "File \u001b[1;32mD:\\School\\UTK_SPRING_2023\\Deep_Learning\\cs425-Env\\Lib\\site-packages\\keras\\callbacks.py:2800\u001b[0m, in \u001b[0;36mTensorBoard.on_train_batch_end\u001b[1;34m(self, batch, logs)\u001b[0m\n\u001b[0;32m   2798\u001b[0m \u001b[38;5;28;01mif\u001b[39;00m \u001b[38;5;28misinstance\u001b[39m(logs, \u001b[38;5;28mdict\u001b[39m):\n\u001b[0;32m   2799\u001b[0m     \u001b[38;5;28;01mfor\u001b[39;00m name, value \u001b[38;5;129;01min\u001b[39;00m logs\u001b[38;5;241m.\u001b[39mitems():\n\u001b[1;32m-> 2800\u001b[0m         \u001b[43mtf\u001b[49m\u001b[38;5;241;43m.\u001b[39;49m\u001b[43msummary\u001b[49m\u001b[38;5;241;43m.\u001b[39;49m\u001b[43mscalar\u001b[49m\u001b[43m(\u001b[49m\u001b[38;5;124;43m\"\u001b[39;49m\u001b[38;5;124;43mbatch_\u001b[39;49m\u001b[38;5;124;43m\"\u001b[39;49m\u001b[43m \u001b[49m\u001b[38;5;241;43m+\u001b[39;49m\u001b[43m \u001b[49m\u001b[43mname\u001b[49m\u001b[43m,\u001b[49m\u001b[43m \u001b[49m\u001b[43mvalue\u001b[49m\u001b[43m,\u001b[49m\u001b[43m \u001b[49m\u001b[43mstep\u001b[49m\u001b[38;5;241;43m=\u001b[39;49m\u001b[38;5;28;43mself\u001b[39;49m\u001b[38;5;241;43m.\u001b[39;49m\u001b[43m_train_step\u001b[49m\u001b[43m)\u001b[49m\n\u001b[0;32m   2802\u001b[0m \u001b[38;5;28;01mif\u001b[39;00m \u001b[38;5;129;01mnot\u001b[39;00m \u001b[38;5;28mself\u001b[39m\u001b[38;5;241m.\u001b[39m_should_trace:\n\u001b[0;32m   2803\u001b[0m     \u001b[38;5;28;01mreturn\u001b[39;00m\n",
      "File \u001b[1;32mD:\\School\\UTK_SPRING_2023\\Deep_Learning\\cs425-Env\\Lib\\site-packages\\tensorboard\\plugins\\scalar\\summary_v2.py:89\u001b[0m, in \u001b[0;36mscalar\u001b[1;34m(name, data, step, description)\u001b[0m\n\u001b[0;32m     87\u001b[0m \u001b[38;5;28;01mwith\u001b[39;00m summary_scope(name, \u001b[38;5;124m\"\u001b[39m\u001b[38;5;124mscalar_summary\u001b[39m\u001b[38;5;124m\"\u001b[39m, values\u001b[38;5;241m=\u001b[39m[data, step]) \u001b[38;5;28;01mas\u001b[39;00m (tag, _):\n\u001b[0;32m     88\u001b[0m     tf\u001b[38;5;241m.\u001b[39mdebugging\u001b[38;5;241m.\u001b[39massert_scalar(data)\n\u001b[1;32m---> 89\u001b[0m     \u001b[38;5;28;01mreturn\u001b[39;00m \u001b[43mtf\u001b[49m\u001b[38;5;241;43m.\u001b[39;49m\u001b[43msummary\u001b[49m\u001b[38;5;241;43m.\u001b[39;49m\u001b[43mwrite\u001b[49m\u001b[43m(\u001b[49m\n\u001b[0;32m     90\u001b[0m \u001b[43m        \u001b[49m\u001b[43mtag\u001b[49m\u001b[38;5;241;43m=\u001b[39;49m\u001b[43mtag\u001b[49m\u001b[43m,\u001b[49m\n\u001b[0;32m     91\u001b[0m \u001b[43m        \u001b[49m\u001b[43mtensor\u001b[49m\u001b[38;5;241;43m=\u001b[39;49m\u001b[43mtf\u001b[49m\u001b[38;5;241;43m.\u001b[39;49m\u001b[43mcast\u001b[49m\u001b[43m(\u001b[49m\u001b[43mdata\u001b[49m\u001b[43m,\u001b[49m\u001b[43m \u001b[49m\u001b[43mtf\u001b[49m\u001b[38;5;241;43m.\u001b[39;49m\u001b[43mfloat32\u001b[49m\u001b[43m)\u001b[49m\u001b[43m,\u001b[49m\n\u001b[0;32m     92\u001b[0m \u001b[43m        \u001b[49m\u001b[43mstep\u001b[49m\u001b[38;5;241;43m=\u001b[39;49m\u001b[43mstep\u001b[49m\u001b[43m,\u001b[49m\n\u001b[0;32m     93\u001b[0m \u001b[43m        \u001b[49m\u001b[43mmetadata\u001b[49m\u001b[38;5;241;43m=\u001b[39;49m\u001b[43msummary_metadata\u001b[49m\u001b[43m,\u001b[49m\n\u001b[0;32m     94\u001b[0m \u001b[43m    \u001b[49m\u001b[43m)\u001b[49m\n",
      "File \u001b[1;32mD:\\School\\UTK_SPRING_2023\\Deep_Learning\\cs425-Env\\Lib\\site-packages\\tensorflow\\python\\ops\\summary_ops_v2.py:769\u001b[0m, in \u001b[0;36mwrite\u001b[1;34m(tag, tensor, step, metadata, name)\u001b[0m\n\u001b[0;32m    766\u001b[0m     \u001b[38;5;28;01mwith\u001b[39;00m ops\u001b[38;5;241m.\u001b[39mcontrol_dependencies([write_summary_op]):\n\u001b[0;32m    767\u001b[0m       \u001b[38;5;28;01mreturn\u001b[39;00m constant_op\u001b[38;5;241m.\u001b[39mconstant(\u001b[38;5;28;01mTrue\u001b[39;00m)\n\u001b[1;32m--> 769\u001b[0m op \u001b[38;5;241m=\u001b[39m \u001b[43msmart_cond\u001b[49m\u001b[38;5;241;43m.\u001b[39;49m\u001b[43msmart_cond\u001b[49m\u001b[43m(\u001b[49m\n\u001b[0;32m    770\u001b[0m \u001b[43m    \u001b[49m\u001b[43mshould_record_summaries\u001b[49m\u001b[43m(\u001b[49m\u001b[43m)\u001b[49m\u001b[43m,\u001b[49m\u001b[43m \u001b[49m\u001b[43mrecord\u001b[49m\u001b[43m,\u001b[49m\u001b[43m \u001b[49m\u001b[43m_nothing\u001b[49m\u001b[43m,\u001b[49m\u001b[43m \u001b[49m\u001b[43mname\u001b[49m\u001b[38;5;241;43m=\u001b[39;49m\u001b[38;5;124;43m\"\u001b[39;49m\u001b[38;5;124;43msummary_cond\u001b[39;49m\u001b[38;5;124;43m\"\u001b[39;49m\u001b[43m)\u001b[49m\n\u001b[0;32m    771\u001b[0m \u001b[38;5;28;01mif\u001b[39;00m \u001b[38;5;129;01mnot\u001b[39;00m context\u001b[38;5;241m.\u001b[39mexecuting_eagerly():\n\u001b[0;32m    772\u001b[0m   ops\u001b[38;5;241m.\u001b[39madd_to_collection(ops\u001b[38;5;241m.\u001b[39mGraphKeys\u001b[38;5;241m.\u001b[39m_SUMMARY_COLLECTION, op)  \u001b[38;5;66;03m# pylint: disable=protected-access\u001b[39;00m\n",
      "File \u001b[1;32mD:\\School\\UTK_SPRING_2023\\Deep_Learning\\cs425-Env\\Lib\\site-packages\\tensorflow\\python\\framework\\smart_cond.py:52\u001b[0m, in \u001b[0;36msmart_cond\u001b[1;34m(pred, true_fn, false_fn, name)\u001b[0m\n\u001b[0;32m     50\u001b[0m \u001b[38;5;28;01mif\u001b[39;00m pred_value \u001b[38;5;129;01mis\u001b[39;00m \u001b[38;5;129;01mnot\u001b[39;00m \u001b[38;5;28;01mNone\u001b[39;00m:\n\u001b[0;32m     51\u001b[0m   \u001b[38;5;28;01mif\u001b[39;00m pred_value:\n\u001b[1;32m---> 52\u001b[0m     \u001b[38;5;28;01mreturn\u001b[39;00m \u001b[43mtrue_fn\u001b[49m\u001b[43m(\u001b[49m\u001b[43m)\u001b[49m\n\u001b[0;32m     53\u001b[0m   \u001b[38;5;28;01melse\u001b[39;00m:\n\u001b[0;32m     54\u001b[0m     \u001b[38;5;28;01mreturn\u001b[39;00m false_fn()\n",
      "File \u001b[1;32mD:\\School\\UTK_SPRING_2023\\Deep_Learning\\cs425-Env\\Lib\\site-packages\\tensorflow\\python\\ops\\summary_ops_v2.py:759\u001b[0m, in \u001b[0;36mwrite.<locals>.record\u001b[1;34m()\u001b[0m\n\u001b[0;32m    756\u001b[0m \u001b[38;5;28;01mwith\u001b[39;00m ops\u001b[38;5;241m.\u001b[39mdevice(\u001b[38;5;124m\"\u001b[39m\u001b[38;5;124mcpu:0\u001b[39m\u001b[38;5;124m\"\u001b[39m):\n\u001b[0;32m    757\u001b[0m   summary_tensor \u001b[38;5;241m=\u001b[39m tensor() \u001b[38;5;28;01mif\u001b[39;00m callable(tensor) \u001b[38;5;28;01melse\u001b[39;00m array_ops\u001b[38;5;241m.\u001b[39midentity(\n\u001b[0;32m    758\u001b[0m       tensor)\n\u001b[1;32m--> 759\u001b[0m   write_summary_op \u001b[38;5;241m=\u001b[39m \u001b[43mgen_summary_ops\u001b[49m\u001b[38;5;241;43m.\u001b[39;49m\u001b[43mwrite_summary\u001b[49m\u001b[43m(\u001b[49m\n\u001b[0;32m    760\u001b[0m \u001b[43m      \u001b[49m\u001b[43m_summary_state\u001b[49m\u001b[38;5;241;43m.\u001b[39;49m\u001b[43mwriter\u001b[49m\u001b[38;5;241;43m.\u001b[39;49m\u001b[43m_resource\u001b[49m\u001b[43m,\u001b[49m\u001b[43m  \u001b[49m\u001b[38;5;66;43;03m# pylint: disable=protected-access\u001b[39;49;00m\n\u001b[0;32m    761\u001b[0m \u001b[43m      \u001b[49m\u001b[43mstep\u001b[49m\u001b[43m,\u001b[49m\n\u001b[0;32m    762\u001b[0m \u001b[43m      \u001b[49m\u001b[43msummary_tensor\u001b[49m\u001b[43m,\u001b[49m\n\u001b[0;32m    763\u001b[0m \u001b[43m      \u001b[49m\u001b[43mtag\u001b[49m\u001b[43m,\u001b[49m\n\u001b[0;32m    764\u001b[0m \u001b[43m      \u001b[49m\u001b[43mserialized_metadata\u001b[49m\u001b[43m,\u001b[49m\n\u001b[0;32m    765\u001b[0m \u001b[43m      \u001b[49m\u001b[43mname\u001b[49m\u001b[38;5;241;43m=\u001b[39;49m\u001b[43mscope\u001b[49m\u001b[43m)\u001b[49m\n\u001b[0;32m    766\u001b[0m   \u001b[38;5;28;01mwith\u001b[39;00m ops\u001b[38;5;241m.\u001b[39mcontrol_dependencies([write_summary_op]):\n\u001b[0;32m    767\u001b[0m     \u001b[38;5;28;01mreturn\u001b[39;00m constant_op\u001b[38;5;241m.\u001b[39mconstant(\u001b[38;5;28;01mTrue\u001b[39;00m)\n",
      "File \u001b[1;32mD:\\School\\UTK_SPRING_2023\\Deep_Learning\\cs425-Env\\Lib\\site-packages\\tensorflow\\python\\ops\\gen_summary_ops.py:701\u001b[0m, in \u001b[0;36mwrite_summary\u001b[1;34m(writer, step, tensor, tag, summary_metadata, name)\u001b[0m\n\u001b[0;32m    699\u001b[0m   \u001b[38;5;28;01mpass\u001b[39;00m\n\u001b[0;32m    700\u001b[0m \u001b[38;5;28;01mtry\u001b[39;00m:\n\u001b[1;32m--> 701\u001b[0m   \u001b[38;5;28;01mreturn\u001b[39;00m \u001b[43mwrite_summary_eager_fallback\u001b[49m\u001b[43m(\u001b[49m\n\u001b[0;32m    702\u001b[0m \u001b[43m      \u001b[49m\u001b[43mwriter\u001b[49m\u001b[43m,\u001b[49m\u001b[43m \u001b[49m\u001b[43mstep\u001b[49m\u001b[43m,\u001b[49m\u001b[43m \u001b[49m\u001b[43mtensor\u001b[49m\u001b[43m,\u001b[49m\u001b[43m \u001b[49m\u001b[43mtag\u001b[49m\u001b[43m,\u001b[49m\u001b[43m \u001b[49m\u001b[43msummary_metadata\u001b[49m\u001b[43m,\u001b[49m\u001b[43m \u001b[49m\u001b[43mname\u001b[49m\u001b[38;5;241;43m=\u001b[39;49m\u001b[43mname\u001b[49m\u001b[43m,\u001b[49m\u001b[43m \u001b[49m\u001b[43mctx\u001b[49m\u001b[38;5;241;43m=\u001b[39;49m\u001b[43m_ctx\u001b[49m\u001b[43m)\u001b[49m\n\u001b[0;32m    703\u001b[0m \u001b[38;5;28;01mexcept\u001b[39;00m _core\u001b[38;5;241m.\u001b[39m_SymbolicException:\n\u001b[0;32m    704\u001b[0m   \u001b[38;5;28;01mpass\u001b[39;00m  \u001b[38;5;66;03m# Add nodes to the TensorFlow graph.\u001b[39;00m\n",
      "File \u001b[1;32mD:\\School\\UTK_SPRING_2023\\Deep_Learning\\cs425-Env\\Lib\\site-packages\\tensorflow\\python\\ops\\gen_summary_ops.py:721\u001b[0m, in \u001b[0;36mwrite_summary_eager_fallback\u001b[1;34m(writer, step, tensor, tag, summary_metadata, name, ctx)\u001b[0m\n\u001b[0;32m    719\u001b[0m _inputs_flat \u001b[38;5;241m=\u001b[39m [writer, step, tensor, tag, summary_metadata]\n\u001b[0;32m    720\u001b[0m _attrs \u001b[38;5;241m=\u001b[39m (\u001b[38;5;124m\"\u001b[39m\u001b[38;5;124mT\u001b[39m\u001b[38;5;124m\"\u001b[39m, _attr_T)\n\u001b[1;32m--> 721\u001b[0m _result \u001b[38;5;241m=\u001b[39m \u001b[43m_execute\u001b[49m\u001b[38;5;241;43m.\u001b[39;49m\u001b[43mexecute\u001b[49m\u001b[43m(\u001b[49m\u001b[38;5;124;43mb\u001b[39;49m\u001b[38;5;124;43m\"\u001b[39;49m\u001b[38;5;124;43mWriteSummary\u001b[39;49m\u001b[38;5;124;43m\"\u001b[39;49m\u001b[43m,\u001b[49m\u001b[43m \u001b[49m\u001b[38;5;241;43m0\u001b[39;49m\u001b[43m,\u001b[49m\u001b[43m \u001b[49m\u001b[43minputs\u001b[49m\u001b[38;5;241;43m=\u001b[39;49m\u001b[43m_inputs_flat\u001b[49m\u001b[43m,\u001b[49m\n\u001b[0;32m    722\u001b[0m \u001b[43m                           \u001b[49m\u001b[43mattrs\u001b[49m\u001b[38;5;241;43m=\u001b[39;49m\u001b[43m_attrs\u001b[49m\u001b[43m,\u001b[49m\u001b[43m \u001b[49m\u001b[43mctx\u001b[49m\u001b[38;5;241;43m=\u001b[39;49m\u001b[43mctx\u001b[49m\u001b[43m,\u001b[49m\u001b[43m \u001b[49m\u001b[43mname\u001b[49m\u001b[38;5;241;43m=\u001b[39;49m\u001b[43mname\u001b[49m\u001b[43m)\u001b[49m\n\u001b[0;32m    723\u001b[0m _result \u001b[38;5;241m=\u001b[39m \u001b[38;5;28;01mNone\u001b[39;00m\n\u001b[0;32m    724\u001b[0m \u001b[38;5;28;01mreturn\u001b[39;00m _result\n",
      "File \u001b[1;32mD:\\School\\UTK_SPRING_2023\\Deep_Learning\\cs425-Env\\Lib\\site-packages\\tensorflow\\python\\eager\\execute.py:52\u001b[0m, in \u001b[0;36mquick_execute\u001b[1;34m(op_name, num_outputs, inputs, attrs, ctx, name)\u001b[0m\n\u001b[0;32m     50\u001b[0m \u001b[38;5;28;01mtry\u001b[39;00m:\n\u001b[0;32m     51\u001b[0m   ctx\u001b[38;5;241m.\u001b[39mensure_initialized()\n\u001b[1;32m---> 52\u001b[0m   tensors \u001b[38;5;241m=\u001b[39m \u001b[43mpywrap_tfe\u001b[49m\u001b[38;5;241;43m.\u001b[39;49m\u001b[43mTFE_Py_Execute\u001b[49m\u001b[43m(\u001b[49m\u001b[43mctx\u001b[49m\u001b[38;5;241;43m.\u001b[39;49m\u001b[43m_handle\u001b[49m\u001b[43m,\u001b[49m\u001b[43m \u001b[49m\u001b[43mdevice_name\u001b[49m\u001b[43m,\u001b[49m\u001b[43m \u001b[49m\u001b[43mop_name\u001b[49m\u001b[43m,\u001b[49m\n\u001b[0;32m     53\u001b[0m \u001b[43m                                      \u001b[49m\u001b[43minputs\u001b[49m\u001b[43m,\u001b[49m\u001b[43m \u001b[49m\u001b[43mattrs\u001b[49m\u001b[43m,\u001b[49m\u001b[43m \u001b[49m\u001b[43mnum_outputs\u001b[49m\u001b[43m)\u001b[49m\n\u001b[0;32m     54\u001b[0m \u001b[38;5;28;01mexcept\u001b[39;00m core\u001b[38;5;241m.\u001b[39m_NotOkStatusException \u001b[38;5;28;01mas\u001b[39;00m e:\n\u001b[0;32m     55\u001b[0m   \u001b[38;5;28;01mif\u001b[39;00m name \u001b[38;5;129;01mis\u001b[39;00m \u001b[38;5;129;01mnot\u001b[39;00m \u001b[38;5;28;01mNone\u001b[39;00m:\n",
      "\u001b[1;31mKeyboardInterrupt\u001b[0m: "
     ]
    }
   ],
   "source": [
    "taskOne(X_train, y_race_train, X_test, y_race_test, 0.01, 120, 100)\n",
    "%tensorboard --logdir logs --port=6011"
   ]
  },
  {
   "cell_type": "markdown",
   "id": "1e599607-4dd1-4a50-b7ac-89bd4aebc9a9",
   "metadata": {},
   "source": [
    "## Task 2: Small Convolutional Neural Network\n",
    "- Build a convolutional neural network with the following specifications (Test on two different tasks):\n",
    "    - Convolution layer having 40 feature detectors, with kernel size 5 x 5, and ReLU as the activation function, with stride 1 and no-padding.\n",
    "    - A max-pooling layer with pool size 2x2.\n",
    "    - Fully connected layer with 100 neurons, and ReLU as the activation function.\n",
    "    - Output layer: n (depending on the task) neurons representing the n classes, using the softmax activation function. function for each of the 10 neurons.\n",
    "2. Using Min-Max scaling to scale the training dataset and using the same Min and Max values from the training set scale the test dataset ( X−Xmin/Xmax−Xmin ).\n",
    "3. Using mini-batch gradient descent to optimize the loss function: “categorical cross-entropy” on the training dataset. Please record the loss value for each of the epochs and create an epoch-loss plot and an accuracy-loss plot for both the training and validation set.\n",
    "4. Report the following:\n",
    "    - Final classification accuracy.\n",
    "    - The n-class confusion matrix."
   ]
  },
  {
   "cell_type": "code",
   "execution_count": 147,
   "id": "7bb7ac59-dfae-4919-885d-9d06b9ae0840",
   "metadata": {},
   "outputs": [],
   "source": [
    "# Setup CNN network model\n",
    "def createSmallCNN(inputShape, outputSize, lr):\n",
    "    model = Sequential()\n",
    "    model.add(layers.Conv2D(40, (5, 5), activation='relu', input_shape=inputShape))\n",
    "    model.add(layers.MaxPooling2D((2, 2)))\n",
    "    model.add(layers.Flatten())\n",
    "    model.add(layers.Dense(100, activation='relu'))\n",
    "    model.add(layers.Dense(outputSize, activation='softmax'))\n",
    "    opt = optimizers.SGD(learning_rate=lr)\n",
    "    model.compile(loss='CategoricalCrossentropy', optimizer=opt, metrics=['accuracy'])\n",
    "    return model"
   ]
  },
  {
   "cell_type": "code",
   "execution_count": 148,
   "id": "5b8778fe",
   "metadata": {},
   "outputs": [],
   "source": [
    "# Get normalized data\n",
    "X_train, y_age_train, y_race_train, age_labels, race_labels = createXY('project3_COSC525/train/', 'project3_COSC525/fairface_label_train.csv', 10000)\n",
    "X_test, y_age_test, y_race_test, _ , _ = createXY('project3_COSC525/val/', 'project3_COSC525/fairface_label_val.csv', 1000)"
   ]
  },
  {
   "cell_type": "code",
   "execution_count": 149,
   "id": "fd313e71",
   "metadata": {},
   "outputs": [],
   "source": [
    "# Perform task two; train and evaluate CNN for given train/test data\n",
    "def taskTwo(X_train, y_train, X_test, y_test, lr, numEpochs, batchSize):\n",
    "    model = createSmallCNN((32, 32, 1), len(y_train[0]), lr)\n",
    "    model.fit(np.reshape(X_train, (X_train.shape[0], 32, 32)), y_train, validation_data=(np.reshape(X_test, (X_test.shape[0], 32, 32)), y_test), epochs=numEpochs, batch_size=batchSize, callbacks=callbacks)\n",
    "    y_true = getMax(y_test)\n",
    "    y_pred = getMax(model.predict(np.reshape(X_test, (X_test.shape[0], 32, 32))))\n",
    "    eval = tf.keras.metrics.Accuracy()\n",
    "    eval.update_state(y_true, y_pred)\n",
    "    print('Accuracy: ', eval.result().numpy())\n",
    "    c_matrix = confusion_matrix(y_true, y_pred)\n",
    "    print(c_matrix)"
   ]
  },
  {
   "cell_type": "code",
   "execution_count": null,
   "id": "d2eb3ea0",
   "metadata": {},
   "outputs": [],
   "source": [
    "taskTwo(X_train, y_age_train, X_test, y_age_test, 0.001, 120, 100)\n",
    "%tensorboard --logdir logs --port=6012"
   ]
  },
  {
   "cell_type": "code",
   "execution_count": null,
   "id": "8f87049f",
   "metadata": {},
   "outputs": [],
   "source": [
    "taskTwo(X_train, y_race_train, X_test, y_race_test, 0.001, 120, 100)\n",
    "%tensorboard --logdir logs --port=6013"
   ]
  },
  {
   "cell_type": "markdown",
   "id": "229e3f14-890a-4ffa-a3e0-7d5be46ed633",
   "metadata": {},
   "source": [
    "## Task 3: Your own Convolutional Neural Network\n",
    "1. Build another convolutional neural network, where you choose all the parameters to see if you can get a higher accuracy.\n",
    "2. Using Min-Max scaling to scale the training dataset and using the same Min and Max values from the training set scale the test dataset ( X−Xmin/Xmax−Xmin ).\n",
    "3. Using mini-batch gradient descent to optimize the loss function: “categorical cross-entropy” on the training dataset. Please record the loss value for each of the epochs and create an epoch-loss plot and an accuracy-loss plot for both the training and validation set.\n",
    "4. Report the following:\n",
    "    - Final classification accuracy.\n",
    "    - The n-class confusion matrix"
   ]
  },
  {
   "cell_type": "code",
   "execution_count": 130,
   "id": "23af4e16-49e9-4ed8-8518-b4152c545e48",
   "metadata": {},
   "outputs": [],
   "source": [
    "# Setup CNN network model\n",
    "def createOwnCNN(inputShape, outputSize, lr):\n",
    "    model = Sequential()\n",
    "    model.add(layers.Conv2D(32, (3, 3), activation='relu', input_shape=inputShape))\n",
    "    model.add(layers.MaxPooling2D((2, 2)))\n",
    "    model.add(layers.Conv2D(64, (3, 3), activation='relu'))\n",
    "    model.add(layers.MaxPooling2D((2, 2)))\n",
    "    model.add(layers.Flatten())\n",
    "    model.add(layers.Dense(100, activation='relu'))\n",
    "    model.add(layers.Dropout(0.5))\n",
    "    model.add(layers.Dense(outputSize, activation='softmax'))\n",
    "    opt = optimizers.SGD(learning_rate=lr)\n",
    "    model.compile(loss='CategoricalCrossentropy', optimizer=opt, metrics=['accuracy'])\n",
    "    return model"
   ]
  },
  {
   "cell_type": "code",
   "execution_count": 140,
   "id": "159cdb4b",
   "metadata": {},
   "outputs": [],
   "source": [
    "# Get normalized data\n",
    "X_train, y_age_train, y_race_train, age_labels, race_labels = createXY('project3_COSC525/train/', 'project3_COSC525/fairface_label_train.csv', 10000)\n",
    "X_test, y_age_test, y_race_test, _ , _ = createXY('project3_COSC525/val/', 'project3_COSC525/fairface_label_val.csv', 1000)"
   ]
  },
  {
   "cell_type": "code",
   "execution_count": 141,
   "id": "cc2bdd14",
   "metadata": {},
   "outputs": [],
   "source": [
    "# Perform task three; train and evaluate CNN for given train/test data\n",
    "def taskThree(X_train, y_train, X_test, y_test, lr, numEpochs, batchSize):\n",
    "    model = createOwnCNN((32, 32, 1), len(y_train[0]), lr)\n",
    "    model.fit(np.reshape(X_train, (X_train.shape[0], 32, 32)), y_train, validation_data=(np.reshape(X_test, (X_test.shape[0], 32, 32)), y_test), epochs=numEpochs, batch_size=batchSize, callbacks=callbacks)\n",
    "    y_true = getMax(y_test)\n",
    "    y_pred = getMax(model.predict(np.reshape(X_test, (X_test.shape[0], 32, 32))))\n",
    "    eval = tf.keras.metrics.Accuracy()\n",
    "    eval.update_state(y_true, y_pred)\n",
    "    print('Accuracy: ', eval.result().numpy())\n",
    "    c_matrix = confusion_matrix(y_true, y_pred)\n",
    "    print(c_matrix)\n"
   ]
  },
  {
   "cell_type": "code",
   "execution_count": null,
   "id": "45165262",
   "metadata": {},
   "outputs": [],
   "source": [
    "taskThree(X_train, y_age_train, X_test, y_age_test, 0.001, 120, 100)\n",
    "%tensorboard --logdir logs --port=6014"
   ]
  },
  {
   "cell_type": "code",
   "execution_count": null,
   "id": "475e2949",
   "metadata": {},
   "outputs": [],
   "source": [
    "taskThree(X_train, y_race_train, X_test, y_race_test, 0.001, 120, 100)\n",
    "%tensorboard --logdir logs --port=6015"
   ]
  },
  {
   "cell_type": "markdown",
   "id": "36e0a435-0e8d-4b79-80b7-a1dcc3500a93",
   "metadata": {},
   "source": [
    "## Task 4: Your own Convolutional Neural Network on both Tasks Simultaneously\n",
    "1. Build another convolutional neural network, where you try and classify both tasks with a single network. After your flatten layer have two more fully connected layers for each “branch”. Note that in order to do so you will not be able to use the Sequential model.\n",
    "2. Using Min-Max scaling to scale the training dataset and using the same Min and Max values from the training set scale the test dataset ( X−Xmin/Xmax−Xmin ).\n",
    "3. Using mini-batch gradient descent to optimize the loss function: “categorical cross-entropy” on the training dataset. Please record the loss value for each of the epochs and create an epoch-loss plot and an accuracy-loss plot for both the training and validation set.\n",
    "4. Report the following:\n",
    "    - Final classification accuracy.\n",
    "    - The n-class confusion matrix"
   ]
  },
  {
   "cell_type": "code",
   "execution_count": 193,
   "id": "34adc1f7-cadb-4126-a36e-6fbf4abd54e7",
   "metadata": {},
   "outputs": [],
   "source": [
    "# Setup CNN network model\n",
    "def createOwnCNNTwoTasks(inputShape, outputSizes, lr):\n",
    "    input = layers.Input(shape = inputShape)\n",
    "    conv1 = layers.Conv2D(32, (3, 3), activation='relu', name='conv1')(input)\n",
    "    max1 = layers.MaxPooling2D((2, 2), name='max1')(conv1)\n",
    "    conv2 = layers.Conv2D(64, (3, 3), activation='relu', name='conv2')(max1)\n",
    "    max2 = layers.MaxPooling2D((2, 2), name='max2')(conv2)\n",
    "    flatten = layers.Flatten()(max2)\n",
    "\n",
    "    # Branch 1\n",
    "    fc11 = layers.Dense(100, activation='relu', name='fc11')(flatten)\n",
    "    fc12 = layers.Dense(outputSizes[0], activation='softmax', name='fc12')(fc11)\n",
    "\n",
    "    # Branch 2\n",
    "    fc21 = layers.Dense(100, activation='relu', name='fc21')(flatten)\n",
    "    fc22 = layers.Dense(outputSizes[1], activation='softmax', name='fc22')(fc21)\n",
    "\n",
    "    # Concatenate output of branches\n",
    "    output = layers.concatenate([fc12, fc22])\n",
    "    model = keras.Model(inputs=input, outputs=output)\n",
    "\n",
    "    opt = optimizers.SGD(learning_rate=lr)\n",
    "    model.compile(loss='CategoricalCrossentropy', optimizer=opt, metrics=['accuracy'])\n",
    "    return model"
   ]
  },
  {
   "cell_type": "code",
   "execution_count": 194,
   "id": "e2b2e026",
   "metadata": {},
   "outputs": [],
   "source": [
    "# Get normalized data\n",
    "X_train, y_age_train, y_race_train, age_labels, race_labels = createXY('project3_COSC525/train/', 'project3_COSC525/fairface_label_train.csv', 10000)\n",
    "X_test, y_age_test, y_race_test, _ , _ = createXY('project3_COSC525/val/', 'project3_COSC525/fairface_label_val.csv', 1000)"
   ]
  },
  {
   "cell_type": "code",
   "execution_count": 195,
   "id": "6a99923c",
   "metadata": {},
   "outputs": [],
   "source": [
    "# Perform task four; train and evaluate CNN for given train/test data\n",
    "def taskFour(X_train, y_trains, X_test, y_tests, lr, numEpochs, batchSize, port):\n",
    "    model = createOwnCNNTwoTasks((32, 32, 1), (len(y_trains[0][0]), len(y_trains[1][0])), lr)\n",
    "    model.fit(np.reshape(X_train, (X_train.shape[0], 32, 32)), np.concatenate((y_trains[0], y_trains[1]), axis=1), validation_data=(np.reshape(X_test, (X_test.shape[0], 32, 32)), np.concatenate((y_tests[0], y_tests[1]), axis=1)), epochs=numEpochs, batch_size=batchSize, callbacks=callbacks)\n",
    "    y_true = getMax(np.concatenate((y_tests[0], y_tests[1]), axis=1))\n",
    "    y_pred = getMax(model.predict(np.reshape(X_test, (X_test.shape[0], 32, 32))))\n",
    "    eval = tf.keras.metrics.Accuracy()\n",
    "    eval.update_state(y_true, y_pred)\n",
    "    print('Accuracy: ', eval.result().numpy())\n",
    "    c_matrix = confusion_matrix(y_true, y_pred)\n",
    "    print(c_matrix)\n",
    "    %tensorboard --logdir logs --port=port"
   ]
  },
  {
   "cell_type": "code",
   "execution_count": null,
   "id": "d616f9de",
   "metadata": {},
   "outputs": [],
   "source": [
    "taskFour(X_train, (y_age_train, y_race_train), X_test, (y_age_test, y_race_test), 0.001, 120, 100)\n",
    "%tensorboard --logdir logs --port=6016"
   ]
  },
  {
   "cell_type": "markdown",
   "id": "ced8e48d-e509-40f8-9938-44e9106634fd",
   "metadata": {},
   "source": [
    "## Task 5: Variational Auto Encoder (COSC 525 only)\n",
    "1. Build a variational autoencoder with the following specifications (in this one you have a little more flexibility):\n",
    "    - Should have at least two convolution layers in the encoder and 2 deconvolution layers in the decoder.\n",
    "    - Latent dimension should be at least 5.\n",
    "    - Loss should be either MSE or binary cross entropy.\n",
    "2. Using Min-Max scaling to scale the training dataset and using the same Min and Max values from the training set scale the test dataset ( X−Xmin/Xmax−Xmin ).\n",
    "3. Using mini-batch gradient descent to optimize the loss function on the training dataset. Please record the loss value for each of the epochs and create an epoch-loss plot and an accuracy-loss plot for both the training and validation set.\n",
    "4. Qualitatively evaluate your model by generating a set of faces by randomly choosing 10 latent vectors and presenting the resulting images"
   ]
  },
  {
   "cell_type": "markdown",
   "id": "6ca6477f",
   "metadata": {},
   "source": [
    "VAE code adapted from https://keras.io/examples/generative/vae/"
   ]
  },
  {
   "cell_type": "code",
   "execution_count": 85,
   "id": "3aef84de-003b-4121-b3eb-1bbe48339d2d",
   "metadata": {},
   "outputs": [],
   "source": [
    "# Sampling layer\n",
    "class Sampling(layers.Layer):\n",
    "    \"\"\"Uses (z_mean, z_log_var) to sample z, the vector encoding a digit.\"\"\"\n",
    "\n",
    "    def call(self, inputs):\n",
    "        z_mean, z_log_var = inputs\n",
    "        batch = tf.shape(z_mean)[0]\n",
    "        dim = tf.shape(z_mean)[1]\n",
    "        epsilon = tf.keras.backend.random_normal(shape=(batch, dim))\n",
    "        return z_mean + tf.exp(0.5 * z_log_var) * epsilon"
   ]
  },
  {
   "cell_type": "code",
   "execution_count": 86,
   "id": "8372d7ec",
   "metadata": {},
   "outputs": [
    {
     "name": "stdout",
     "output_type": "stream",
     "text": [
      "Model: \"encoder\"\n",
      "__________________________________________________________________________________________________\n",
      " Layer (type)                   Output Shape         Param #     Connected to                     \n",
      "==================================================================================================\n",
      " input_9 (InputLayer)           [(None, 32, 32, 1)]  0           []                               \n",
      "                                                                                                  \n",
      " conv2d_12 (Conv2D)             (None, 16, 16, 32)   320         ['input_9[0][0]']                \n",
      "                                                                                                  \n",
      " conv2d_13 (Conv2D)             (None, 8, 8, 64)     18496       ['conv2d_12[0][0]']              \n",
      "                                                                                                  \n",
      " conv2d_14 (Conv2D)             (None, 4, 4, 64)     36928       ['conv2d_13[0][0]']              \n",
      "                                                                                                  \n",
      " conv2d_15 (Conv2D)             (None, 2, 2, 64)     36928       ['conv2d_14[0][0]']              \n",
      "                                                                                                  \n",
      " flatten_4 (Flatten)            (None, 256)          0           ['conv2d_15[0][0]']              \n",
      "                                                                                                  \n",
      " dense_8 (Dense)                (None, 16)           4112        ['flatten_4[0][0]']              \n",
      "                                                                                                  \n",
      " z_mean (Dense)                 (None, 15)           255         ['dense_8[0][0]']                \n",
      "                                                                                                  \n",
      " z_log_var (Dense)              (None, 15)           255         ['dense_8[0][0]']                \n",
      "                                                                                                  \n",
      " sampling_4 (Sampling)          (None, 15)           0           ['z_mean[0][0]',                 \n",
      "                                                                  'z_log_var[0][0]']              \n",
      "                                                                                                  \n",
      "==================================================================================================\n",
      "Total params: 97,294\n",
      "Trainable params: 97,294\n",
      "Non-trainable params: 0\n",
      "__________________________________________________________________________________________________\n"
     ]
    }
   ],
   "source": [
    "# Encoder model\n",
    "latent_dim = 15\n",
    "\n",
    "encoder_inputs = keras.Input(shape=(32, 32, 1))\n",
    "x = layers.Conv2D(32, 3, activation=\"relu\", strides=2, padding=\"same\")(encoder_inputs)\n",
    "x = layers.Conv2D(64, 3, activation=\"relu\", strides=2, padding=\"same\")(x)\n",
    "x = layers.Conv2D(64, 3, activation=\"relu\", strides=2, padding=\"same\")(x)\n",
    "x = layers.Conv2D(64, 3, activation=\"relu\", strides=2, padding=\"same\")(x)\n",
    "x = layers.Flatten()(x)\n",
    "x = layers.Dense(16, activation=\"relu\")(x)\n",
    "z_mean = layers.Dense(latent_dim, name=\"z_mean\")(x)\n",
    "z_log_var = layers.Dense(latent_dim, name=\"z_log_var\")(x)\n",
    "z = Sampling()([z_mean, z_log_var])\n",
    "encoder = keras.Model(encoder_inputs, [z_mean, z_log_var, z], name=\"encoder\")\n",
    "encoder.summary()"
   ]
  },
  {
   "cell_type": "code",
   "execution_count": 87,
   "id": "c7fad597",
   "metadata": {},
   "outputs": [
    {
     "name": "stdout",
     "output_type": "stream",
     "text": [
      "Model: \"decoder\"\n",
      "_________________________________________________________________\n",
      " Layer (type)                Output Shape              Param #   \n",
      "=================================================================\n",
      " input_10 (InputLayer)       [(None, 15)]              0         \n",
      "                                                                 \n",
      " dense_9 (Dense)             (None, 256)               4096      \n",
      "                                                                 \n",
      " reshape_4 (Reshape)         (None, 2, 2, 64)          0         \n",
      "                                                                 \n",
      " conv2d_transpose_17 (Conv2D  (None, 4, 4, 64)         36928     \n",
      " Transpose)                                                      \n",
      "                                                                 \n",
      " conv2d_transpose_18 (Conv2D  (None, 8, 8, 64)         36928     \n",
      " Transpose)                                                      \n",
      "                                                                 \n",
      " conv2d_transpose_19 (Conv2D  (None, 16, 16, 64)       36928     \n",
      " Transpose)                                                      \n",
      "                                                                 \n",
      " conv2d_transpose_20 (Conv2D  (None, 32, 32, 32)       18464     \n",
      " Transpose)                                                      \n",
      "                                                                 \n",
      " conv2d_transpose_21 (Conv2D  (None, 32, 32, 1)        289       \n",
      " Transpose)                                                      \n",
      "                                                                 \n",
      "=================================================================\n",
      "Total params: 133,633\n",
      "Trainable params: 133,633\n",
      "Non-trainable params: 0\n",
      "_________________________________________________________________\n"
     ]
    }
   ],
   "source": [
    "# Decoder model\n",
    "latent_inputs = keras.Input(shape=(latent_dim,))\n",
    "x = layers.Dense(2 * 2 * 64, activation=\"relu\")(latent_inputs)\n",
    "x = layers.Reshape((2, 2, 64))(x)\n",
    "x = layers.Conv2DTranspose(64, 3, activation=\"relu\", strides=2, padding=\"same\")(x)\n",
    "x = layers.Conv2DTranspose(64, 3, activation=\"relu\", strides=2, padding=\"same\")(x)\n",
    "x = layers.Conv2DTranspose(64, 3, activation=\"relu\", strides=2, padding=\"same\")(x)\n",
    "x = layers.Conv2DTranspose(32, 3, activation=\"relu\", strides=2, padding=\"same\")(x)\n",
    "decoder_outputs = layers.Conv2DTranspose(1, 3, activation=\"sigmoid\", padding=\"same\")(x)\n",
    "decoder = keras.Model(latent_inputs, decoder_outputs, name=\"decoder\")\n",
    "decoder.summary()"
   ]
  },
  {
   "cell_type": "code",
   "execution_count": 88,
   "id": "35903b51",
   "metadata": {},
   "outputs": [],
   "source": [
    "# Variational AutoEncoder model class\n",
    "class VAE(keras.Model):\n",
    "    def __init__(self, encoder, decoder, **kwargs):\n",
    "        super().__init__(**kwargs)\n",
    "        self.encoder = encoder\n",
    "        self.decoder = decoder\n",
    "        self.total_loss_tracker = keras.metrics.Mean(name=\"total_loss\")\n",
    "        self.reconstruction_loss_tracker = keras.metrics.Mean(\n",
    "            name=\"reconstruction_loss\"\n",
    "        )\n",
    "        self.kl_loss_tracker = keras.metrics.Mean(name=\"kl_loss\")\n",
    "\n",
    "    @property\n",
    "    def metrics(self):\n",
    "        return [\n",
    "            self.total_loss_tracker,\n",
    "            self.reconstruction_loss_tracker,\n",
    "            self.kl_loss_tracker,\n",
    "        ]\n",
    "\n",
    "    def train_step(self, data):\n",
    "        with tf.GradientTape() as tape:\n",
    "            z_mean, z_log_var, z = self.encoder(data)\n",
    "            reconstruction = self.decoder(z)\n",
    "            reconstruction_loss = tf.reduce_mean(\n",
    "                tf.reduce_sum(\n",
    "                    keras.losses.mean_squared_error(data, reconstruction), axis=(1, 2)\n",
    "                )\n",
    "            )\n",
    "            kl_loss = -0.5 * (1 + z_log_var - tf.square(z_mean) - tf.exp(z_log_var))\n",
    "            kl_loss = tf.reduce_mean(tf.reduce_sum(kl_loss, axis=1))\n",
    "            total_loss = reconstruction_loss + kl_loss\n",
    "        grads = tape.gradient(total_loss, self.trainable_weights)\n",
    "        self.optimizer.apply_gradients(zip(grads, self.trainable_weights))\n",
    "        self.total_loss_tracker.update_state(total_loss)\n",
    "        self.reconstruction_loss_tracker.update_state(reconstruction_loss)\n",
    "        self.kl_loss_tracker.update_state(kl_loss)\n",
    "        return {\n",
    "            \"loss\": self.total_loss_tracker.result(),\n",
    "            \"reconstruction_loss\": self.reconstruction_loss_tracker.result(),\n",
    "            \"kl_loss\": self.kl_loss_tracker.result(),\n",
    "        }"
   ]
  },
  {
   "cell_type": "code",
   "execution_count": null,
   "id": "7a24d089",
   "metadata": {},
   "outputs": [],
   "source": [
    "# Create and train VAE on all face images\n",
    "X_train, _, _, _, _ = createXY('project3_COSC525/train/', 'project3_COSC525/fairface_label_train.csv', 'age', 10000)\n",
    "X_test, _, _ , _, _ = createXY('project3_COSC525/val/', 'project3_COSC525/fairface_label_val.csv', 'age', 1000)\n",
    "all_faces = np.concatenate([X_train, X_test], axis=0)\n",
    "\n",
    "vae = VAE(encoder, decoder)\n",
    "vae.compile(optimizer=keras.optimizers.SGD(learning_rate=0.0005))\n",
    "vae.fit(np.reshape(all_faces, (11000, 32, 32, 1)), epochs=10000, batch_size=128, verbose=0)"
   ]
  },
  {
   "cell_type": "code",
   "execution_count": 78,
   "id": "cc0cdc87",
   "metadata": {},
   "outputs": [
    {
     "name": "stdout",
     "output_type": "stream",
     "text": [
      "1/1 [==============================] - 0s 20ms/step\n",
      "1/1 [==============================] - 0s 24ms/step\n"
     ]
    }
   ],
   "source": [
    "# Test generating some (non-random) faces\n",
    "preds = vae.encoder.predict(np.reshape(all_faces, (10, 32, 32, 1)))[0]\n",
    "# gen = vae.decoder.predict(np.reshape(np.mean(preds, axis=0), (1, 5)))[0]\n",
    "gen = vae.decoder.predict(np.reshape(preds[4], (1, latent_dim)))[0]\n",
    "gen = np.reshape(gen, (32, 32))\n",
    "im = Image.fromarray(np.uint8(gen * 255), 'L')\n",
    "im.save(\"test.png\")\n",
    "comp_im = Image.open(\"project3_COSC525/train/5.jpg\")\n",
    "comp_im.save(\"test_comp.png\")"
   ]
  }
 ],
 "metadata": {
  "kernelspec": {
   "display_name": "Python 3 (ipykernel)",
   "language": "python",
   "name": "python3"
  },
  "language_info": {
   "codemirror_mode": {
    "name": "ipython",
    "version": 3
   },
   "file_extension": ".py",
   "mimetype": "text/x-python",
   "name": "python",
   "nbconvert_exporter": "python",
   "pygments_lexer": "ipython3",
   "version": "3.11.0"
  },
  "vscode": {
   "interpreter": {
    "hash": "e23b663014ca37592679400f38d6d04e3fc85e5c6f63651f80341cade9e63d21"
   }
  }
 },
 "nbformat": 4,
 "nbformat_minor": 5
}
